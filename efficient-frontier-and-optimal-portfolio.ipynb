{
 "cells": [
  {
   "cell_type": "markdown",
   "metadata": {},
   "source": [
    "# Importing Libraries"
   ]
  },
  {
   "cell_type": "code",
   "execution_count": 2,
   "metadata": {
    "colab": {
     "base_uri": "https://localhost:8080/"
    },
    "id": "KSUA3G9HD6Jo",
    "outputId": "29a188c6-5491-450b-b955-6f6884e98743"
   },
   "outputs": [],
   "source": [
    "# %pip install PyPortfolioOpt"
   ]
  },
  {
   "cell_type": "code",
   "execution_count": 4,
   "metadata": {
    "colab": {
     "base_uri": "https://localhost:8080/"
    },
    "id": "_Vy5ZABvFxQR",
    "outputId": "75985420-d7cf-4413-e43a-5440f5cf675f"
   },
   "outputs": [],
   "source": [
    "# %pip install yfinance"
   ]
  },
  {
   "cell_type": "code",
   "execution_count": 6,
   "metadata": {
    "colab": {
     "base_uri": "https://localhost:8080/"
    },
    "id": "m1RsX_vBGYMa",
    "outputId": "21596d91-ae00-4ce1-c34d-a73dd590db43"
   },
   "outputs": [],
   "source": [
    "# %pip install fredapi"
   ]
  },
  {
   "cell_type": "code",
   "execution_count": 7,
   "metadata": {
    "colab": {
     "base_uri": "https://localhost:8080/"
    },
    "id": "n5E-CGPNDaVd",
    "outputId": "50deefaf-a891-4051-8020-d0db975f98d8"
   },
   "outputs": [],
   "source": [
    "import pandas as pd\n",
    "import numpy as np\n",
    "import yfinance as yf\n",
    "from fredapi import Fred\n",
    "import datetime\n",
    "import time\n",
    "import requests\n",
    "import io\n",
    "import statsmodels.api as sm\n",
    "from scipy import stats\n",
    "\n",
    "import matplotlib.pyplot as plt\n",
    "import seaborn as sns"
   ]
  },
  {
   "cell_type": "code",
   "execution_count": 8,
   "metadata": {
    "id": "21nDdANEFqvb"
   },
   "outputs": [],
   "source": [
    "from pypfopt import EfficientFrontier\n",
    "from pypfopt import risk_models\n",
    "from pypfopt import expected_returns"
   ]
  },
  {
   "cell_type": "markdown",
   "metadata": {
    "id": "rS3vZgxXDaV3"
   },
   "source": [
    "# 1. Data Importing"
   ]
  },
  {
   "cell_type": "markdown",
   "metadata": {
    "id": "9B_cfLNeDaWS"
   },
   "source": [
    "The time period for analysis is from January 1, 2014 to December 31, 2020. "
   ]
  },
  {
   "cell_type": "code",
   "execution_count": 9,
   "metadata": {
    "id": "kORQQ0KVDaWb"
   },
   "outputs": [],
   "source": [
    "start = datetime.datetime(2018,1,1)\n",
    "end = datetime.datetime(2020,12,31)"
   ]
  },
  {
   "cell_type": "markdown",
   "metadata": {
    "id": "CShOobhTDaWn"
   },
   "source": [
    "## 1.1 Downlaoding SPDR ETFs and "
   ]
  },
  {
   "cell_type": "markdown",
   "metadata": {
    "id": "TP77pgWTDaWr"
   },
   "source": [
    "For the purpose of this project we focus on \"Close\" prices. "
   ]
  },
  {
   "cell_type": "code",
   "execution_count": 10,
   "metadata": {
    "id": "rXQVkrlADaW8"
   },
   "outputs": [],
   "source": [
    "# Creating a DataFrame of SPDR ETF Prices\n",
    "\n",
    "spdr_etf_lst = ['XLK', 'XLF', 'XLU', 'XLP', 'XLV', 'XLRE', 'XLE', 'XLY', 'XLB', 'XLC', 'XLI']\n",
    "\n",
    "aux_ = yf.download(spdr_etf_lst[0], start=start, end=end, progress=False)\n",
    "spdr_etf_price = aux_.Close.rename(spdr_etf_lst[0]).to_frame()\n",
    "for tkr in spdr_etf_lst[1:]:\n",
    "    aux_ = yf.download(tkr, start=start, end=end, progress=False)\n",
    "    spdr_etf_price = pd.concat([spdr_etf_price, aux_.Close.rename(tkr).to_frame()], axis = 1)    "
   ]
  },
  {
   "cell_type": "code",
   "execution_count": 11,
   "metadata": {
    "colab": {
     "base_uri": "https://localhost:8080/"
    },
    "id": "zk9tCzwMDaXW",
    "outputId": "e0d75c16-d8c6-470f-cb9c-0cb1c606f931"
   },
   "outputs": [
    {
     "data": {
      "text/plain": [
       "(755, 11)"
      ]
     },
     "execution_count": 11,
     "metadata": {},
     "output_type": "execute_result"
    }
   ],
   "source": [
    "spdr_etf_price.shape"
   ]
  },
  {
   "cell_type": "code",
   "execution_count": 12,
   "metadata": {
    "colab": {
     "base_uri": "https://localhost:8080/",
     "height": 455
    },
    "id": "gD-6j6k5DaXu",
    "outputId": "53cef2ea-87b5-4233-cea7-2c109a5f6e7e"
   },
   "outputs": [
    {
     "data": {
      "text/html": [
       "<div>\n",
       "<style scoped>\n",
       "    .dataframe tbody tr th:only-of-type {\n",
       "        vertical-align: middle;\n",
       "    }\n",
       "\n",
       "    .dataframe tbody tr th {\n",
       "        vertical-align: top;\n",
       "    }\n",
       "\n",
       "    .dataframe thead th {\n",
       "        text-align: right;\n",
       "    }\n",
       "</style>\n",
       "<table border=\"1\" class=\"dataframe\">\n",
       "  <thead>\n",
       "    <tr style=\"text-align: right;\">\n",
       "      <th></th>\n",
       "      <th>XLK</th>\n",
       "      <th>XLF</th>\n",
       "      <th>XLU</th>\n",
       "      <th>XLP</th>\n",
       "      <th>XLV</th>\n",
       "      <th>XLRE</th>\n",
       "      <th>XLE</th>\n",
       "      <th>XLY</th>\n",
       "      <th>XLB</th>\n",
       "      <th>XLC</th>\n",
       "      <th>XLI</th>\n",
       "    </tr>\n",
       "    <tr>\n",
       "      <th>Date</th>\n",
       "      <th></th>\n",
       "      <th></th>\n",
       "      <th></th>\n",
       "      <th></th>\n",
       "      <th></th>\n",
       "      <th></th>\n",
       "      <th></th>\n",
       "      <th></th>\n",
       "      <th></th>\n",
       "      <th></th>\n",
       "      <th></th>\n",
       "    </tr>\n",
       "  </thead>\n",
       "  <tbody>\n",
       "    <tr>\n",
       "      <th>2018-01-02</th>\n",
       "      <td>64.739998</td>\n",
       "      <td>27.920000</td>\n",
       "      <td>52.189999</td>\n",
       "      <td>56.540001</td>\n",
       "      <td>83.610001</td>\n",
       "      <td>32.750000</td>\n",
       "      <td>73.449997</td>\n",
       "      <td>100.190002</td>\n",
       "      <td>61.389999</td>\n",
       "      <td>NaN</td>\n",
       "      <td>76.120003</td>\n",
       "    </tr>\n",
       "    <tr>\n",
       "      <th>2018-01-03</th>\n",
       "      <td>65.279999</td>\n",
       "      <td>28.070000</td>\n",
       "      <td>51.779999</td>\n",
       "      <td>56.520000</td>\n",
       "      <td>84.410004</td>\n",
       "      <td>32.759998</td>\n",
       "      <td>74.550003</td>\n",
       "      <td>100.650002</td>\n",
       "      <td>61.820000</td>\n",
       "      <td>NaN</td>\n",
       "      <td>76.529999</td>\n",
       "    </tr>\n",
       "    <tr>\n",
       "      <th>2018-01-04</th>\n",
       "      <td>65.610001</td>\n",
       "      <td>28.330000</td>\n",
       "      <td>51.349998</td>\n",
       "      <td>56.680000</td>\n",
       "      <td>84.529999</td>\n",
       "      <td>32.200001</td>\n",
       "      <td>75.000000</td>\n",
       "      <td>100.980003</td>\n",
       "      <td>62.360001</td>\n",
       "      <td>NaN</td>\n",
       "      <td>77.089996</td>\n",
       "    </tr>\n",
       "    <tr>\n",
       "      <th>2018-01-05</th>\n",
       "      <td>66.300003</td>\n",
       "      <td>28.410000</td>\n",
       "      <td>51.330002</td>\n",
       "      <td>56.930000</td>\n",
       "      <td>85.250000</td>\n",
       "      <td>32.270000</td>\n",
       "      <td>74.970001</td>\n",
       "      <td>101.779999</td>\n",
       "      <td>62.860001</td>\n",
       "      <td>NaN</td>\n",
       "      <td>77.620003</td>\n",
       "    </tr>\n",
       "    <tr>\n",
       "      <th>2018-01-08</th>\n",
       "      <td>66.550003</td>\n",
       "      <td>28.370001</td>\n",
       "      <td>51.810001</td>\n",
       "      <td>57.070000</td>\n",
       "      <td>84.940002</td>\n",
       "      <td>32.490002</td>\n",
       "      <td>75.419998</td>\n",
       "      <td>101.900002</td>\n",
       "      <td>62.950001</td>\n",
       "      <td>NaN</td>\n",
       "      <td>77.940002</td>\n",
       "    </tr>\n",
       "    <tr>\n",
       "      <th>...</th>\n",
       "      <td>...</td>\n",
       "      <td>...</td>\n",
       "      <td>...</td>\n",
       "      <td>...</td>\n",
       "      <td>...</td>\n",
       "      <td>...</td>\n",
       "      <td>...</td>\n",
       "      <td>...</td>\n",
       "      <td>...</td>\n",
       "      <td>...</td>\n",
       "      <td>...</td>\n",
       "    </tr>\n",
       "    <tr>\n",
       "      <th>2020-12-23</th>\n",
       "      <td>128.210007</td>\n",
       "      <td>28.910000</td>\n",
       "      <td>60.779999</td>\n",
       "      <td>66.389999</td>\n",
       "      <td>111.150002</td>\n",
       "      <td>35.560001</td>\n",
       "      <td>38.320000</td>\n",
       "      <td>157.550003</td>\n",
       "      <td>71.129997</td>\n",
       "      <td>66.190002</td>\n",
       "      <td>87.989998</td>\n",
       "    </tr>\n",
       "    <tr>\n",
       "      <th>2020-12-24</th>\n",
       "      <td>129.059998</td>\n",
       "      <td>28.950001</td>\n",
       "      <td>61.209999</td>\n",
       "      <td>66.720001</td>\n",
       "      <td>111.470001</td>\n",
       "      <td>35.910000</td>\n",
       "      <td>38.119999</td>\n",
       "      <td>157.880005</td>\n",
       "      <td>71.580002</td>\n",
       "      <td>66.260002</td>\n",
       "      <td>88.000000</td>\n",
       "    </tr>\n",
       "    <tr>\n",
       "      <th>2020-12-28</th>\n",
       "      <td>130.520004</td>\n",
       "      <td>29.090000</td>\n",
       "      <td>61.480000</td>\n",
       "      <td>67.250000</td>\n",
       "      <td>111.750000</td>\n",
       "      <td>36.200001</td>\n",
       "      <td>37.880001</td>\n",
       "      <td>159.679993</td>\n",
       "      <td>71.300003</td>\n",
       "      <td>67.449997</td>\n",
       "      <td>88.110001</td>\n",
       "    </tr>\n",
       "    <tr>\n",
       "      <th>2020-12-29</th>\n",
       "      <td>129.899994</td>\n",
       "      <td>28.990000</td>\n",
       "      <td>61.470001</td>\n",
       "      <td>67.050003</td>\n",
       "      <td>112.279999</td>\n",
       "      <td>35.919998</td>\n",
       "      <td>37.630001</td>\n",
       "      <td>159.729996</td>\n",
       "      <td>71.129997</td>\n",
       "      <td>67.389999</td>\n",
       "      <td>87.580002</td>\n",
       "    </tr>\n",
       "    <tr>\n",
       "      <th>2020-12-30</th>\n",
       "      <td>129.830002</td>\n",
       "      <td>29.120001</td>\n",
       "      <td>61.779999</td>\n",
       "      <td>66.980003</td>\n",
       "      <td>112.260002</td>\n",
       "      <td>36.119999</td>\n",
       "      <td>38.220001</td>\n",
       "      <td>160.690002</td>\n",
       "      <td>72.110001</td>\n",
       "      <td>66.940002</td>\n",
       "      <td>88.139999</td>\n",
       "    </tr>\n",
       "  </tbody>\n",
       "</table>\n",
       "<p>755 rows × 11 columns</p>\n",
       "</div>"
      ],
      "text/plain": [
       "                   XLK        XLF        XLU        XLP         XLV  \\\n",
       "Date                                                                  \n",
       "2018-01-02   64.739998  27.920000  52.189999  56.540001   83.610001   \n",
       "2018-01-03   65.279999  28.070000  51.779999  56.520000   84.410004   \n",
       "2018-01-04   65.610001  28.330000  51.349998  56.680000   84.529999   \n",
       "2018-01-05   66.300003  28.410000  51.330002  56.930000   85.250000   \n",
       "2018-01-08   66.550003  28.370001  51.810001  57.070000   84.940002   \n",
       "...                ...        ...        ...        ...         ...   \n",
       "2020-12-23  128.210007  28.910000  60.779999  66.389999  111.150002   \n",
       "2020-12-24  129.059998  28.950001  61.209999  66.720001  111.470001   \n",
       "2020-12-28  130.520004  29.090000  61.480000  67.250000  111.750000   \n",
       "2020-12-29  129.899994  28.990000  61.470001  67.050003  112.279999   \n",
       "2020-12-30  129.830002  29.120001  61.779999  66.980003  112.260002   \n",
       "\n",
       "                 XLRE        XLE         XLY        XLB        XLC        XLI  \n",
       "Date                                                                           \n",
       "2018-01-02  32.750000  73.449997  100.190002  61.389999        NaN  76.120003  \n",
       "2018-01-03  32.759998  74.550003  100.650002  61.820000        NaN  76.529999  \n",
       "2018-01-04  32.200001  75.000000  100.980003  62.360001        NaN  77.089996  \n",
       "2018-01-05  32.270000  74.970001  101.779999  62.860001        NaN  77.620003  \n",
       "2018-01-08  32.490002  75.419998  101.900002  62.950001        NaN  77.940002  \n",
       "...               ...        ...         ...        ...        ...        ...  \n",
       "2020-12-23  35.560001  38.320000  157.550003  71.129997  66.190002  87.989998  \n",
       "2020-12-24  35.910000  38.119999  157.880005  71.580002  66.260002  88.000000  \n",
       "2020-12-28  36.200001  37.880001  159.679993  71.300003  67.449997  88.110001  \n",
       "2020-12-29  35.919998  37.630001  159.729996  71.129997  67.389999  87.580002  \n",
       "2020-12-30  36.119999  38.220001  160.690002  72.110001  66.940002  88.139999  \n",
       "\n",
       "[755 rows x 11 columns]"
      ]
     },
     "execution_count": 12,
     "metadata": {},
     "output_type": "execute_result"
    }
   ],
   "source": [
    "spdr_etf_price"
   ]
  },
  {
   "cell_type": "markdown",
   "metadata": {
    "id": "r-Zjlxo-DaYP"
   },
   "source": [
    "In the function below we are trying to select the first trading dates in each month. Since the returns are daily and the economic leading index values are reported monthly, we should have the monthly dates for which there is a value for returns and index values. That is what the block below is trying to accomplish. "
   ]
  },
  {
   "cell_type": "code",
   "execution_count": 13,
   "metadata": {
    "id": "GUynh68UDaYT"
   },
   "outputs": [],
   "source": [
    "def to_monthly(df0, start=start, end=end):\n",
    "    \"\"\"\n",
    "    Argument:\n",
    "        df: the dataframe whose index is going to be standardized to monthly format\n",
    "        start: start date\n",
    "        end: end date\n",
    "        \n",
    "    Returns:\n",
    "        a dataframe with monthy index   \n",
    "    \n",
    "    \"\"\"\n",
    "    df = df0.copy()\n",
    "    df.index = df.index.to_period('M')\n",
    "\n",
    "    dates_monthly = pd.date_range(start,end,freq='m').to_period('M')\n",
    "\n",
    "    aux_df = pd.DataFrame([]*len(dates_monthly), index = dates_monthly, columns = df.columns) \n",
    "\n",
    "    for i in range(len(dates_monthly)):\n",
    "        d1 = aux_df.index[i]\n",
    "\n",
    "        if d1 in df.index:\n",
    "            aux_df.loc[d1,] = df[df.index == d1].iloc[-1]   #.loc[d1,:].iloc[0,:]\n",
    "        else:\n",
    "            aux_df.loc[d1,] = aux_df.loc[ aux_df.index[i-1], : ]\n",
    "            \n",
    "    return(aux_df)"
   ]
  },
  {
   "cell_type": "markdown",
   "metadata": {
    "id": "81kK0n5mDaYX"
   },
   "source": [
    "# 2. Data Processing"
   ]
  },
  {
   "cell_type": "markdown",
   "metadata": {
    "id": "7NryGMJEDaYe"
   },
   "source": [
    "## 2.1 Form Portfolio"
   ]
  },
  {
   "cell_type": "markdown",
   "metadata": {
    "id": "nDiFxUu1DaYk"
   },
   "source": [
    "#### We select Technology and Healthcare ETFs. Namely: XLK and XLF. We use 100 shares of each. \n",
    "#### To form an equally weighted portfolio of the above ETFs, we assume we have 100 million dollar asset under management. Thus 50 million dollar will be allocated to XLK and 50 million dollar will be allocated to XLV. For the sake of simplicity we assume that a fraction of number of ETFs is available to purchase. "
   ]
  },
  {
   "cell_type": "code",
   "execution_count": 14,
   "metadata": {
    "id": "tYZhxRh2DaYo"
   },
   "outputs": [],
   "source": [
    "n_xlk = (50000000)/spdr_etf_price['XLK'][0]\n",
    "n_xlv = (50000000)/spdr_etf_price['XLV'][0]\n"
   ]
  },
  {
   "cell_type": "code",
   "execution_count": 15,
   "metadata": {
    "colab": {
     "base_uri": "https://localhost:8080/"
    },
    "id": "vt7E9kGsDaYu",
    "outputId": "0197000b-359c-4ae2-c372-6d0bd8066d0d"
   },
   "outputs": [
    {
     "name": "stdout",
     "output_type": "stream",
     "text": [
      " - Number of XLK ETFs = 772320.0749127846\n",
      " - Number of XLV ETFs = 598014.5871905377\n"
     ]
    }
   ],
   "source": [
    "print( f' - Number of XLK ETFs = {n_xlk}')\n",
    "print( f' - Number of XLV ETFs = {n_xlv}')"
   ]
  },
  {
   "cell_type": "markdown",
   "metadata": {
    "id": "BM9yoOajDaYw"
   },
   "source": [
    "## 2.2 Standard Deviations"
   ]
  },
  {
   "cell_type": "code",
   "execution_count": 16,
   "metadata": {
    "id": "CMwdZF6WDaYy"
   },
   "outputs": [],
   "source": [
    "# Calculating Daily Returns of SPDR ETFs\n",
    "#spdr_etf_price = to_monthly(spdr_etf_price)\n",
    "spdr_etf_rtns = spdr_etf_price.pct_change(1).iloc[1:,:]"
   ]
  },
  {
   "cell_type": "code",
   "execution_count": 17,
   "metadata": {
    "colab": {
     "base_uri": "https://localhost:8080/",
     "height": 237
    },
    "id": "Tc2kEwtaDaY3",
    "outputId": "9fe2f8af-af11-4ad2-c7e7-c2067aab1a7e"
   },
   "outputs": [
    {
     "data": {
      "text/html": [
       "<div>\n",
       "<style scoped>\n",
       "    .dataframe tbody tr th:only-of-type {\n",
       "        vertical-align: middle;\n",
       "    }\n",
       "\n",
       "    .dataframe tbody tr th {\n",
       "        vertical-align: top;\n",
       "    }\n",
       "\n",
       "    .dataframe thead th {\n",
       "        text-align: right;\n",
       "    }\n",
       "</style>\n",
       "<table border=\"1\" class=\"dataframe\">\n",
       "  <thead>\n",
       "    <tr style=\"text-align: right;\">\n",
       "      <th></th>\n",
       "      <th>XLK</th>\n",
       "      <th>XLF</th>\n",
       "      <th>XLU</th>\n",
       "      <th>XLP</th>\n",
       "      <th>XLV</th>\n",
       "      <th>XLRE</th>\n",
       "      <th>XLE</th>\n",
       "      <th>XLY</th>\n",
       "      <th>XLB</th>\n",
       "      <th>XLC</th>\n",
       "      <th>XLI</th>\n",
       "    </tr>\n",
       "    <tr>\n",
       "      <th>Date</th>\n",
       "      <th></th>\n",
       "      <th></th>\n",
       "      <th></th>\n",
       "      <th></th>\n",
       "      <th></th>\n",
       "      <th></th>\n",
       "      <th></th>\n",
       "      <th></th>\n",
       "      <th></th>\n",
       "      <th></th>\n",
       "      <th></th>\n",
       "    </tr>\n",
       "  </thead>\n",
       "  <tbody>\n",
       "    <tr>\n",
       "      <th>2018-01-02</th>\n",
       "      <td>64.739998</td>\n",
       "      <td>27.920000</td>\n",
       "      <td>52.189999</td>\n",
       "      <td>56.540001</td>\n",
       "      <td>83.610001</td>\n",
       "      <td>32.750000</td>\n",
       "      <td>73.449997</td>\n",
       "      <td>100.190002</td>\n",
       "      <td>61.389999</td>\n",
       "      <td>NaN</td>\n",
       "      <td>76.120003</td>\n",
       "    </tr>\n",
       "    <tr>\n",
       "      <th>2018-01-03</th>\n",
       "      <td>65.279999</td>\n",
       "      <td>28.070000</td>\n",
       "      <td>51.779999</td>\n",
       "      <td>56.520000</td>\n",
       "      <td>84.410004</td>\n",
       "      <td>32.759998</td>\n",
       "      <td>74.550003</td>\n",
       "      <td>100.650002</td>\n",
       "      <td>61.820000</td>\n",
       "      <td>NaN</td>\n",
       "      <td>76.529999</td>\n",
       "    </tr>\n",
       "    <tr>\n",
       "      <th>2018-01-04</th>\n",
       "      <td>65.610001</td>\n",
       "      <td>28.330000</td>\n",
       "      <td>51.349998</td>\n",
       "      <td>56.680000</td>\n",
       "      <td>84.529999</td>\n",
       "      <td>32.200001</td>\n",
       "      <td>75.000000</td>\n",
       "      <td>100.980003</td>\n",
       "      <td>62.360001</td>\n",
       "      <td>NaN</td>\n",
       "      <td>77.089996</td>\n",
       "    </tr>\n",
       "    <tr>\n",
       "      <th>2018-01-05</th>\n",
       "      <td>66.300003</td>\n",
       "      <td>28.410000</td>\n",
       "      <td>51.330002</td>\n",
       "      <td>56.930000</td>\n",
       "      <td>85.250000</td>\n",
       "      <td>32.270000</td>\n",
       "      <td>74.970001</td>\n",
       "      <td>101.779999</td>\n",
       "      <td>62.860001</td>\n",
       "      <td>NaN</td>\n",
       "      <td>77.620003</td>\n",
       "    </tr>\n",
       "    <tr>\n",
       "      <th>2018-01-08</th>\n",
       "      <td>66.550003</td>\n",
       "      <td>28.370001</td>\n",
       "      <td>51.810001</td>\n",
       "      <td>57.070000</td>\n",
       "      <td>84.940002</td>\n",
       "      <td>32.490002</td>\n",
       "      <td>75.419998</td>\n",
       "      <td>101.900002</td>\n",
       "      <td>62.950001</td>\n",
       "      <td>NaN</td>\n",
       "      <td>77.940002</td>\n",
       "    </tr>\n",
       "  </tbody>\n",
       "</table>\n",
       "</div>"
      ],
      "text/plain": [
       "                  XLK        XLF        XLU        XLP        XLV       XLRE  \\\n",
       "Date                                                                           \n",
       "2018-01-02  64.739998  27.920000  52.189999  56.540001  83.610001  32.750000   \n",
       "2018-01-03  65.279999  28.070000  51.779999  56.520000  84.410004  32.759998   \n",
       "2018-01-04  65.610001  28.330000  51.349998  56.680000  84.529999  32.200001   \n",
       "2018-01-05  66.300003  28.410000  51.330002  56.930000  85.250000  32.270000   \n",
       "2018-01-08  66.550003  28.370001  51.810001  57.070000  84.940002  32.490002   \n",
       "\n",
       "                  XLE         XLY        XLB  XLC        XLI  \n",
       "Date                                                          \n",
       "2018-01-02  73.449997  100.190002  61.389999  NaN  76.120003  \n",
       "2018-01-03  74.550003  100.650002  61.820000  NaN  76.529999  \n",
       "2018-01-04  75.000000  100.980003  62.360001  NaN  77.089996  \n",
       "2018-01-05  74.970001  101.779999  62.860001  NaN  77.620003  \n",
       "2018-01-08  75.419998  101.900002  62.950001  NaN  77.940002  "
      ]
     },
     "execution_count": 17,
     "metadata": {},
     "output_type": "execute_result"
    }
   ],
   "source": [
    "spdr_etf_price.head()"
   ]
  },
  {
   "cell_type": "code",
   "execution_count": 18,
   "metadata": {
    "colab": {
     "base_uri": "https://localhost:8080/",
     "height": 237
    },
    "id": "7PTJ3TGfDaY8",
    "outputId": "dc8d054f-e561-48b1-cd17-b578b3f26296"
   },
   "outputs": [
    {
     "data": {
      "text/html": [
       "<div>\n",
       "<style scoped>\n",
       "    .dataframe tbody tr th:only-of-type {\n",
       "        vertical-align: middle;\n",
       "    }\n",
       "\n",
       "    .dataframe tbody tr th {\n",
       "        vertical-align: top;\n",
       "    }\n",
       "\n",
       "    .dataframe thead th {\n",
       "        text-align: right;\n",
       "    }\n",
       "</style>\n",
       "<table border=\"1\" class=\"dataframe\">\n",
       "  <thead>\n",
       "    <tr style=\"text-align: right;\">\n",
       "      <th></th>\n",
       "      <th>XLK</th>\n",
       "      <th>XLF</th>\n",
       "      <th>XLU</th>\n",
       "      <th>XLP</th>\n",
       "      <th>XLV</th>\n",
       "      <th>XLRE</th>\n",
       "      <th>XLE</th>\n",
       "      <th>XLY</th>\n",
       "      <th>XLB</th>\n",
       "      <th>XLC</th>\n",
       "      <th>XLI</th>\n",
       "    </tr>\n",
       "    <tr>\n",
       "      <th>Date</th>\n",
       "      <th></th>\n",
       "      <th></th>\n",
       "      <th></th>\n",
       "      <th></th>\n",
       "      <th></th>\n",
       "      <th></th>\n",
       "      <th></th>\n",
       "      <th></th>\n",
       "      <th></th>\n",
       "      <th></th>\n",
       "      <th></th>\n",
       "    </tr>\n",
       "  </thead>\n",
       "  <tbody>\n",
       "    <tr>\n",
       "      <th>2018-01-03</th>\n",
       "      <td>0.008341</td>\n",
       "      <td>0.005372</td>\n",
       "      <td>-0.007856</td>\n",
       "      <td>-0.000354</td>\n",
       "      <td>0.009568</td>\n",
       "      <td>0.000305</td>\n",
       "      <td>0.014976</td>\n",
       "      <td>0.004591</td>\n",
       "      <td>0.007004</td>\n",
       "      <td>NaN</td>\n",
       "      <td>0.005386</td>\n",
       "    </tr>\n",
       "    <tr>\n",
       "      <th>2018-01-04</th>\n",
       "      <td>0.005055</td>\n",
       "      <td>0.009263</td>\n",
       "      <td>-0.008304</td>\n",
       "      <td>0.002831</td>\n",
       "      <td>0.001422</td>\n",
       "      <td>-0.017094</td>\n",
       "      <td>0.006036</td>\n",
       "      <td>0.003279</td>\n",
       "      <td>0.008735</td>\n",
       "      <td>NaN</td>\n",
       "      <td>0.007317</td>\n",
       "    </tr>\n",
       "    <tr>\n",
       "      <th>2018-01-05</th>\n",
       "      <td>0.010517</td>\n",
       "      <td>0.002824</td>\n",
       "      <td>-0.000389</td>\n",
       "      <td>0.004411</td>\n",
       "      <td>0.008518</td>\n",
       "      <td>0.002174</td>\n",
       "      <td>-0.000400</td>\n",
       "      <td>0.007922</td>\n",
       "      <td>0.008018</td>\n",
       "      <td>NaN</td>\n",
       "      <td>0.006875</td>\n",
       "    </tr>\n",
       "    <tr>\n",
       "      <th>2018-01-08</th>\n",
       "      <td>0.003771</td>\n",
       "      <td>-0.001408</td>\n",
       "      <td>0.009351</td>\n",
       "      <td>0.002459</td>\n",
       "      <td>-0.003636</td>\n",
       "      <td>0.006818</td>\n",
       "      <td>0.006002</td>\n",
       "      <td>0.001179</td>\n",
       "      <td>0.001432</td>\n",
       "      <td>NaN</td>\n",
       "      <td>0.004123</td>\n",
       "    </tr>\n",
       "    <tr>\n",
       "      <th>2018-01-09</th>\n",
       "      <td>-0.002555</td>\n",
       "      <td>0.007755</td>\n",
       "      <td>-0.009844</td>\n",
       "      <td>-0.001402</td>\n",
       "      <td>0.011773</td>\n",
       "      <td>-0.011388</td>\n",
       "      <td>-0.002519</td>\n",
       "      <td>0.001963</td>\n",
       "      <td>-0.001589</td>\n",
       "      <td>NaN</td>\n",
       "      <td>0.006415</td>\n",
       "    </tr>\n",
       "  </tbody>\n",
       "</table>\n",
       "</div>"
      ],
      "text/plain": [
       "                 XLK       XLF       XLU       XLP       XLV      XLRE  \\\n",
       "Date                                                                     \n",
       "2018-01-03  0.008341  0.005372 -0.007856 -0.000354  0.009568  0.000305   \n",
       "2018-01-04  0.005055  0.009263 -0.008304  0.002831  0.001422 -0.017094   \n",
       "2018-01-05  0.010517  0.002824 -0.000389  0.004411  0.008518  0.002174   \n",
       "2018-01-08  0.003771 -0.001408  0.009351  0.002459 -0.003636  0.006818   \n",
       "2018-01-09 -0.002555  0.007755 -0.009844 -0.001402  0.011773 -0.011388   \n",
       "\n",
       "                 XLE       XLY       XLB  XLC       XLI  \n",
       "Date                                                     \n",
       "2018-01-03  0.014976  0.004591  0.007004  NaN  0.005386  \n",
       "2018-01-04  0.006036  0.003279  0.008735  NaN  0.007317  \n",
       "2018-01-05 -0.000400  0.007922  0.008018  NaN  0.006875  \n",
       "2018-01-08  0.006002  0.001179  0.001432  NaN  0.004123  \n",
       "2018-01-09 -0.002519  0.001963 -0.001589  NaN  0.006415  "
      ]
     },
     "execution_count": 18,
     "metadata": {},
     "output_type": "execute_result"
    }
   ],
   "source": [
    "spdr_etf_rtns.head()"
   ]
  },
  {
   "cell_type": "code",
   "execution_count": 19,
   "metadata": {
    "colab": {
     "base_uri": "https://localhost:8080/"
    },
    "id": "H7ZGGfS8DaY-",
    "outputId": "12e2b70b-30db-4fbb-ec26-3c25a828e7c0"
   },
   "outputs": [
    {
     "name": "stdout",
     "output_type": "stream",
     "text": [
      " - Standard Deviation of XLK = 0.018166580507840743\n",
      " - Standard Deviation of XLV = 0.013719648573235621\n"
     ]
    }
   ],
   "source": [
    "spdr_etf_std = spdr_etf_rtns.std()\n",
    "\n",
    "print( f' - Standard Deviation of XLK = {spdr_etf_std.XLK}')\n",
    "print( f' - Standard Deviation of XLV = {spdr_etf_std.XLV}')"
   ]
  },
  {
   "cell_type": "markdown",
   "metadata": {
    "id": "YcahAaD3DaZB"
   },
   "source": [
    "## 2.3 Correlations b/w Securities"
   ]
  },
  {
   "cell_type": "code",
   "execution_count": 20,
   "metadata": {
    "id": "UEdodAZXDaZE"
   },
   "outputs": [],
   "source": [
    "corr_xlk_xlv = spdr_etf_rtns[['XLK','XLV']].corr()"
   ]
  },
  {
   "cell_type": "code",
   "execution_count": 21,
   "metadata": {
    "colab": {
     "base_uri": "https://localhost:8080/",
     "height": 112
    },
    "id": "wDPi41B-DaZJ",
    "outputId": "e57397b6-24f8-4823-88a2-4a17fe49726e"
   },
   "outputs": [
    {
     "data": {
      "text/html": [
       "<div>\n",
       "<style scoped>\n",
       "    .dataframe tbody tr th:only-of-type {\n",
       "        vertical-align: middle;\n",
       "    }\n",
       "\n",
       "    .dataframe tbody tr th {\n",
       "        vertical-align: top;\n",
       "    }\n",
       "\n",
       "    .dataframe thead th {\n",
       "        text-align: right;\n",
       "    }\n",
       "</style>\n",
       "<table border=\"1\" class=\"dataframe\">\n",
       "  <thead>\n",
       "    <tr style=\"text-align: right;\">\n",
       "      <th></th>\n",
       "      <th>XLK</th>\n",
       "      <th>XLV</th>\n",
       "    </tr>\n",
       "  </thead>\n",
       "  <tbody>\n",
       "    <tr>\n",
       "      <th>XLK</th>\n",
       "      <td>1.000000</td>\n",
       "      <td>0.829307</td>\n",
       "    </tr>\n",
       "    <tr>\n",
       "      <th>XLV</th>\n",
       "      <td>0.829307</td>\n",
       "      <td>1.000000</td>\n",
       "    </tr>\n",
       "  </tbody>\n",
       "</table>\n",
       "</div>"
      ],
      "text/plain": [
       "          XLK       XLV\n",
       "XLK  1.000000  0.829307\n",
       "XLV  0.829307  1.000000"
      ]
     },
     "execution_count": 21,
     "metadata": {},
     "output_type": "execute_result"
    }
   ],
   "source": [
    "# coorelation of XLK and XLV\n",
    "corr_xlk_xlv"
   ]
  },
  {
   "cell_type": "markdown",
   "metadata": {
    "id": "E7dfmDbNDaZK"
   },
   "source": [
    "## 2.4 Weighted Return of a Portfolio"
   ]
  },
  {
   "cell_type": "code",
   "execution_count": 22,
   "metadata": {
    "id": "UfPqYTlPDaZL"
   },
   "outputs": [],
   "source": [
    "def weighted_return(return_vector1, return_vector2, w1, w2):\n",
    "    return w1*return_vector1+w2*return_vector2"
   ]
  },
  {
   "cell_type": "code",
   "execution_count": 23,
   "metadata": {
    "colab": {
     "base_uri": "https://localhost:8080/"
    },
    "id": "OetyVwIKDaZM",
    "outputId": "80511f24-3996-4805-dbe9-ddc0cd7cf7cd"
   },
   "outputs": [
    {
     "data": {
      "text/plain": [
       "Date\n",
       "2018-01-03    12163.941513\n",
       "2018-01-04     4754.335639\n",
       "2018-01-05    13215.988312\n",
       "2018-01-08      737.635970\n",
       "2018-01-09     5067.499337\n",
       "                  ...     \n",
       "2020-12-23    -5427.843435\n",
       "2020-12-24     6841.909865\n",
       "2020-12-28    10239.101818\n",
       "2020-12-29     -832.544375\n",
       "2020-12-30     -522.641778\n",
       "Length: 754, dtype: float64"
      ]
     },
     "execution_count": 23,
     "metadata": {},
     "output_type": "execute_result"
    }
   ],
   "source": [
    "weighted_return(spdr_etf_rtns['XLK'], spdr_etf_rtns['XLV'], n_xlk, n_xlv)"
   ]
  },
  {
   "cell_type": "markdown",
   "metadata": {
    "id": "Q1nzPaPpDaZN"
   },
   "source": [
    "## 2.5 Portfolio Standard Deviation "
   ]
  },
  {
   "cell_type": "code",
   "execution_count": 24,
   "metadata": {
    "id": "cBpxXafPDaZQ"
   },
   "outputs": [],
   "source": [
    "def weighted_std(vol1, vol2, corr, w1, w2):\n",
    "    ptf_std = np.sqrt(w1**2*vol1**2+w2**2*vol2**2+2*w1*w2*corr*vol1*vol2)\n",
    "    \n",
    "    return ptf_std"
   ]
  },
  {
   "cell_type": "code",
   "execution_count": 25,
   "metadata": {
    "colab": {
     "base_uri": "https://localhost:8080/"
    },
    "id": "M3srE3W4DaZT",
    "outputId": "8a3a7981-4105-4a9b-c23f-45a1a7307ed9"
   },
   "outputs": [
    {
     "data": {
      "text/plain": [
       "21332.9715221551"
      ]
     },
     "execution_count": 25,
     "metadata": {},
     "output_type": "execute_result"
    }
   ],
   "source": [
    "weighted_std(spdr_etf_std.XLK, spdr_etf_std.XLV, corr_xlk_xlv.loc['XLK','XLV'], n_xlk, n_xlv)"
   ]
  },
  {
   "cell_type": "markdown",
   "metadata": {
    "id": "BCE_OsVpDaZh"
   },
   "source": [
    "# 3. Category 1 Portfolio: 2 Sectors"
   ]
  },
  {
   "cell_type": "markdown",
   "metadata": {
    "id": "2ofT24rWDaZh"
   },
   "source": [
    "## 3.1 Function for Efficient Frontiers"
   ]
  },
  {
   "cell_type": "code",
   "execution_count": 26,
   "metadata": {
    "id": "5sSwjlFGDaZk"
   },
   "outputs": [],
   "source": [
    "def trim_series(ret1, ret2, alpha):\n",
    "    \"\"\" trims two Panda series by alpha percent\n",
    "    returns series trimmed and only that portion for which ret1 and ret2 maintain index overlap\n",
    "    \n",
    "    Returns:\n",
    "        - ret1 and ret2: series trimmed with fully overlapped index\n",
    "    \"\"\"\n",
    "\n",
    "    alpha = alpha/100\n",
    "\n",
    "    i1 = int(round(alpha*len(ret1),0))\n",
    "    \n",
    "    r1 = ret1.sort_values()[i1:-(i1+1)]\n",
    "\n",
    "    r2 = ret2.sort_values()[i1:-(i1+1)]\n",
    "\n",
    "    indx = r1.index[r1.index.isin(r2.index)].sort_values()\n",
    "    \n",
    "    r1 = ret1.loc[indx]\n",
    "    r2 = ret2.loc[indx]\n",
    "\n",
    "    return r1, r2"
   ]
  },
  {
   "cell_type": "code",
   "execution_count": 27,
   "metadata": {
    "id": "NzQbWyszDaZm"
   },
   "outputs": [],
   "source": [
    "def ptf_return_vol(price_vector1, price_vector2, w1, w2, start_date, end_date, correlation = 'not passed', alpha=0):\n",
    "    \"\"\"\n",
    "    This function calculates the return and annualized volatility of a portfolio of two assets over a given period of time\n",
    "    \n",
    "    Arguments:\n",
    "        - price_vector1, price_vector2: DAILY price vectors for assets 1 and 2\n",
    "        - w1, w2: normalized weights of each assets expressed in terms of a number from 0 to 1\n",
    "        - start_date, end_date: the start and end dates of the period for which we conduct the analysis\n",
    "        - correlation: a value can be passed. If not passed it will be calculated from daily return vectors.\n",
    "        \n",
    "    Returns:\n",
    "        - return:  over the given period in %\n",
    "        - volatility: volatility over the given period of time (annualized) in %\n",
    "    \"\"\"\n",
    "    \n",
    "    ### Calculating the Portfolio Returns\n",
    "    indx_ = np.logical_and( price_vector1.index > start_date, price_vector1.index < end_date)\n",
    "    \n",
    "    price1 = price_vector1[indx_]\n",
    "    price2 = price_vector2[indx_]\n",
    "\n",
    "    daily_rtns1 = price1.pct_change(1)[1:]\n",
    "    daily_rtns2 = price2.pct_change(1)[1:]\n",
    "\n",
    "    return_1 = np.sqrt((daily_rtns1+1).prod())**(365/(end_date-start_date).days)\n",
    "    return_2 = np.sqrt((daily_rtns2+1).prod())**(365/(end_date-start_date).days)\n",
    "\n",
    "    #return_1 = price1[-1]/price1[0] - 1\n",
    "    #return_2 = price2[-1]/price1[0] - 1\n",
    "    \n",
    "    ptf_return = w1*return_1 + w2*return_2\n",
    "    \n",
    "    \n",
    "    ### Calculating the Portfolio Volatility\n",
    "    #daily_rtns1 = price1.pct_change(1)[1:]\n",
    "    #daily_rtns2 = price2.pct_change(1)[1:]\n",
    "    \n",
    "    # Here we trim the returns by alpha% if needed\n",
    "    if alpha != 0:\n",
    "        daily_rtns1, daily_rtns2 = trim_series(daily_rtns1, daily_rtns2, alpha) \n",
    "        \n",
    "        \n",
    "    if correlation == 'not passed':\n",
    "        correlation = np.corrcoef(daily_rtns1, daily_rtns2)[0,1]\n",
    "        \n",
    "    std1 = daily_rtns1.std()\n",
    "    std2 = daily_rtns2.std()\n",
    "    #print(f' First Volatility = {std1}')\n",
    "    #print(f' Second Volatility = {std2}')\n",
    "    #print(f' Correlation = {correlation}')\n",
    "\n",
    "        \n",
    "    ptf_daily_vol = weighted_std(std1, std2, correlation, w1, w2)\n",
    "    ptf_annual_vol = ptf_daily_vol*np.sqrt(250)\n",
    "    \n",
    "    ptf_annual_vol_normalized = ptf_annual_vol/ptf_return\n",
    "    \n",
    "    return ptf_return*100, ptf_annual_vol_normalized*100"
   ]
  },
  {
   "cell_type": "code",
   "execution_count": 28,
   "metadata": {
    "id": "6Qmjmok8DaZp"
   },
   "outputs": [],
   "source": [
    "def efficient_frontier_2d(price_vector1, price_vector2, start_date, end_date, correlation = 'not passed', alpha=0):\n",
    "    \n",
    "\n",
    "    weights = np.linspace(0,1,101)\n",
    "    \n",
    "    ptf_returns = [0]*len(weights)\n",
    "    ptf_vol = [0]*len(weights)\n",
    "\n",
    "    for i in range(len(weights)):\n",
    "        ptf_returns[i], ptf_vol[i] = ptf_return_vol(price_vector1, price_vector2, weights[i], 1-weights[i], start_date, end_date, correlation, alpha)\n",
    "        \n",
    "    return ptf_returns, ptf_vol"
   ]
  },
  {
   "cell_type": "code",
   "execution_count": 29,
   "metadata": {
    "id": "wWeWsE1WDaZp"
   },
   "outputs": [],
   "source": [
    "start_date = datetime.datetime(2018,1,1)\n",
    "end_date = datetime.datetime(2020,12,31)\n",
    "\n",
    "price_vec1 = spdr_etf_price['XLK']\n",
    "price_vec2 = spdr_etf_price['XLV']\n",
    "\n",
    "ptf_returns1, ptf_vol1 = efficient_frontier_2d(price_vec1, price_vec2, start_date, end_date)"
   ]
  },
  {
   "cell_type": "code",
   "execution_count": 30,
   "metadata": {
    "colab": {
     "base_uri": "https://localhost:8080/",
     "height": 513
    },
    "id": "XlqFRRQwDaZp",
    "outputId": "56a85537-5373-48de-dfc8-f576945ee019"
   },
   "outputs": [
    {
     "data": {
      "image/png": "[encoded data removed]",
      "text/plain": [
       "<Figure size 864x576 with 1 Axes>"
      ]
     },
     "metadata": {
      "needs_background": "light"
     },
     "output_type": "display_data"
    }
   ],
   "source": [
    "plt.figure(figsize = (12,8))\n",
    "\n",
    "plt.plot(ptf_vol1, ptf_returns1, marker = '*')\n",
    "plt.ylabel('Portfolio Return (%)')\n",
    "plt.xlabel('Portfolio Volatility (%)')\n",
    "plt.title(' Efficient Frontier for 2 Assets ')\n",
    "\n",
    "plt.show()"
   ]
  },
  {
   "cell_type": "markdown",
   "metadata": {
    "id": "CfoOUa-TDaZq"
   },
   "source": [
    "## 3.2\n",
    "#### The leftmost porfolio is called the global minimum variance portfolio.  It is the portfolio with the smallest volatility possible that can be created from the two assets in qustion. "
   ]
  },
  {
   "cell_type": "markdown",
   "metadata": {
    "id": "yA701MJkDaZs"
   },
   "source": [
    "## 3.3 Correlation = 1"
   ]
  },
  {
   "cell_type": "code",
   "execution_count": 31,
   "metadata": {
    "id": "ruCaCN8LDaZs"
   },
   "outputs": [],
   "source": [
    "correlation = 1\n",
    "ptf_returns2, ptf_vol2 = efficient_frontier_2d(price_vec1, price_vec2, start_date, end_date, correlation)"
   ]
  },
  {
   "cell_type": "code",
   "execution_count": 32,
   "metadata": {
    "colab": {
     "base_uri": "https://localhost:8080/",
     "height": 513
    },
    "id": "sg6VYoNYDaZs",
    "outputId": "43767351-9e2b-472c-8aa9-af0fbe074686"
   },
   "outputs": [
    {
     "data": {
      "image/png": "[encoded data removed]",
      "text/plain": [
       "<Figure size 864x576 with 1 Axes>"
      ]
     },
     "metadata": {
      "needs_background": "light"
     },
     "output_type": "display_data"
    }
   ],
   "source": [
    "plt.figure(figsize = (12,8))\n",
    "\n",
    "plt.plot(ptf_vol2, ptf_returns2, marker = '*')\n",
    "plt.ylabel('Portfolio Return (%)')\n",
    "plt.xlabel('Portfolio Volatility (%)')\n",
    "plt.title(f' Efficient Frontier for 2 Assets | correlation = {correlation} ')\n",
    "\n",
    "plt.show()"
   ]
  },
  {
   "cell_type": "markdown",
   "metadata": {
    "id": "oIq8bUE2DaZv"
   },
   "source": [
    "#### In this case, since the assets are perfectly correlated, increasing the weight of assets 2 (XLV) reduces the portfolio volatility. We showed above that the volatility of second asset (XLV) is smaller than the volatility of first asset (XLK). So as its weight goes up the portfolio volatility goes down. Also in this case, the curve shape of the efficient frontier disappears. "
   ]
  },
  {
   "cell_type": "markdown",
   "metadata": {
    "id": "kyKGBLuDDaZv"
   },
   "source": [
    "## 3.4 Correlation = 0"
   ]
  },
  {
   "cell_type": "code",
   "execution_count": 33,
   "metadata": {
    "colab": {
     "base_uri": "https://localhost:8080/",
     "height": 513
    },
    "id": "6mCg0jphDaZv",
    "outputId": "7d92206f-be4f-4fe9-ba63-1efd1a3f700f"
   },
   "outputs": [
    {
     "data": {
      "image/png": "[encoded data removed]",
      "text/plain": [
       "<Figure size 864x576 with 1 Axes>"
      ]
     },
     "metadata": {
      "needs_background": "light"
     },
     "output_type": "display_data"
    }
   ],
   "source": [
    "correlation = 0\n",
    "ptf_returns3, ptf_vol3 = efficient_frontier_2d(price_vec1, price_vec2, start_date, end_date, correlation)\n",
    "\n",
    "plt.figure(figsize = (12,8))\n",
    "\n",
    "plt.plot(ptf_vol3, ptf_returns3, marker = '*')\n",
    "plt.ylabel('Portfolio Return (%)')\n",
    "plt.xlabel('Portfolio Volatility (%)')\n",
    "plt.title(f' Efficient Frontier for 2 Assets | correlation = {correlation} ')\n",
    "\n",
    "plt.show()"
   ]
  },
  {
   "cell_type": "markdown",
   "metadata": {
    "id": "v6EuWNhmDaZv"
   },
   "source": [
    "#### With removing correlation between the assets the positivive impact of diversification started to kick in. Now for the same amount of volatilities, we can observe higher returns or we can obtain the same amount of return with much lower voaltilities.The volatility of the portfolio with minimum volatility is much smaller than the case with correlation = 1."
   ]
  },
  {
   "cell_type": "markdown",
   "metadata": {
    "id": "iJF7Vmh4DaZv"
   },
   "source": [
    "## 3.5 Correlation = -1"
   ]
  },
  {
   "cell_type": "code",
   "execution_count": 34,
   "metadata": {
    "colab": {
     "base_uri": "https://localhost:8080/",
     "height": 513
    },
    "id": "dQumBcmaDaZw",
    "outputId": "40918c62-1743-49f7-ab94-072d0640d788"
   },
   "outputs": [
    {
     "data": {
      "image/png": "[encoded data removed]",
      "text/plain": [
       "<Figure size 864x576 with 1 Axes>"
      ]
     },
     "metadata": {
      "needs_background": "light"
     },
     "output_type": "display_data"
    }
   ],
   "source": [
    "correlation = -1\n",
    "ptf_returns4, ptf_vol4 = efficient_frontier_2d(price_vec1, price_vec2, start_date, end_date, correlation)\n",
    "\n",
    "plt.figure(figsize = (12,8))\n",
    "\n",
    "plt.plot(ptf_vol4, ptf_returns4, marker = '*')\n",
    "plt.ylabel('Portfolio Return (%)')\n",
    "plt.xlabel('Portfolio Volatility (%)')\n",
    "plt.title(f' Efficient Frontier for 2 Assets | correlation = {correlation} ')\n",
    "\n",
    "plt.show()"
   ]
  },
  {
   "cell_type": "markdown",
   "metadata": {
    "id": "6FwCug0VDaZw"
   },
   "source": [
    "#### As it can be seen in this case the volatilities are significantly lower than the case with correlation = 0 or correlation = 1. Basically the volatility of the leftmost portfolio is around 2% which is significantly lower than the one with the case of correlation = 0. In the case with correlation = 0, the volatility of leftomost portfolio was about 20%. Note that the returns in these two cases are practically the same. \n",
    "\n",
    "#### So we take advantage of diversification in this case the most, and we are able to obtain the same return with much smaller risk and volatilities. "
   ]
  },
  {
   "cell_type": "markdown",
   "metadata": {
    "id": "2-BcVJFMDaZz"
   },
   "source": [
    "## 3.6 Trimmed Data"
   ]
  },
  {
   "cell_type": "code",
   "execution_count": 35,
   "metadata": {
    "colab": {
     "base_uri": "https://localhost:8080/",
     "height": 513
    },
    "id": "p7LzqAUaDaZz",
    "outputId": "c8e7de13-69ef-4e03-f74f-0f5c9be1ef94"
   },
   "outputs": [
    {
     "data": {
      "image/png": "[encoded data removed]",
      "text/plain": [
       "<Figure size 864x576 with 1 Axes>"
      ]
     },
     "metadata": {
      "needs_background": "light"
     },
     "output_type": "display_data"
    }
   ],
   "source": [
    "correlation = 'not passed'\n",
    "alpha = 5\n",
    "\n",
    "ptf_returns5, ptf_vol5 = efficient_frontier_2d(price_vec1, price_vec2, start_date, end_date, correlation, alpha)\n",
    "\n",
    "plt.figure(figsize = (12,8))\n",
    "\n",
    "plt.plot(ptf_vol5, ptf_returns5, marker = '*')\n",
    "plt.ylabel('Portfolio Return (%)')\n",
    "plt.xlabel('Portfolio Volatility (%)')\n",
    "plt.title(f' Efficient Frontier for 2 Assets with Trimmed Data | correlation = {correlation} ')\n",
    "\n",
    "plt.show()"
   ]
  },
  {
   "cell_type": "markdown",
   "metadata": {
    "id": "aSbqZZRYDaZz"
   },
   "source": [
    "## 3.7 EF of Trimmed Data vs. EF of Actual Data\n",
    "#### It is very clear to see that the whole curve has moved to the left. Meaning the same level of returns can be obtained with smaller volatilities. Trimming the data (removing outliers and too large and too small values) reduced standard deviation i.e. volatility, thereby reducing the calculated risk (vol) of portfolio."
   ]
  },
  {
   "cell_type": "markdown",
   "metadata": {
    "id": "OxakQz1nDaZz"
   },
   "source": [
    "## 3.8 Robust Method of Portfolio Analysis"
   ]
  },
  {
   "cell_type": "code",
   "execution_count": 36,
   "metadata": {
    "colab": {
     "base_uri": "https://localhost:8080/"
    },
    "id": "5w4QewjgDaZz",
    "outputId": "73c78f7b-4898-4aae-d57f-59ee70b7eb32"
   },
   "outputs": [
    {
     "name": "stdout",
     "output_type": "stream",
     "text": [
      "Expected annual return: 26.2%\n",
      "Annual volatility: 28.8%\n",
      "Sharpe Ratio: 0.84\n"
     ]
    }
   ],
   "source": [
    "start_date = datetime.datetime(2018,1,1)\n",
    "end_date = datetime.datetime(2020,12,31)\n",
    "\n",
    "price_df = spdr_etf_price[['XLK', 'XLV']].loc[start_date:end_date]\n",
    "\n",
    "mu = expected_returns.mean_historical_return(price_df)\n",
    "S = risk_models.sample_cov(price_df)\n",
    "\n",
    "ef = EfficientFrontier(mu, S)\n",
    "raw_weights = ef.max_sharpe()\n",
    "\n",
    "ptf_performance = ef.portfolio_performance(verbose=True)\n",
    "\n"
   ]
  },
  {
   "cell_type": "markdown",
   "metadata": {
    "id": "nvt8Fbfm6z2-"
   },
   "source": [
    "## 3.9 \n",
    "#### The methodology used here is based on maximizing the Sharpe Ratio of the portfolio. The state variables are portfolio weights (w1 and w2). Bascially the algorithm here is to find w1 and w2 such that the maximum Sharpe Ration is achieved. This would be a portfolio that deliveres the highest return for each unit of volatility. \n",
    "\n",
    "The equations are as follows:\n",
    "\n",
    "\n",
    "maximize Sharpe Ratio = (Portfolio Return - Risk Free Rate)/(Portfolio Volatility)\n",
    "\n",
    "Subjected to:\n",
    "\n",
    "\n",
    "w1, w2 >= 0\n",
    "\n",
    "w1 + w2 = 1.0\n",
    "\n",
    "\n"
   ]
  },
  {
   "cell_type": "markdown",
   "metadata": {
    "id": "Ci-e3MlL9gCg"
   },
   "source": [
    "## 3.10\n",
    "#### Using maximizing the Sharpe Ratio, we get the same return but for much lower volatility when compared with method 1, where we used simple mean-variance optimization\n",
    "\n",
    "#### When compared with the trimmed data, this approach provides about the same return for much lower volatility \n",
    "\n",
    "#### Thus using minimzing the Sharpe Ratio we can obtain the best Sharpe Ratio compared with method 1 (mean-var optimization) and method 2 (using trimmed data). "
   ]
  },
  {
   "cell_type": "markdown",
   "metadata": {
    "id": "gY2ztp2KDaZ0"
   },
   "source": [
    "# 4. Category 2 Portfolio: 3 Sectors"
   ]
  },
  {
   "cell_type": "markdown",
   "metadata": {
    "id": "LK4pOGKVDaZ0"
   },
   "source": [
    "#### Now we can add XLU to the mix of previous two portfolios."
   ]
  },
  {
   "cell_type": "markdown",
   "metadata": {
    "id": "3URZGv-KDaZ0"
   },
   "source": [
    "### 4.1 Correlation Matrix"
   ]
  },
  {
   "cell_type": "code",
   "execution_count": 37,
   "metadata": {
    "colab": {
     "base_uri": "https://localhost:8080/",
     "height": 143
    },
    "id": "M9vyRz3YDaZ0",
    "outputId": "70a55fe3-b3ab-4897-c45f-b518f1432b13"
   },
   "outputs": [
    {
     "data": {
      "text/html": [
       "<div>\n",
       "<style scoped>\n",
       "    .dataframe tbody tr th:only-of-type {\n",
       "        vertical-align: middle;\n",
       "    }\n",
       "\n",
       "    .dataframe tbody tr th {\n",
       "        vertical-align: top;\n",
       "    }\n",
       "\n",
       "    .dataframe thead th {\n",
       "        text-align: right;\n",
       "    }\n",
       "</style>\n",
       "<table border=\"1\" class=\"dataframe\">\n",
       "  <thead>\n",
       "    <tr style=\"text-align: right;\">\n",
       "      <th></th>\n",
       "      <th>XLK</th>\n",
       "      <th>XLV</th>\n",
       "      <th>XLU</th>\n",
       "    </tr>\n",
       "  </thead>\n",
       "  <tbody>\n",
       "    <tr>\n",
       "      <th>XLK</th>\n",
       "      <td>1.000000</td>\n",
       "      <td>0.829307</td>\n",
       "      <td>0.562165</td>\n",
       "    </tr>\n",
       "    <tr>\n",
       "      <th>XLV</th>\n",
       "      <td>0.829307</td>\n",
       "      <td>1.000000</td>\n",
       "      <td>0.673268</td>\n",
       "    </tr>\n",
       "    <tr>\n",
       "      <th>XLU</th>\n",
       "      <td>0.562165</td>\n",
       "      <td>0.673268</td>\n",
       "      <td>1.000000</td>\n",
       "    </tr>\n",
       "  </tbody>\n",
       "</table>\n",
       "</div>"
      ],
      "text/plain": [
       "          XLK       XLV       XLU\n",
       "XLK  1.000000  0.829307  0.562165\n",
       "XLV  0.829307  1.000000  0.673268\n",
       "XLU  0.562165  0.673268  1.000000"
      ]
     },
     "execution_count": 37,
     "metadata": {},
     "output_type": "execute_result"
    }
   ],
   "source": [
    "corr_3d = spdr_etf_rtns[['XLK', 'XLV', 'XLU']].loc[start_date:end_date].corr()\n",
    "\n",
    "corr_3d"
   ]
  },
  {
   "cell_type": "code",
   "execution_count": 38,
   "metadata": {
    "colab": {
     "base_uri": "https://localhost:8080/",
     "height": 143
    },
    "id": "bobsHv0cDaZ2",
    "outputId": "6a04e78e-0c22-48c7-a6b1-c186d8b98aaa"
   },
   "outputs": [
    {
     "data": {
      "text/html": [
       "<div>\n",
       "<style scoped>\n",
       "    .dataframe tbody tr th:only-of-type {\n",
       "        vertical-align: middle;\n",
       "    }\n",
       "\n",
       "    .dataframe tbody tr th {\n",
       "        vertical-align: top;\n",
       "    }\n",
       "\n",
       "    .dataframe thead th {\n",
       "        text-align: right;\n",
       "    }\n",
       "</style>\n",
       "<table border=\"1\" class=\"dataframe\">\n",
       "  <thead>\n",
       "    <tr style=\"text-align: right;\">\n",
       "      <th></th>\n",
       "      <th>XLK</th>\n",
       "      <th>XLV</th>\n",
       "      <th>XLU</th>\n",
       "    </tr>\n",
       "  </thead>\n",
       "  <tbody>\n",
       "    <tr>\n",
       "      <th>XLK</th>\n",
       "      <td>0.000330</td>\n",
       "      <td>0.000207</td>\n",
       "      <td>0.000160</td>\n",
       "    </tr>\n",
       "    <tr>\n",
       "      <th>XLV</th>\n",
       "      <td>0.000207</td>\n",
       "      <td>0.000188</td>\n",
       "      <td>0.000145</td>\n",
       "    </tr>\n",
       "    <tr>\n",
       "      <th>XLU</th>\n",
       "      <td>0.000160</td>\n",
       "      <td>0.000145</td>\n",
       "      <td>0.000246</td>\n",
       "    </tr>\n",
       "  </tbody>\n",
       "</table>\n",
       "</div>"
      ],
      "text/plain": [
       "          XLK       XLV       XLU\n",
       "XLK  0.000330  0.000207  0.000160\n",
       "XLV  0.000207  0.000188  0.000145\n",
       "XLU  0.000160  0.000145  0.000246"
      ]
     },
     "execution_count": 38,
     "metadata": {},
     "output_type": "execute_result"
    }
   ],
   "source": [
    "cov_3d = spdr_etf_rtns[['XLK', 'XLV', 'XLU']].loc[start_date:end_date].cov()\n",
    "\n",
    "cov_3d"
   ]
  },
  {
   "cell_type": "markdown",
   "metadata": {
    "id": "Cu6u9IxADaZ2"
   },
   "source": [
    "## 4.2 The Efficient Frontier"
   ]
  },
  {
   "cell_type": "code",
   "execution_count": 39,
   "metadata": {
    "id": "j1hN7a8ZDaZ2"
   },
   "outputs": [],
   "source": [
    "weights = np.linspace(0,1,11)\n",
    "\n",
    "price_vec1 = spdr_etf_price['XLK'].loc[start_date:end_date]\n",
    "price_vec2 = spdr_etf_price['XLV'].loc[start_date:end_date]\n",
    "price_vec3 = spdr_etf_price['XLU'].loc[start_date:end_date]\n",
    "\n",
    "ptf_returns6 = [0]*60\n",
    "ptf_vol6 = [0]*60\n",
    "i = 0;\n",
    "\n",
    "for w1 in weights:\n",
    "    for w2 in np.linspace(0, (1-w1), int((1-w1)/0.10+1)):\n",
    "        w3 = 1 - w1 - w2\n",
    "        #print(w1, w2, w3)\n",
    "        \n",
    "        ptf_returns_vec = w1*spdr_etf_rtns['XLK']+w2*spdr_etf_rtns['XLV']+w3*spdr_etf_rtns['XLU']\n",
    "        \n",
    "        #print(ptf_returns_vec.shape)\n",
    "        \n",
    "        ret1 = price_vec1[-1]/price_vec1[0]-1\n",
    "        ret2 = price_vec2[-1]/price_vec2[0]-1\n",
    "        ret3 = price_vec3[-1]/price_vec3[0]-1\n",
    "        \n",
    "        ptf_return = w1*ret1+w2*ret2+w3*ret3\n",
    "        ptf_vol = ptf_returns_vec.std()*np.sqrt(250)/np.abs(ptf_return)\n",
    "        \n",
    "        #print(ptf_return)\n",
    "        #print(ptf_vol)\n",
    "        \n",
    "        ptf_returns6[i] = ptf_return*100\n",
    "        ptf_vol6[i] = ptf_vol*100\n",
    "        i = i + 1\n",
    "        #print(w1,w2,w3,ptf_return, ptf_vol)"
   ]
  },
  {
   "cell_type": "code",
   "execution_count": 40,
   "metadata": {
    "colab": {
     "base_uri": "https://localhost:8080/",
     "height": 513
    },
    "id": "juA-PXivDaZ2",
    "outputId": "ce2a426f-1b82-454e-e129-8a5ce13d961d"
   },
   "outputs": [
    {
     "data": {
      "image/png": "[encoded data removed]",
      "text/plain": [
       "<Figure size 864x576 with 1 Axes>"
      ]
     },
     "metadata": {
      "needs_background": "light"
     },
     "output_type": "display_data"
    }
   ],
   "source": [
    "plt.figure(figsize = (12,8))\n",
    "\n",
    "plt.plot(ptf_vol6, ptf_returns6, '*')\n",
    "plt.ylabel('Portfolio Return (%)')\n",
    "plt.xlabel('Portfolio Volatility (%)')\n",
    "plt.title(f' Efficient Frontier for 3 Assets')\n",
    "\n",
    "plt.show()"
   ]
  },
  {
   "cell_type": "markdown",
   "metadata": {
    "id": "VrpPB879DaZ4"
   },
   "source": [
    "## 4.3 \n",
    "#### Adding one more ETFs has benefited us. Because if we look at the returns, the returns have increased dramatically. Especially that the leftmost point indicates that return of around 100% is obtained with a volatility of around 28%. If we compare that with the leftmost point on efficient frontier with two assets, we were obtaining about 85% with the same amount of volatility. Ofcourse in general whether diversification benefit us or not depend on the correlation matrix of the assets involved. "
   ]
  },
  {
   "cell_type": "markdown",
   "metadata": {
    "id": "-6lsJsRtDaZ4"
   },
   "source": [
    "# 5. Category 3 Portfolio: All Combinations\n",
    "\n",
    "## 5.1 Efficient Frontiers for 3 Portfolios"
   ]
  },
  {
   "cell_type": "code",
   "execution_count": 45,
   "metadata": {
    "id": "9MFM9ZjhTchL"
   },
   "outputs": [],
   "source": [
    "# Generating the Combinations\n",
    "from itertools import combinations\n",
    "\n",
    "def optimal_portfolios(price_df, selected_risk):\n",
    "    comb = combinations(price_df.columns, 3)\n",
    "    comb_lst = list(comb)\n",
    "    n_combinations = len(comb_lst)\n",
    "    print(n_combinations)\n",
    "\n",
    "    # We use the selected risk of portfolio to be 35%\n",
    "    counter = 0;\n",
    "\n",
    "    cols = ['Asset_1', 'Asset_2', 'Asset_3', 'Weight_1', 'Weight_2', 'Weight_3', 'Expected_Return', 'Annual_Volatility', 'Sharpe_Ratio']\n",
    "    optimal_portfolios_lst = pd.DataFrame([ [0]*len(cols) ]*n_combinations, columns=cols)\n",
    "\n",
    "    for ptf0 in comb_lst:\n",
    "        #print(ptf0)\n",
    "        ptf = list(ptf0)\n",
    "\n",
    "        price_ptf = price_df[ptf]\n",
    "\n",
    "        mu = expected_returns.mean_historical_return(price_ptf)\n",
    "        S = risk_models.sample_cov(price_ptf)\n",
    "\n",
    "        ef = EfficientFrontier(mu, S, weight_bounds=(-1, 1))\n",
    "        raw_weights = ef.efficient_risk(target_volatility=selected_risk)\n",
    "\n",
    "        ptf_performance = ef.portfolio_performance(verbose=False)\n",
    "\n",
    "        optimal_portfolios_lst.iloc[counter,:3] = ptf\n",
    "        optimal_portfolios_lst.iloc[counter,3:6] = [raw_weights[ptf[0]], raw_weights[ptf[1]], raw_weights[ptf[2]]]\n",
    "        optimal_portfolios_lst.iloc[counter,6:] = list(ptf_performance)\n",
    "\n",
    "        counter = counter + 1\n",
    "\n",
    "    return optimal_portfolios_lst"
   ]
  },
  {
   "cell_type": "markdown",
   "metadata": {
    "id": "Ow1LuNTFsn34"
   },
   "source": [
    "## 5.2 & 5.3 Running and Ranking 2019 Portfolios"
   ]
  },
  {
   "cell_type": "code",
   "execution_count": 46,
   "metadata": {
    "colab": {
     "base_uri": "https://localhost:8080/"
    },
    "id": "VYV5YY29mQ2B",
    "outputId": "0563e729-715c-4396-a5ad-518b183b86d1"
   },
   "outputs": [
    {
     "name": "stdout",
     "output_type": "stream",
     "text": [
      "165\n"
     ]
    }
   ],
   "source": [
    "start_date = datetime.datetime(2019,1,1)\n",
    "end_date = datetime.datetime(2019,12,31)\n",
    "\n",
    "etf_price_2019 = spdr_etf_price.loc[start_date:end_date]\n",
    "\n",
    "# Selected Risk for Portfolio is 40%\n",
    "selected_risk = 0.40\n",
    "\n",
    "optimal_ptf_2019 = optimal_portfolios(etf_price_2019, selected_risk)"
   ]
  },
  {
   "cell_type": "markdown",
   "metadata": {
    "id": "AL1Mg5zIuGH2"
   },
   "source": [
    "We rank the 2019 optimal portfolios by Sharpe Ration."
   ]
  },
  {
   "cell_type": "code",
   "execution_count": 47,
   "metadata": {
    "colab": {
     "base_uri": "https://localhost:8080/",
     "height": 423
    },
    "id": "_x0wiHPnTGpf",
    "outputId": "f6710918-a0b1-461f-86fa-5d95f70a9d40"
   },
   "outputs": [
    {
     "data": {
      "text/html": [
       "<div>\n",
       "<style scoped>\n",
       "    .dataframe tbody tr th:only-of-type {\n",
       "        vertical-align: middle;\n",
       "    }\n",
       "\n",
       "    .dataframe tbody tr th {\n",
       "        vertical-align: top;\n",
       "    }\n",
       "\n",
       "    .dataframe thead th {\n",
       "        text-align: right;\n",
       "    }\n",
       "</style>\n",
       "<table border=\"1\" class=\"dataframe\">\n",
       "  <thead>\n",
       "    <tr style=\"text-align: right;\">\n",
       "      <th></th>\n",
       "      <th>Asset_1</th>\n",
       "      <th>Asset_2</th>\n",
       "      <th>Asset_3</th>\n",
       "      <th>Weight_1</th>\n",
       "      <th>Weight_2</th>\n",
       "      <th>Weight_3</th>\n",
       "      <th>Expected_Return</th>\n",
       "      <th>Annual_Volatility</th>\n",
       "      <th>Sharpe_Ratio</th>\n",
       "    </tr>\n",
       "  </thead>\n",
       "  <tbody>\n",
       "    <tr>\n",
       "      <th>19</th>\n",
       "      <td>XLK</td>\n",
       "      <td>XLP</td>\n",
       "      <td>XLE</td>\n",
       "      <td>1.0</td>\n",
       "      <td>1.0</td>\n",
       "      <td>-1.0</td>\n",
       "      <td>0.702314</td>\n",
       "      <td>0.218367</td>\n",
       "      <td>3.124615</td>\n",
       "    </tr>\n",
       "    <tr>\n",
       "      <th>10</th>\n",
       "      <td>XLK</td>\n",
       "      <td>XLU</td>\n",
       "      <td>XLV</td>\n",
       "      <td>1.0</td>\n",
       "      <td>1.0</td>\n",
       "      <td>-1.0</td>\n",
       "      <td>0.527512</td>\n",
       "      <td>0.162836</td>\n",
       "      <td>3.116709</td>\n",
       "    </tr>\n",
       "    <tr>\n",
       "      <th>4</th>\n",
       "      <td>XLK</td>\n",
       "      <td>XLF</td>\n",
       "      <td>XLE</td>\n",
       "      <td>1.0</td>\n",
       "      <td>1.0</td>\n",
       "      <td>-1.0</td>\n",
       "      <td>0.736290</td>\n",
       "      <td>0.231848</td>\n",
       "      <td>3.089477</td>\n",
       "    </tr>\n",
       "    <tr>\n",
       "      <th>30</th>\n",
       "      <td>XLK</td>\n",
       "      <td>XLRE</td>\n",
       "      <td>XLE</td>\n",
       "      <td>1.0</td>\n",
       "      <td>1.0</td>\n",
       "      <td>-1.0</td>\n",
       "      <td>0.731493</td>\n",
       "      <td>0.230777</td>\n",
       "      <td>3.083030</td>\n",
       "    </tr>\n",
       "    <tr>\n",
       "      <th>12</th>\n",
       "      <td>XLK</td>\n",
       "      <td>XLU</td>\n",
       "      <td>XLE</td>\n",
       "      <td>1.0</td>\n",
       "      <td>1.0</td>\n",
       "      <td>-1.0</td>\n",
       "      <td>0.697119</td>\n",
       "      <td>0.219647</td>\n",
       "      <td>3.082766</td>\n",
       "    </tr>\n",
       "    <tr>\n",
       "      <th>...</th>\n",
       "      <td>...</td>\n",
       "      <td>...</td>\n",
       "      <td>...</td>\n",
       "      <td>...</td>\n",
       "      <td>...</td>\n",
       "      <td>...</td>\n",
       "      <td>...</td>\n",
       "      <td>...</td>\n",
       "      <td>...</td>\n",
       "    </tr>\n",
       "    <tr>\n",
       "      <th>69</th>\n",
       "      <td>XLF</td>\n",
       "      <td>XLRE</td>\n",
       "      <td>XLC</td>\n",
       "      <td>1.0</td>\n",
       "      <td>-1.0</td>\n",
       "      <td>1.0</td>\n",
       "      <td>0.288161</td>\n",
       "      <td>0.279337</td>\n",
       "      <td>0.959991</td>\n",
       "    </tr>\n",
       "    <tr>\n",
       "      <th>104</th>\n",
       "      <td>XLU</td>\n",
       "      <td>XLY</td>\n",
       "      <td>XLC</td>\n",
       "      <td>-1.0</td>\n",
       "      <td>1.0</td>\n",
       "      <td>1.0</td>\n",
       "      <td>0.298200</td>\n",
       "      <td>0.289907</td>\n",
       "      <td>0.959617</td>\n",
       "    </tr>\n",
       "    <tr>\n",
       "      <th>108</th>\n",
       "      <td>XLU</td>\n",
       "      <td>XLC</td>\n",
       "      <td>XLI</td>\n",
       "      <td>-1.0</td>\n",
       "      <td>1.0</td>\n",
       "      <td>1.0</td>\n",
       "      <td>0.299407</td>\n",
       "      <td>0.295052</td>\n",
       "      <td>0.946974</td>\n",
       "    </tr>\n",
       "    <tr>\n",
       "      <th>52</th>\n",
       "      <td>XLF</td>\n",
       "      <td>XLU</td>\n",
       "      <td>XLI</td>\n",
       "      <td>1.0</td>\n",
       "      <td>-1.0</td>\n",
       "      <td>1.0</td>\n",
       "      <td>0.298742</td>\n",
       "      <td>0.308643</td>\n",
       "      <td>0.903120</td>\n",
       "    </tr>\n",
       "    <tr>\n",
       "      <th>105</th>\n",
       "      <td>XLU</td>\n",
       "      <td>XLY</td>\n",
       "      <td>XLI</td>\n",
       "      <td>-1.0</td>\n",
       "      <td>1.0</td>\n",
       "      <td>1.0</td>\n",
       "      <td>0.274407</td>\n",
       "      <td>0.289458</td>\n",
       "      <td>0.878908</td>\n",
       "    </tr>\n",
       "  </tbody>\n",
       "</table>\n",
       "<p>165 rows × 9 columns</p>\n",
       "</div>"
      ],
      "text/plain": [
       "    Asset_1 Asset_2 Asset_3  Weight_1  Weight_2  Weight_3  Expected_Return  \\\n",
       "19      XLK     XLP     XLE       1.0       1.0      -1.0         0.702314   \n",
       "10      XLK     XLU     XLV       1.0       1.0      -1.0         0.527512   \n",
       "4       XLK     XLF     XLE       1.0       1.0      -1.0         0.736290   \n",
       "30      XLK    XLRE     XLE       1.0       1.0      -1.0         0.731493   \n",
       "12      XLK     XLU     XLE       1.0       1.0      -1.0         0.697119   \n",
       "..      ...     ...     ...       ...       ...       ...              ...   \n",
       "69      XLF    XLRE     XLC       1.0      -1.0       1.0         0.288161   \n",
       "104     XLU     XLY     XLC      -1.0       1.0       1.0         0.298200   \n",
       "108     XLU     XLC     XLI      -1.0       1.0       1.0         0.299407   \n",
       "52      XLF     XLU     XLI       1.0      -1.0       1.0         0.298742   \n",
       "105     XLU     XLY     XLI      -1.0       1.0       1.0         0.274407   \n",
       "\n",
       "     Annual_Volatility  Sharpe_Ratio  \n",
       "19            0.218367      3.124615  \n",
       "10            0.162836      3.116709  \n",
       "4             0.231848      3.089477  \n",
       "30            0.230777      3.083030  \n",
       "12            0.219647      3.082766  \n",
       "..                 ...           ...  \n",
       "69            0.279337      0.959991  \n",
       "104           0.289907      0.959617  \n",
       "108           0.295052      0.946974  \n",
       "52            0.308643      0.903120  \n",
       "105           0.289458      0.878908  \n",
       "\n",
       "[165 rows x 9 columns]"
      ]
     },
     "execution_count": 47,
     "metadata": {},
     "output_type": "execute_result"
    }
   ],
   "source": [
    "optimal_ptf_2019.sort_values('Sharpe_Ratio', ascending=False)"
   ]
  },
  {
   "cell_type": "markdown",
   "metadata": {
    "id": "d2Ai-gdqUWbG"
   },
   "source": [
    "## 5.4 EF using 2020 Data"
   ]
  },
  {
   "cell_type": "code",
   "execution_count": 48,
   "metadata": {
    "colab": {
     "base_uri": "https://localhost:8080/"
    },
    "id": "hssjw4bhez2_",
    "outputId": "30a2e313-81d4-4ae9-c874-f8cd060e967f"
   },
   "outputs": [
    {
     "name": "stdout",
     "output_type": "stream",
     "text": [
      "165\n"
     ]
    }
   ],
   "source": [
    "start_date = datetime.datetime(2020,1,1)\n",
    "end_date = datetime.datetime(2020,12,31)\n",
    "\n",
    "etf_price_2020 = spdr_etf_price.loc[start_date:end_date]\n",
    "\n",
    "# Selected Risk for Portfolio is 40%\n",
    "selected_risk = 0.40\n",
    "\n",
    "optimal_ptf_2020 = optimal_portfolios(etf_price_2020, selected_risk)"
   ]
  },
  {
   "cell_type": "markdown",
   "metadata": {
    "id": "_Sx7qkUfUiE7"
   },
   "source": [
    "## 5.5 Ranking 2020 Portfolios"
   ]
  },
  {
   "cell_type": "code",
   "execution_count": 49,
   "metadata": {
    "colab": {
     "base_uri": "https://localhost:8080/",
     "height": 423
    },
    "id": "K3pD_zjQpIdf",
    "outputId": "9e202fd1-b55e-4913-ef74-f0a2dadc3405"
   },
   "outputs": [
    {
     "data": {
      "text/html": [
       "<div>\n",
       "<style scoped>\n",
       "    .dataframe tbody tr th:only-of-type {\n",
       "        vertical-align: middle;\n",
       "    }\n",
       "\n",
       "    .dataframe tbody tr th {\n",
       "        vertical-align: top;\n",
       "    }\n",
       "\n",
       "    .dataframe thead th {\n",
       "        text-align: right;\n",
       "    }\n",
       "</style>\n",
       "<table border=\"1\" class=\"dataframe\">\n",
       "  <thead>\n",
       "    <tr style=\"text-align: right;\">\n",
       "      <th></th>\n",
       "      <th>Asset_1</th>\n",
       "      <th>Asset_2</th>\n",
       "      <th>Asset_3</th>\n",
       "      <th>Weight_1</th>\n",
       "      <th>Weight_2</th>\n",
       "      <th>Weight_3</th>\n",
       "      <th>Expected_Return</th>\n",
       "      <th>Annual_Volatility</th>\n",
       "      <th>Sharpe_Ratio</th>\n",
       "    </tr>\n",
       "  </thead>\n",
       "  <tbody>\n",
       "    <tr>\n",
       "      <th>155</th>\n",
       "      <td>XLE</td>\n",
       "      <td>XLY</td>\n",
       "      <td>XLB</td>\n",
       "      <td>-0.893584</td>\n",
       "      <td>1.000000</td>\n",
       "      <td>0.893584</td>\n",
       "      <td>0.766917</td>\n",
       "      <td>0.400000</td>\n",
       "      <td>1.867293</td>\n",
       "    </tr>\n",
       "    <tr>\n",
       "      <th>158</th>\n",
       "      <td>XLE</td>\n",
       "      <td>XLB</td>\n",
       "      <td>XLC</td>\n",
       "      <td>-0.866546</td>\n",
       "      <td>1.000000</td>\n",
       "      <td>0.866546</td>\n",
       "      <td>0.713030</td>\n",
       "      <td>0.400000</td>\n",
       "      <td>1.732576</td>\n",
       "    </tr>\n",
       "    <tr>\n",
       "      <th>35</th>\n",
       "      <td>XLK</td>\n",
       "      <td>XLE</td>\n",
       "      <td>XLY</td>\n",
       "      <td>0.582977</td>\n",
       "      <td>-0.582977</td>\n",
       "      <td>1.000000</td>\n",
       "      <td>0.711752</td>\n",
       "      <td>0.400000</td>\n",
       "      <td>1.729379</td>\n",
       "    </tr>\n",
       "    <tr>\n",
       "      <th>156</th>\n",
       "      <td>XLE</td>\n",
       "      <td>XLY</td>\n",
       "      <td>XLC</td>\n",
       "      <td>-0.718941</td>\n",
       "      <td>1.000000</td>\n",
       "      <td>0.718941</td>\n",
       "      <td>0.702307</td>\n",
       "      <td>0.400000</td>\n",
       "      <td>1.705768</td>\n",
       "    </tr>\n",
       "    <tr>\n",
       "      <th>36</th>\n",
       "      <td>XLK</td>\n",
       "      <td>XLE</td>\n",
       "      <td>XLB</td>\n",
       "      <td>0.657982</td>\n",
       "      <td>-0.657982</td>\n",
       "      <td>1.000000</td>\n",
       "      <td>0.690351</td>\n",
       "      <td>0.400000</td>\n",
       "      <td>1.675877</td>\n",
       "    </tr>\n",
       "    <tr>\n",
       "      <th>...</th>\n",
       "      <td>...</td>\n",
       "      <td>...</td>\n",
       "      <td>...</td>\n",
       "      <td>...</td>\n",
       "      <td>...</td>\n",
       "      <td>...</td>\n",
       "      <td>...</td>\n",
       "      <td>...</td>\n",
       "      <td>...</td>\n",
       "    </tr>\n",
       "    <tr>\n",
       "      <th>98</th>\n",
       "      <td>XLU</td>\n",
       "      <td>XLRE</td>\n",
       "      <td>XLI</td>\n",
       "      <td>0.935247</td>\n",
       "      <td>-0.935247</td>\n",
       "      <td>1.000000</td>\n",
       "      <td>0.083770</td>\n",
       "      <td>0.400000</td>\n",
       "      <td>0.159425</td>\n",
       "    </tr>\n",
       "    <tr>\n",
       "      <th>70</th>\n",
       "      <td>XLF</td>\n",
       "      <td>XLRE</td>\n",
       "      <td>XLI</td>\n",
       "      <td>-1.000000</td>\n",
       "      <td>1.000000</td>\n",
       "      <td>1.000000</td>\n",
       "      <td>0.070202</td>\n",
       "      <td>0.389433</td>\n",
       "      <td>0.128910</td>\n",
       "    </tr>\n",
       "    <tr>\n",
       "      <th>94</th>\n",
       "      <td>XLU</td>\n",
       "      <td>XLRE</td>\n",
       "      <td>XLE</td>\n",
       "      <td>0.689485</td>\n",
       "      <td>0.616817</td>\n",
       "      <td>-0.306302</td>\n",
       "      <td>0.057367</td>\n",
       "      <td>0.400000</td>\n",
       "      <td>0.093417</td>\n",
       "    </tr>\n",
       "    <tr>\n",
       "      <th>66</th>\n",
       "      <td>XLF</td>\n",
       "      <td>XLRE</td>\n",
       "      <td>XLE</td>\n",
       "      <td>0.403404</td>\n",
       "      <td>0.850807</td>\n",
       "      <td>-0.254212</td>\n",
       "      <td>0.021657</td>\n",
       "      <td>0.400000</td>\n",
       "      <td>0.004141</td>\n",
       "    </tr>\n",
       "    <tr>\n",
       "      <th>47</th>\n",
       "      <td>XLF</td>\n",
       "      <td>XLU</td>\n",
       "      <td>XLRE</td>\n",
       "      <td>-0.395848</td>\n",
       "      <td>1.000000</td>\n",
       "      <td>0.395848</td>\n",
       "      <td>-0.028712</td>\n",
       "      <td>0.400000</td>\n",
       "      <td>-0.121781</td>\n",
       "    </tr>\n",
       "  </tbody>\n",
       "</table>\n",
       "<p>165 rows × 9 columns</p>\n",
       "</div>"
      ],
      "text/plain": [
       "    Asset_1 Asset_2 Asset_3  Weight_1  Weight_2  Weight_3  Expected_Return  \\\n",
       "155     XLE     XLY     XLB -0.893584  1.000000  0.893584         0.766917   \n",
       "158     XLE     XLB     XLC -0.866546  1.000000  0.866546         0.713030   \n",
       "35      XLK     XLE     XLY  0.582977 -0.582977  1.000000         0.711752   \n",
       "156     XLE     XLY     XLC -0.718941  1.000000  0.718941         0.702307   \n",
       "36      XLK     XLE     XLB  0.657982 -0.657982  1.000000         0.690351   \n",
       "..      ...     ...     ...       ...       ...       ...              ...   \n",
       "98      XLU    XLRE     XLI  0.935247 -0.935247  1.000000         0.083770   \n",
       "70      XLF    XLRE     XLI -1.000000  1.000000  1.000000         0.070202   \n",
       "94      XLU    XLRE     XLE  0.689485  0.616817 -0.306302         0.057367   \n",
       "66      XLF    XLRE     XLE  0.403404  0.850807 -0.254212         0.021657   \n",
       "47      XLF     XLU    XLRE -0.395848  1.000000  0.395848        -0.028712   \n",
       "\n",
       "     Annual_Volatility  Sharpe_Ratio  \n",
       "155           0.400000      1.867293  \n",
       "158           0.400000      1.732576  \n",
       "35            0.400000      1.729379  \n",
       "156           0.400000      1.705768  \n",
       "36            0.400000      1.675877  \n",
       "..                 ...           ...  \n",
       "98            0.400000      0.159425  \n",
       "70            0.389433      0.128910  \n",
       "94            0.400000      0.093417  \n",
       "66            0.400000      0.004141  \n",
       "47            0.400000     -0.121781  \n",
       "\n",
       "[165 rows x 9 columns]"
      ]
     },
     "execution_count": 49,
     "metadata": {},
     "output_type": "execute_result"
    }
   ],
   "source": [
    "optimal_ptf_2020.sort_values('Sharpe_Ratio', ascending=False)"
   ]
  },
  {
   "cell_type": "markdown",
   "metadata": {
    "id": "3bEEDWNsxrP9"
   },
   "source": [
    "The Sharpe Ratios for 2019 are higher. One reason could be that volatility of portfolios in 2019 were lower. 2020 was a year of higher volatility. "
   ]
  },
  {
   "cell_type": "markdown",
   "metadata": {
    "id": "EiDeKeMdyAx_"
   },
   "source": [
    "# 6 Analyzing 3 Security Portfolios"
   ]
  },
  {
   "cell_type": "code",
   "execution_count": 50,
   "metadata": {},
   "outputs": [],
   "source": [
    "fred = Fred(api_key='b92c78112636e691a41a2398f567d4bc')"
   ]
  },
  {
   "cell_type": "code",
   "execution_count": 51,
   "metadata": {
    "id": "vMVkP6LyyKVs"
   },
   "outputs": [],
   "source": [
    "econ_indic_tckrs = ['AWHMAN', 'ICSA', 'ACDGNO', 'NEWORDER', 'UNXANO', 'PERMIT1', 'SP500', 'NFCINONFINLEVERAGE', 'T10YFF', 'UMCSENT', \n",
    "                    'PAYEMS', 'W875RX1', 'INDPRO', 'CMRMTSPL', \n",
    "                    'MNFCTRIRSA', 'UEMPMEAN', 'TOTALSL','BUSLOANS', 'DPRIME', 'ULCMFG', 'CUSR0000SASLE']\n",
    "\n",
    "lei_indc = econ_indic_tckrs[:10]\n",
    "cei_indc = econ_indic_tckrs[10:14]\n",
    "lag_indc = econ_indic_tckrs[14:]"
   ]
  },
  {
   "cell_type": "code",
   "execution_count": 52,
   "metadata": {},
   "outputs": [],
   "source": [
    "economic_indicators = to_monthly(pd.DataFrame(fred.get_series('AWHMAN'), columns = ['AWHMAN']).loc[start:end,:])\n",
    "\n",
    "for tkr in econ_indic_tckrs[1:]:  \n",
    "    economic_indicators =  pd.concat([economic_indicators, to_monthly(pd.DataFrame(fred.get_series(tkr), columns = [tkr]).loc[start:end,:])], axis = 1)"
   ]
  },
  {
   "cell_type": "code",
   "execution_count": 53,
   "metadata": {},
   "outputs": [],
   "source": [
    "economic_indicators = economic_indicators.fillna(0)"
   ]
  },
  {
   "cell_type": "code",
   "execution_count": 55,
   "metadata": {
    "id": "woL7B6la5My4"
   },
   "outputs": [],
   "source": [
    "econ_indic_tckrs = ['AWHMAN', 'ICSA', 'ACDGNO', 'NEWORDER', 'UNXANO', 'PERMIT1', 'SP500', 'NFCINONFINLEVERAGE', 'T10YFF', 'UMCSENT', \n",
    "                    'PAYEMS', 'W875RX1', 'INDPRO', 'CMRMTSPL', \n",
    "                    'MNFCTRIRSA', 'UEMPMEAN', 'TOTALSL','BUSLOANS', 'DPRIME', 'ULCMFG', 'CUSR0000SASLE']\n",
    "\n",
    "lei_indc = econ_indic_tckrs[:10]\n",
    "cei_indc = econ_indic_tckrs[10:14]\n",
    "lag_indc = econ_indic_tckrs[14:]"
   ]
  },
  {
   "cell_type": "code",
   "execution_count": 56,
   "metadata": {},
   "outputs": [],
   "source": [
    "lei = economic_indicators[lei_indc]\n",
    "cei = economic_indicators[cei_indc]\n",
    "lag = economic_indicators[lag_indc]"
   ]
  },
  {
   "cell_type": "code",
   "execution_count": 57,
   "metadata": {},
   "outputs": [],
   "source": [
    "def run_linreg(X_df, Y_df):\n",
    "    \n",
    "    n_rows = len(Y_df.columns)\n",
    "\n",
    "    coefficient_matrix = pd.DataFrame([], index = Y_df.columns, columns = X_df.columns)\n",
    "    tstat_matrix = pd.DataFrame([], index = Y_df.columns, columns = X_df.columns)\n",
    "    r_squared = pd.DataFrame([0]*n_rows, index = Y_df.columns, columns = ['Adjusted_R_Squared'] )\n",
    "\n",
    "    for tckr in Y_df.columns:\n",
    "        X0 = X_df[ ~Y_df[tckr].isnull() ]\n",
    "        X = sm.add_constant(X0).astype(float)\n",
    "        \n",
    "        y = Y_df[tckr][ ~Y_df[tckr].isnull() ].astype(float)\n",
    "    \n",
    "        linreg = sm.OLS(y, X)\n",
    "        linreg2 = linreg.fit()\n",
    "        \n",
    "        coefficient_matrix.loc[tckr,:] = linreg2.params[1:]\n",
    "        r_squared.loc[tckr,:] = linreg2.rsquared_adj\n",
    "        tstat_matrix.loc[tckr,:] = linreg2.tvalues[1:]\n",
    "       \n",
    "    return(tstat_matrix, coefficient_matrix, r_squared)"
   ]
  },
  {
   "cell_type": "code",
   "execution_count": 58,
   "metadata": {},
   "outputs": [],
   "source": [
    "month_return = to_monthly(spdr_etf_rtns)\n",
    "month_return = month_return.fillna(month_return.mean())"
   ]
  },
  {
   "cell_type": "code",
   "execution_count": 59,
   "metadata": {},
   "outputs": [],
   "source": [
    "def best_fit(groups, returns):\n",
    "    table = {}\n",
    "\n",
    "    table['ETF']= returns.columns\n",
    "    \n",
    "    A=[lei, cei, lag]\n",
    "\n",
    "    for i in range(len(groups)):\n",
    "        _, _, adjusted_r_square = run_linreg(A[i], returns)\n",
    "        table[groups[i]] = adjusted_r_square['Adjusted_R_Squared'].to_list()\n",
    "\n",
    "    return pd.DataFrame(table)"
   ]
  },
  {
   "cell_type": "code",
   "execution_count": 60,
   "metadata": {},
   "outputs": [
    {
     "name": "stderr",
     "output_type": "stream",
     "text": [
      "C:\\Users\\huomi\\AppData\\Local\\Packages\\PythonSoftwareFoundation.Python.3.9_qbz5n2kfra8p0\\LocalCache\\local-packages\\Python39\\site-packages\\statsmodels\\tsa\\tsatools.py:142: FutureWarning: In a future version of pandas all arguments of concat except for the argument 'objs' will be keyword-only\n",
      "  x = pd.concat(x[::order], 1)\n",
      "C:\\Users\\huomi\\AppData\\Local\\Packages\\PythonSoftwareFoundation.Python.3.9_qbz5n2kfra8p0\\LocalCache\\local-packages\\Python39\\site-packages\\statsmodels\\tsa\\tsatools.py:142: FutureWarning: In a future version of pandas all arguments of concat except for the argument 'objs' will be keyword-only\n",
      "  x = pd.concat(x[::order], 1)\n",
      "C:\\Users\\huomi\\AppData\\Local\\Packages\\PythonSoftwareFoundation.Python.3.9_qbz5n2kfra8p0\\LocalCache\\local-packages\\Python39\\site-packages\\statsmodels\\tsa\\tsatools.py:142: FutureWarning: In a future version of pandas all arguments of concat except for the argument 'objs' will be keyword-only\n",
      "  x = pd.concat(x[::order], 1)\n",
      "C:\\Users\\huomi\\AppData\\Local\\Packages\\PythonSoftwareFoundation.Python.3.9_qbz5n2kfra8p0\\LocalCache\\local-packages\\Python39\\site-packages\\statsmodels\\tsa\\tsatools.py:142: FutureWarning: In a future version of pandas all arguments of concat except for the argument 'objs' will be keyword-only\n",
      "  x = pd.concat(x[::order], 1)\n",
      "C:\\Users\\huomi\\AppData\\Local\\Packages\\PythonSoftwareFoundation.Python.3.9_qbz5n2kfra8p0\\LocalCache\\local-packages\\Python39\\site-packages\\statsmodels\\tsa\\tsatools.py:142: FutureWarning: In a future version of pandas all arguments of concat except for the argument 'objs' will be keyword-only\n",
      "  x = pd.concat(x[::order], 1)\n",
      "C:\\Users\\huomi\\AppData\\Local\\Packages\\PythonSoftwareFoundation.Python.3.9_qbz5n2kfra8p0\\LocalCache\\local-packages\\Python39\\site-packages\\statsmodels\\tsa\\tsatools.py:142: FutureWarning: In a future version of pandas all arguments of concat except for the argument 'objs' will be keyword-only\n",
      "  x = pd.concat(x[::order], 1)\n",
      "C:\\Users\\huomi\\AppData\\Local\\Packages\\PythonSoftwareFoundation.Python.3.9_qbz5n2kfra8p0\\LocalCache\\local-packages\\Python39\\site-packages\\statsmodels\\tsa\\tsatools.py:142: FutureWarning: In a future version of pandas all arguments of concat except for the argument 'objs' will be keyword-only\n",
      "  x = pd.concat(x[::order], 1)\n",
      "C:\\Users\\huomi\\AppData\\Local\\Packages\\PythonSoftwareFoundation.Python.3.9_qbz5n2kfra8p0\\LocalCache\\local-packages\\Python39\\site-packages\\statsmodels\\tsa\\tsatools.py:142: FutureWarning: In a future version of pandas all arguments of concat except for the argument 'objs' will be keyword-only\n",
      "  x = pd.concat(x[::order], 1)\n",
      "C:\\Users\\huomi\\AppData\\Local\\Packages\\PythonSoftwareFoundation.Python.3.9_qbz5n2kfra8p0\\LocalCache\\local-packages\\Python39\\site-packages\\statsmodels\\tsa\\tsatools.py:142: FutureWarning: In a future version of pandas all arguments of concat except for the argument 'objs' will be keyword-only\n",
      "  x = pd.concat(x[::order], 1)\n",
      "C:\\Users\\huomi\\AppData\\Local\\Packages\\PythonSoftwareFoundation.Python.3.9_qbz5n2kfra8p0\\LocalCache\\local-packages\\Python39\\site-packages\\statsmodels\\tsa\\tsatools.py:142: FutureWarning: In a future version of pandas all arguments of concat except for the argument 'objs' will be keyword-only\n",
      "  x = pd.concat(x[::order], 1)\n",
      "C:\\Users\\huomi\\AppData\\Local\\Packages\\PythonSoftwareFoundation.Python.3.9_qbz5n2kfra8p0\\LocalCache\\local-packages\\Python39\\site-packages\\statsmodels\\tsa\\tsatools.py:142: FutureWarning: In a future version of pandas all arguments of concat except for the argument 'objs' will be keyword-only\n",
      "  x = pd.concat(x[::order], 1)\n",
      "C:\\Users\\huomi\\AppData\\Local\\Packages\\PythonSoftwareFoundation.Python.3.9_qbz5n2kfra8p0\\LocalCache\\local-packages\\Python39\\site-packages\\statsmodels\\tsa\\tsatools.py:142: FutureWarning: In a future version of pandas all arguments of concat except for the argument 'objs' will be keyword-only\n",
      "  x = pd.concat(x[::order], 1)\n",
      "C:\\Users\\huomi\\AppData\\Local\\Packages\\PythonSoftwareFoundation.Python.3.9_qbz5n2kfra8p0\\LocalCache\\local-packages\\Python39\\site-packages\\statsmodels\\tsa\\tsatools.py:142: FutureWarning: In a future version of pandas all arguments of concat except for the argument 'objs' will be keyword-only\n",
      "  x = pd.concat(x[::order], 1)\n",
      "C:\\Users\\huomi\\AppData\\Local\\Packages\\PythonSoftwareFoundation.Python.3.9_qbz5n2kfra8p0\\LocalCache\\local-packages\\Python39\\site-packages\\statsmodels\\tsa\\tsatools.py:142: FutureWarning: In a future version of pandas all arguments of concat except for the argument 'objs' will be keyword-only\n",
      "  x = pd.concat(x[::order], 1)\n",
      "C:\\Users\\huomi\\AppData\\Local\\Packages\\PythonSoftwareFoundation.Python.3.9_qbz5n2kfra8p0\\LocalCache\\local-packages\\Python39\\site-packages\\statsmodels\\tsa\\tsatools.py:142: FutureWarning: In a future version of pandas all arguments of concat except for the argument 'objs' will be keyword-only\n",
      "  x = pd.concat(x[::order], 1)\n",
      "C:\\Users\\huomi\\AppData\\Local\\Packages\\PythonSoftwareFoundation.Python.3.9_qbz5n2kfra8p0\\LocalCache\\local-packages\\Python39\\site-packages\\statsmodels\\tsa\\tsatools.py:142: FutureWarning: In a future version of pandas all arguments of concat except for the argument 'objs' will be keyword-only\n",
      "  x = pd.concat(x[::order], 1)\n",
      "C:\\Users\\huomi\\AppData\\Local\\Packages\\PythonSoftwareFoundation.Python.3.9_qbz5n2kfra8p0\\LocalCache\\local-packages\\Python39\\site-packages\\statsmodels\\tsa\\tsatools.py:142: FutureWarning: In a future version of pandas all arguments of concat except for the argument 'objs' will be keyword-only\n",
      "  x = pd.concat(x[::order], 1)\n",
      "C:\\Users\\huomi\\AppData\\Local\\Packages\\PythonSoftwareFoundation.Python.3.9_qbz5n2kfra8p0\\LocalCache\\local-packages\\Python39\\site-packages\\statsmodels\\tsa\\tsatools.py:142: FutureWarning: In a future version of pandas all arguments of concat except for the argument 'objs' will be keyword-only\n",
      "  x = pd.concat(x[::order], 1)\n",
      "C:\\Users\\huomi\\AppData\\Local\\Packages\\PythonSoftwareFoundation.Python.3.9_qbz5n2kfra8p0\\LocalCache\\local-packages\\Python39\\site-packages\\statsmodels\\tsa\\tsatools.py:142: FutureWarning: In a future version of pandas all arguments of concat except for the argument 'objs' will be keyword-only\n",
      "  x = pd.concat(x[::order], 1)\n",
      "C:\\Users\\huomi\\AppData\\Local\\Packages\\PythonSoftwareFoundation.Python.3.9_qbz5n2kfra8p0\\LocalCache\\local-packages\\Python39\\site-packages\\statsmodels\\tsa\\tsatools.py:142: FutureWarning: In a future version of pandas all arguments of concat except for the argument 'objs' will be keyword-only\n",
      "  x = pd.concat(x[::order], 1)\n",
      "C:\\Users\\huomi\\AppData\\Local\\Packages\\PythonSoftwareFoundation.Python.3.9_qbz5n2kfra8p0\\LocalCache\\local-packages\\Python39\\site-packages\\statsmodels\\tsa\\tsatools.py:142: FutureWarning: In a future version of pandas all arguments of concat except for the argument 'objs' will be keyword-only\n",
      "  x = pd.concat(x[::order], 1)\n",
      "C:\\Users\\huomi\\AppData\\Local\\Packages\\PythonSoftwareFoundation.Python.3.9_qbz5n2kfra8p0\\LocalCache\\local-packages\\Python39\\site-packages\\statsmodels\\tsa\\tsatools.py:142: FutureWarning: In a future version of pandas all arguments of concat except for the argument 'objs' will be keyword-only\n",
      "  x = pd.concat(x[::order], 1)\n",
      "C:\\Users\\huomi\\AppData\\Local\\Packages\\PythonSoftwareFoundation.Python.3.9_qbz5n2kfra8p0\\LocalCache\\local-packages\\Python39\\site-packages\\statsmodels\\tsa\\tsatools.py:142: FutureWarning: In a future version of pandas all arguments of concat except for the argument 'objs' will be keyword-only\n",
      "  x = pd.concat(x[::order], 1)\n",
      "C:\\Users\\huomi\\AppData\\Local\\Packages\\PythonSoftwareFoundation.Python.3.9_qbz5n2kfra8p0\\LocalCache\\local-packages\\Python39\\site-packages\\statsmodels\\tsa\\tsatools.py:142: FutureWarning: In a future version of pandas all arguments of concat except for the argument 'objs' will be keyword-only\n",
      "  x = pd.concat(x[::order], 1)\n",
      "C:\\Users\\huomi\\AppData\\Local\\Packages\\PythonSoftwareFoundation.Python.3.9_qbz5n2kfra8p0\\LocalCache\\local-packages\\Python39\\site-packages\\statsmodels\\tsa\\tsatools.py:142: FutureWarning: In a future version of pandas all arguments of concat except for the argument 'objs' will be keyword-only\n",
      "  x = pd.concat(x[::order], 1)\n",
      "C:\\Users\\huomi\\AppData\\Local\\Packages\\PythonSoftwareFoundation.Python.3.9_qbz5n2kfra8p0\\LocalCache\\local-packages\\Python39\\site-packages\\statsmodels\\tsa\\tsatools.py:142: FutureWarning: In a future version of pandas all arguments of concat except for the argument 'objs' will be keyword-only\n",
      "  x = pd.concat(x[::order], 1)\n",
      "C:\\Users\\huomi\\AppData\\Local\\Packages\\PythonSoftwareFoundation.Python.3.9_qbz5n2kfra8p0\\LocalCache\\local-packages\\Python39\\site-packages\\statsmodels\\tsa\\tsatools.py:142: FutureWarning: In a future version of pandas all arguments of concat except for the argument 'objs' will be keyword-only\n",
      "  x = pd.concat(x[::order], 1)\n",
      "C:\\Users\\huomi\\AppData\\Local\\Packages\\PythonSoftwareFoundation.Python.3.9_qbz5n2kfra8p0\\LocalCache\\local-packages\\Python39\\site-packages\\statsmodels\\tsa\\tsatools.py:142: FutureWarning: In a future version of pandas all arguments of concat except for the argument 'objs' will be keyword-only\n",
      "  x = pd.concat(x[::order], 1)\n",
      "C:\\Users\\huomi\\AppData\\Local\\Packages\\PythonSoftwareFoundation.Python.3.9_qbz5n2kfra8p0\\LocalCache\\local-packages\\Python39\\site-packages\\statsmodels\\tsa\\tsatools.py:142: FutureWarning: In a future version of pandas all arguments of concat except for the argument 'objs' will be keyword-only\n",
      "  x = pd.concat(x[::order], 1)\n",
      "C:\\Users\\huomi\\AppData\\Local\\Packages\\PythonSoftwareFoundation.Python.3.9_qbz5n2kfra8p0\\LocalCache\\local-packages\\Python39\\site-packages\\statsmodels\\tsa\\tsatools.py:142: FutureWarning: In a future version of pandas all arguments of concat except for the argument 'objs' will be keyword-only\n",
      "  x = pd.concat(x[::order], 1)\n",
      "C:\\Users\\huomi\\AppData\\Local\\Packages\\PythonSoftwareFoundation.Python.3.9_qbz5n2kfra8p0\\LocalCache\\local-packages\\Python39\\site-packages\\statsmodels\\tsa\\tsatools.py:142: FutureWarning: In a future version of pandas all arguments of concat except for the argument 'objs' will be keyword-only\n",
      "  x = pd.concat(x[::order], 1)\n",
      "C:\\Users\\huomi\\AppData\\Local\\Packages\\PythonSoftwareFoundation.Python.3.9_qbz5n2kfra8p0\\LocalCache\\local-packages\\Python39\\site-packages\\statsmodels\\tsa\\tsatools.py:142: FutureWarning: In a future version of pandas all arguments of concat except for the argument 'objs' will be keyword-only\n",
      "  x = pd.concat(x[::order], 1)\n",
      "C:\\Users\\huomi\\AppData\\Local\\Packages\\PythonSoftwareFoundation.Python.3.9_qbz5n2kfra8p0\\LocalCache\\local-packages\\Python39\\site-packages\\statsmodels\\tsa\\tsatools.py:142: FutureWarning: In a future version of pandas all arguments of concat except for the argument 'objs' will be keyword-only\n",
      "  x = pd.concat(x[::order], 1)\n"
     ]
    }
   ],
   "source": [
    "B= ['lei_r_squared', 'cei_r_squared', 'lag_r_squared']\n",
    "\n",
    "Best_corr = best_fit(B, month_return)"
   ]
  },
  {
   "cell_type": "code",
   "execution_count": 61,
   "metadata": {},
   "outputs": [],
   "source": [
    "Best_corr['groups'] = Best_corr[['lei_r_squared', 'cei_r_squared', 'lag_r_squared']].idxmax(axis=1)"
   ]
  },
  {
   "cell_type": "code",
   "execution_count": 62,
   "metadata": {},
   "outputs": [
    {
     "data": {
      "text/html": [
       "<div>\n",
       "<style scoped>\n",
       "    .dataframe tbody tr th:only-of-type {\n",
       "        vertical-align: middle;\n",
       "    }\n",
       "\n",
       "    .dataframe tbody tr th {\n",
       "        vertical-align: top;\n",
       "    }\n",
       "\n",
       "    .dataframe thead th {\n",
       "        text-align: right;\n",
       "    }\n",
       "</style>\n",
       "<table border=\"1\" class=\"dataframe\">\n",
       "  <thead>\n",
       "    <tr style=\"text-align: right;\">\n",
       "      <th></th>\n",
       "      <th>Asset_1</th>\n",
       "      <th>Asset_2</th>\n",
       "      <th>Asset_3</th>\n",
       "      <th>Weight_1</th>\n",
       "      <th>Weight_2</th>\n",
       "      <th>Weight_3</th>\n",
       "      <th>Expected_Return</th>\n",
       "      <th>Annual_Volatility</th>\n",
       "      <th>Sharpe_Ratio</th>\n",
       "    </tr>\n",
       "  </thead>\n",
       "  <tbody>\n",
       "    <tr>\n",
       "      <th>155</th>\n",
       "      <td>XLE</td>\n",
       "      <td>XLY</td>\n",
       "      <td>XLB</td>\n",
       "      <td>-0.893584</td>\n",
       "      <td>1.000000</td>\n",
       "      <td>0.893584</td>\n",
       "      <td>0.766917</td>\n",
       "      <td>0.400000</td>\n",
       "      <td>1.867293</td>\n",
       "    </tr>\n",
       "    <tr>\n",
       "      <th>158</th>\n",
       "      <td>XLE</td>\n",
       "      <td>XLB</td>\n",
       "      <td>XLC</td>\n",
       "      <td>-0.866546</td>\n",
       "      <td>1.000000</td>\n",
       "      <td>0.866546</td>\n",
       "      <td>0.713030</td>\n",
       "      <td>0.400000</td>\n",
       "      <td>1.732576</td>\n",
       "    </tr>\n",
       "    <tr>\n",
       "      <th>35</th>\n",
       "      <td>XLK</td>\n",
       "      <td>XLE</td>\n",
       "      <td>XLY</td>\n",
       "      <td>0.582977</td>\n",
       "      <td>-0.582977</td>\n",
       "      <td>1.000000</td>\n",
       "      <td>0.711752</td>\n",
       "      <td>0.400000</td>\n",
       "      <td>1.729379</td>\n",
       "    </tr>\n",
       "    <tr>\n",
       "      <th>156</th>\n",
       "      <td>XLE</td>\n",
       "      <td>XLY</td>\n",
       "      <td>XLC</td>\n",
       "      <td>-0.718941</td>\n",
       "      <td>1.000000</td>\n",
       "      <td>0.718941</td>\n",
       "      <td>0.702307</td>\n",
       "      <td>0.400000</td>\n",
       "      <td>1.705768</td>\n",
       "    </tr>\n",
       "    <tr>\n",
       "      <th>36</th>\n",
       "      <td>XLK</td>\n",
       "      <td>XLE</td>\n",
       "      <td>XLB</td>\n",
       "      <td>0.657982</td>\n",
       "      <td>-0.657982</td>\n",
       "      <td>1.000000</td>\n",
       "      <td>0.690351</td>\n",
       "      <td>0.400000</td>\n",
       "      <td>1.675877</td>\n",
       "    </tr>\n",
       "    <tr>\n",
       "      <th>...</th>\n",
       "      <td>...</td>\n",
       "      <td>...</td>\n",
       "      <td>...</td>\n",
       "      <td>...</td>\n",
       "      <td>...</td>\n",
       "      <td>...</td>\n",
       "      <td>...</td>\n",
       "      <td>...</td>\n",
       "      <td>...</td>\n",
       "    </tr>\n",
       "    <tr>\n",
       "      <th>98</th>\n",
       "      <td>XLU</td>\n",
       "      <td>XLRE</td>\n",
       "      <td>XLI</td>\n",
       "      <td>0.935247</td>\n",
       "      <td>-0.935247</td>\n",
       "      <td>1.000000</td>\n",
       "      <td>0.083770</td>\n",
       "      <td>0.400000</td>\n",
       "      <td>0.159425</td>\n",
       "    </tr>\n",
       "    <tr>\n",
       "      <th>70</th>\n",
       "      <td>XLF</td>\n",
       "      <td>XLRE</td>\n",
       "      <td>XLI</td>\n",
       "      <td>-1.000000</td>\n",
       "      <td>1.000000</td>\n",
       "      <td>1.000000</td>\n",
       "      <td>0.070202</td>\n",
       "      <td>0.389433</td>\n",
       "      <td>0.128910</td>\n",
       "    </tr>\n",
       "    <tr>\n",
       "      <th>94</th>\n",
       "      <td>XLU</td>\n",
       "      <td>XLRE</td>\n",
       "      <td>XLE</td>\n",
       "      <td>0.689485</td>\n",
       "      <td>0.616817</td>\n",
       "      <td>-0.306302</td>\n",
       "      <td>0.057367</td>\n",
       "      <td>0.400000</td>\n",
       "      <td>0.093417</td>\n",
       "    </tr>\n",
       "    <tr>\n",
       "      <th>66</th>\n",
       "      <td>XLF</td>\n",
       "      <td>XLRE</td>\n",
       "      <td>XLE</td>\n",
       "      <td>0.403404</td>\n",
       "      <td>0.850807</td>\n",
       "      <td>-0.254212</td>\n",
       "      <td>0.021657</td>\n",
       "      <td>0.400000</td>\n",
       "      <td>0.004141</td>\n",
       "    </tr>\n",
       "    <tr>\n",
       "      <th>47</th>\n",
       "      <td>XLF</td>\n",
       "      <td>XLU</td>\n",
       "      <td>XLRE</td>\n",
       "      <td>-0.395848</td>\n",
       "      <td>1.000000</td>\n",
       "      <td>0.395848</td>\n",
       "      <td>-0.028712</td>\n",
       "      <td>0.400000</td>\n",
       "      <td>-0.121781</td>\n",
       "    </tr>\n",
       "  </tbody>\n",
       "</table>\n",
       "<p>165 rows × 9 columns</p>\n",
       "</div>"
      ],
      "text/plain": [
       "    Asset_1 Asset_2 Asset_3  Weight_1  Weight_2  Weight_3  Expected_Return  \\\n",
       "155     XLE     XLY     XLB -0.893584  1.000000  0.893584         0.766917   \n",
       "158     XLE     XLB     XLC -0.866546  1.000000  0.866546         0.713030   \n",
       "35      XLK     XLE     XLY  0.582977 -0.582977  1.000000         0.711752   \n",
       "156     XLE     XLY     XLC -0.718941  1.000000  0.718941         0.702307   \n",
       "36      XLK     XLE     XLB  0.657982 -0.657982  1.000000         0.690351   \n",
       "..      ...     ...     ...       ...       ...       ...              ...   \n",
       "98      XLU    XLRE     XLI  0.935247 -0.935247  1.000000         0.083770   \n",
       "70      XLF    XLRE     XLI -1.000000  1.000000  1.000000         0.070202   \n",
       "94      XLU    XLRE     XLE  0.689485  0.616817 -0.306302         0.057367   \n",
       "66      XLF    XLRE     XLE  0.403404  0.850807 -0.254212         0.021657   \n",
       "47      XLF     XLU    XLRE -0.395848  1.000000  0.395848        -0.028712   \n",
       "\n",
       "     Annual_Volatility  Sharpe_Ratio  \n",
       "155           0.400000      1.867293  \n",
       "158           0.400000      1.732576  \n",
       "35            0.400000      1.729379  \n",
       "156           0.400000      1.705768  \n",
       "36            0.400000      1.675877  \n",
       "..                 ...           ...  \n",
       "98            0.400000      0.159425  \n",
       "70            0.389433      0.128910  \n",
       "94            0.400000      0.093417  \n",
       "66            0.400000      0.004141  \n",
       "47            0.400000     -0.121781  \n",
       "\n",
       "[165 rows x 9 columns]"
      ]
     },
     "execution_count": 62,
     "metadata": {},
     "output_type": "execute_result"
    }
   ],
   "source": [
    "best_comb = optimal_ptf_2020.sort_values('Sharpe_Ratio', ascending=False)\n",
    "best_comb"
   ]
  },
  {
   "cell_type": "code",
   "execution_count": 63,
   "metadata": {},
   "outputs": [
    {
     "data": {
      "text/html": [
       "<div>\n",
       "<style scoped>\n",
       "    .dataframe tbody tr th:only-of-type {\n",
       "        vertical-align: middle;\n",
       "    }\n",
       "\n",
       "    .dataframe tbody tr th {\n",
       "        vertical-align: top;\n",
       "    }\n",
       "\n",
       "    .dataframe thead th {\n",
       "        text-align: right;\n",
       "    }\n",
       "</style>\n",
       "<table border=\"1\" class=\"dataframe\">\n",
       "  <thead>\n",
       "    <tr style=\"text-align: right;\">\n",
       "      <th></th>\n",
       "      <th>Asset_1</th>\n",
       "      <th>Asset_2</th>\n",
       "      <th>Asset_3</th>\n",
       "      <th>Weight_1</th>\n",
       "      <th>Weight_2</th>\n",
       "      <th>Weight_3</th>\n",
       "      <th>Expected_Return</th>\n",
       "      <th>Annual_Volatility</th>\n",
       "      <th>Sharpe_Ratio</th>\n",
       "    </tr>\n",
       "  </thead>\n",
       "  <tbody>\n",
       "    <tr>\n",
       "      <th>155</th>\n",
       "      <td>lei_r_squared</td>\n",
       "      <td>lei_r_squared</td>\n",
       "      <td>lei_r_squared</td>\n",
       "      <td>-0.893584</td>\n",
       "      <td>1.000000</td>\n",
       "      <td>0.893584</td>\n",
       "      <td>0.766917</td>\n",
       "      <td>0.400000</td>\n",
       "      <td>1.867293</td>\n",
       "    </tr>\n",
       "    <tr>\n",
       "      <th>158</th>\n",
       "      <td>lei_r_squared</td>\n",
       "      <td>lei_r_squared</td>\n",
       "      <td>lei_r_squared</td>\n",
       "      <td>-0.866546</td>\n",
       "      <td>1.000000</td>\n",
       "      <td>0.866546</td>\n",
       "      <td>0.713030</td>\n",
       "      <td>0.400000</td>\n",
       "      <td>1.732576</td>\n",
       "    </tr>\n",
       "    <tr>\n",
       "      <th>35</th>\n",
       "      <td>lei_r_squared</td>\n",
       "      <td>lei_r_squared</td>\n",
       "      <td>lei_r_squared</td>\n",
       "      <td>0.582977</td>\n",
       "      <td>-0.582977</td>\n",
       "      <td>1.000000</td>\n",
       "      <td>0.711752</td>\n",
       "      <td>0.400000</td>\n",
       "      <td>1.729379</td>\n",
       "    </tr>\n",
       "    <tr>\n",
       "      <th>156</th>\n",
       "      <td>lei_r_squared</td>\n",
       "      <td>lei_r_squared</td>\n",
       "      <td>lei_r_squared</td>\n",
       "      <td>-0.718941</td>\n",
       "      <td>1.000000</td>\n",
       "      <td>0.718941</td>\n",
       "      <td>0.702307</td>\n",
       "      <td>0.400000</td>\n",
       "      <td>1.705768</td>\n",
       "    </tr>\n",
       "    <tr>\n",
       "      <th>36</th>\n",
       "      <td>lei_r_squared</td>\n",
       "      <td>lei_r_squared</td>\n",
       "      <td>lei_r_squared</td>\n",
       "      <td>0.657982</td>\n",
       "      <td>-0.657982</td>\n",
       "      <td>1.000000</td>\n",
       "      <td>0.690351</td>\n",
       "      <td>0.400000</td>\n",
       "      <td>1.675877</td>\n",
       "    </tr>\n",
       "    <tr>\n",
       "      <th>...</th>\n",
       "      <td>...</td>\n",
       "      <td>...</td>\n",
       "      <td>...</td>\n",
       "      <td>...</td>\n",
       "      <td>...</td>\n",
       "      <td>...</td>\n",
       "      <td>...</td>\n",
       "      <td>...</td>\n",
       "      <td>...</td>\n",
       "    </tr>\n",
       "    <tr>\n",
       "      <th>98</th>\n",
       "      <td>lag_r_squared</td>\n",
       "      <td>lei_r_squared</td>\n",
       "      <td>lei_r_squared</td>\n",
       "      <td>0.935247</td>\n",
       "      <td>-0.935247</td>\n",
       "      <td>1.000000</td>\n",
       "      <td>0.083770</td>\n",
       "      <td>0.400000</td>\n",
       "      <td>0.159425</td>\n",
       "    </tr>\n",
       "    <tr>\n",
       "      <th>70</th>\n",
       "      <td>lei_r_squared</td>\n",
       "      <td>lei_r_squared</td>\n",
       "      <td>lei_r_squared</td>\n",
       "      <td>-1.000000</td>\n",
       "      <td>1.000000</td>\n",
       "      <td>1.000000</td>\n",
       "      <td>0.070202</td>\n",
       "      <td>0.389433</td>\n",
       "      <td>0.128910</td>\n",
       "    </tr>\n",
       "    <tr>\n",
       "      <th>94</th>\n",
       "      <td>lag_r_squared</td>\n",
       "      <td>lei_r_squared</td>\n",
       "      <td>lei_r_squared</td>\n",
       "      <td>0.689485</td>\n",
       "      <td>0.616817</td>\n",
       "      <td>-0.306302</td>\n",
       "      <td>0.057367</td>\n",
       "      <td>0.400000</td>\n",
       "      <td>0.093417</td>\n",
       "    </tr>\n",
       "    <tr>\n",
       "      <th>66</th>\n",
       "      <td>lei_r_squared</td>\n",
       "      <td>lei_r_squared</td>\n",
       "      <td>lei_r_squared</td>\n",
       "      <td>0.403404</td>\n",
       "      <td>0.850807</td>\n",
       "      <td>-0.254212</td>\n",
       "      <td>0.021657</td>\n",
       "      <td>0.400000</td>\n",
       "      <td>0.004141</td>\n",
       "    </tr>\n",
       "    <tr>\n",
       "      <th>47</th>\n",
       "      <td>lei_r_squared</td>\n",
       "      <td>lag_r_squared</td>\n",
       "      <td>lei_r_squared</td>\n",
       "      <td>-0.395848</td>\n",
       "      <td>1.000000</td>\n",
       "      <td>0.395848</td>\n",
       "      <td>-0.028712</td>\n",
       "      <td>0.400000</td>\n",
       "      <td>-0.121781</td>\n",
       "    </tr>\n",
       "  </tbody>\n",
       "</table>\n",
       "<p>165 rows × 9 columns</p>\n",
       "</div>"
      ],
      "text/plain": [
       "           Asset_1        Asset_2        Asset_3  Weight_1  Weight_2  \\\n",
       "155  lei_r_squared  lei_r_squared  lei_r_squared -0.893584  1.000000   \n",
       "158  lei_r_squared  lei_r_squared  lei_r_squared -0.866546  1.000000   \n",
       "35   lei_r_squared  lei_r_squared  lei_r_squared  0.582977 -0.582977   \n",
       "156  lei_r_squared  lei_r_squared  lei_r_squared -0.718941  1.000000   \n",
       "36   lei_r_squared  lei_r_squared  lei_r_squared  0.657982 -0.657982   \n",
       "..             ...            ...            ...       ...       ...   \n",
       "98   lag_r_squared  lei_r_squared  lei_r_squared  0.935247 -0.935247   \n",
       "70   lei_r_squared  lei_r_squared  lei_r_squared -1.000000  1.000000   \n",
       "94   lag_r_squared  lei_r_squared  lei_r_squared  0.689485  0.616817   \n",
       "66   lei_r_squared  lei_r_squared  lei_r_squared  0.403404  0.850807   \n",
       "47   lei_r_squared  lag_r_squared  lei_r_squared -0.395848  1.000000   \n",
       "\n",
       "     Weight_3  Expected_Return  Annual_Volatility  Sharpe_Ratio  \n",
       "155  0.893584         0.766917           0.400000      1.867293  \n",
       "158  0.866546         0.713030           0.400000      1.732576  \n",
       "35   1.000000         0.711752           0.400000      1.729379  \n",
       "156  0.718941         0.702307           0.400000      1.705768  \n",
       "36   1.000000         0.690351           0.400000      1.675877  \n",
       "..        ...              ...                ...           ...  \n",
       "98   1.000000         0.083770           0.400000      0.159425  \n",
       "70   1.000000         0.070202           0.389433      0.128910  \n",
       "94  -0.306302         0.057367           0.400000      0.093417  \n",
       "66  -0.254212         0.021657           0.400000      0.004141  \n",
       "47   0.395848        -0.028712           0.400000     -0.121781  \n",
       "\n",
       "[165 rows x 9 columns]"
      ]
     },
     "execution_count": 63,
     "metadata": {},
     "output_type": "execute_result"
    }
   ],
   "source": [
    "best_comb_ind = best_comb.replace(Best_corr.iloc[:,0].to_list(), Best_corr.iloc[:,4].to_list())\n",
    "best_comb_ind"
   ]
  },
  {
   "cell_type": "code",
   "execution_count": 64,
   "metadata": {},
   "outputs": [],
   "source": [
    "best_comb_ind = best_comb_ind.reset_index()"
   ]
  },
  {
   "cell_type": "code",
   "execution_count": 65,
   "metadata": {},
   "outputs": [],
   "source": [
    "\n",
    "for j in range(3):\n",
    "    A = []\n",
    "    for i in range(len(best_comb_ind)):\n",
    "        if best_comb_ind.loc[i][j+4]>0:\n",
    "            A.append('+' + best_comb_ind.loc[i][j+1])\n",
    "        else:\n",
    "            A.append('-' + best_comb_ind.loc[i][j+1] ) \n",
    "    best_comb_ind[best_comb_ind.columns[j+1]]=A\n"
   ]
  },
  {
   "cell_type": "code",
   "execution_count": 66,
   "metadata": {},
   "outputs": [
    {
     "data": {
      "text/html": [
       "<div>\n",
       "<style scoped>\n",
       "    .dataframe tbody tr th:only-of-type {\n",
       "        vertical-align: middle;\n",
       "    }\n",
       "\n",
       "    .dataframe tbody tr th {\n",
       "        vertical-align: top;\n",
       "    }\n",
       "\n",
       "    .dataframe thead th {\n",
       "        text-align: right;\n",
       "    }\n",
       "</style>\n",
       "<table border=\"1\" class=\"dataframe\">\n",
       "  <thead>\n",
       "    <tr style=\"text-align: right;\">\n",
       "      <th></th>\n",
       "      <th>index</th>\n",
       "      <th>Asset_1</th>\n",
       "      <th>Asset_2</th>\n",
       "      <th>Asset_3</th>\n",
       "      <th>Weight_1</th>\n",
       "      <th>Weight_2</th>\n",
       "      <th>Weight_3</th>\n",
       "      <th>Expected_Return</th>\n",
       "      <th>Annual_Volatility</th>\n",
       "      <th>Sharpe_Ratio</th>\n",
       "    </tr>\n",
       "  </thead>\n",
       "  <tbody>\n",
       "    <tr>\n",
       "      <th>0</th>\n",
       "      <td>155</td>\n",
       "      <td>-lei_r_squared</td>\n",
       "      <td>+lei_r_squared</td>\n",
       "      <td>+lei_r_squared</td>\n",
       "      <td>-0.893584</td>\n",
       "      <td>1.000000</td>\n",
       "      <td>0.893584</td>\n",
       "      <td>0.766917</td>\n",
       "      <td>0.400000</td>\n",
       "      <td>1.867293</td>\n",
       "    </tr>\n",
       "    <tr>\n",
       "      <th>1</th>\n",
       "      <td>158</td>\n",
       "      <td>-lei_r_squared</td>\n",
       "      <td>+lei_r_squared</td>\n",
       "      <td>+lei_r_squared</td>\n",
       "      <td>-0.866546</td>\n",
       "      <td>1.000000</td>\n",
       "      <td>0.866546</td>\n",
       "      <td>0.713030</td>\n",
       "      <td>0.400000</td>\n",
       "      <td>1.732576</td>\n",
       "    </tr>\n",
       "    <tr>\n",
       "      <th>2</th>\n",
       "      <td>35</td>\n",
       "      <td>+lei_r_squared</td>\n",
       "      <td>-lei_r_squared</td>\n",
       "      <td>+lei_r_squared</td>\n",
       "      <td>0.582977</td>\n",
       "      <td>-0.582977</td>\n",
       "      <td>1.000000</td>\n",
       "      <td>0.711752</td>\n",
       "      <td>0.400000</td>\n",
       "      <td>1.729379</td>\n",
       "    </tr>\n",
       "    <tr>\n",
       "      <th>3</th>\n",
       "      <td>156</td>\n",
       "      <td>-lei_r_squared</td>\n",
       "      <td>+lei_r_squared</td>\n",
       "      <td>+lei_r_squared</td>\n",
       "      <td>-0.718941</td>\n",
       "      <td>1.000000</td>\n",
       "      <td>0.718941</td>\n",
       "      <td>0.702307</td>\n",
       "      <td>0.400000</td>\n",
       "      <td>1.705768</td>\n",
       "    </tr>\n",
       "    <tr>\n",
       "      <th>4</th>\n",
       "      <td>36</td>\n",
       "      <td>+lei_r_squared</td>\n",
       "      <td>-lei_r_squared</td>\n",
       "      <td>+lei_r_squared</td>\n",
       "      <td>0.657982</td>\n",
       "      <td>-0.657982</td>\n",
       "      <td>1.000000</td>\n",
       "      <td>0.690351</td>\n",
       "      <td>0.400000</td>\n",
       "      <td>1.675877</td>\n",
       "    </tr>\n",
       "    <tr>\n",
       "      <th>...</th>\n",
       "      <td>...</td>\n",
       "      <td>...</td>\n",
       "      <td>...</td>\n",
       "      <td>...</td>\n",
       "      <td>...</td>\n",
       "      <td>...</td>\n",
       "      <td>...</td>\n",
       "      <td>...</td>\n",
       "      <td>...</td>\n",
       "      <td>...</td>\n",
       "    </tr>\n",
       "    <tr>\n",
       "      <th>160</th>\n",
       "      <td>98</td>\n",
       "      <td>+lag_r_squared</td>\n",
       "      <td>-lei_r_squared</td>\n",
       "      <td>+lei_r_squared</td>\n",
       "      <td>0.935247</td>\n",
       "      <td>-0.935247</td>\n",
       "      <td>1.000000</td>\n",
       "      <td>0.083770</td>\n",
       "      <td>0.400000</td>\n",
       "      <td>0.159425</td>\n",
       "    </tr>\n",
       "    <tr>\n",
       "      <th>161</th>\n",
       "      <td>70</td>\n",
       "      <td>-lei_r_squared</td>\n",
       "      <td>+lei_r_squared</td>\n",
       "      <td>+lei_r_squared</td>\n",
       "      <td>-1.000000</td>\n",
       "      <td>1.000000</td>\n",
       "      <td>1.000000</td>\n",
       "      <td>0.070202</td>\n",
       "      <td>0.389433</td>\n",
       "      <td>0.128910</td>\n",
       "    </tr>\n",
       "    <tr>\n",
       "      <th>162</th>\n",
       "      <td>94</td>\n",
       "      <td>+lag_r_squared</td>\n",
       "      <td>+lei_r_squared</td>\n",
       "      <td>-lei_r_squared</td>\n",
       "      <td>0.689485</td>\n",
       "      <td>0.616817</td>\n",
       "      <td>-0.306302</td>\n",
       "      <td>0.057367</td>\n",
       "      <td>0.400000</td>\n",
       "      <td>0.093417</td>\n",
       "    </tr>\n",
       "    <tr>\n",
       "      <th>163</th>\n",
       "      <td>66</td>\n",
       "      <td>+lei_r_squared</td>\n",
       "      <td>+lei_r_squared</td>\n",
       "      <td>-lei_r_squared</td>\n",
       "      <td>0.403404</td>\n",
       "      <td>0.850807</td>\n",
       "      <td>-0.254212</td>\n",
       "      <td>0.021657</td>\n",
       "      <td>0.400000</td>\n",
       "      <td>0.004141</td>\n",
       "    </tr>\n",
       "    <tr>\n",
       "      <th>164</th>\n",
       "      <td>47</td>\n",
       "      <td>-lei_r_squared</td>\n",
       "      <td>+lag_r_squared</td>\n",
       "      <td>+lei_r_squared</td>\n",
       "      <td>-0.395848</td>\n",
       "      <td>1.000000</td>\n",
       "      <td>0.395848</td>\n",
       "      <td>-0.028712</td>\n",
       "      <td>0.400000</td>\n",
       "      <td>-0.121781</td>\n",
       "    </tr>\n",
       "  </tbody>\n",
       "</table>\n",
       "<p>165 rows × 10 columns</p>\n",
       "</div>"
      ],
      "text/plain": [
       "     index         Asset_1         Asset_2         Asset_3  Weight_1  \\\n",
       "0      155  -lei_r_squared  +lei_r_squared  +lei_r_squared -0.893584   \n",
       "1      158  -lei_r_squared  +lei_r_squared  +lei_r_squared -0.866546   \n",
       "2       35  +lei_r_squared  -lei_r_squared  +lei_r_squared  0.582977   \n",
       "3      156  -lei_r_squared  +lei_r_squared  +lei_r_squared -0.718941   \n",
       "4       36  +lei_r_squared  -lei_r_squared  +lei_r_squared  0.657982   \n",
       "..     ...             ...             ...             ...       ...   \n",
       "160     98  +lag_r_squared  -lei_r_squared  +lei_r_squared  0.935247   \n",
       "161     70  -lei_r_squared  +lei_r_squared  +lei_r_squared -1.000000   \n",
       "162     94  +lag_r_squared  +lei_r_squared  -lei_r_squared  0.689485   \n",
       "163     66  +lei_r_squared  +lei_r_squared  -lei_r_squared  0.403404   \n",
       "164     47  -lei_r_squared  +lag_r_squared  +lei_r_squared -0.395848   \n",
       "\n",
       "     Weight_2  Weight_3  Expected_Return  Annual_Volatility  Sharpe_Ratio  \n",
       "0    1.000000  0.893584         0.766917           0.400000      1.867293  \n",
       "1    1.000000  0.866546         0.713030           0.400000      1.732576  \n",
       "2   -0.582977  1.000000         0.711752           0.400000      1.729379  \n",
       "3    1.000000  0.718941         0.702307           0.400000      1.705768  \n",
       "4   -0.657982  1.000000         0.690351           0.400000      1.675877  \n",
       "..        ...       ...              ...                ...           ...  \n",
       "160 -0.935247  1.000000         0.083770           0.400000      0.159425  \n",
       "161  1.000000  1.000000         0.070202           0.389433      0.128910  \n",
       "162  0.616817 -0.306302         0.057367           0.400000      0.093417  \n",
       "163  0.850807 -0.254212         0.021657           0.400000      0.004141  \n",
       "164  1.000000  0.395848        -0.028712           0.400000     -0.121781  \n",
       "\n",
       "[165 rows x 10 columns]"
      ]
     },
     "execution_count": 66,
     "metadata": {},
     "output_type": "execute_result"
    }
   ],
   "source": [
    "# best combination of indicator groups\n",
    "best_comb_ind\n"
   ]
  },
  {
   "cell_type": "markdown",
   "metadata": {
    "id": "c26KNBrs-69x"
   },
   "source": [
    "# 7 Category 4 Portfolios: Using Principal Components"
   ]
  },
  {
   "cell_type": "markdown",
   "metadata": {
    "id": "L2yzoqwnACXj"
   },
   "source": [
    "## 7.1 Correlation Matrix and PCA of Returns"
   ]
  },
  {
   "cell_type": "code",
   "execution_count": 67,
   "metadata": {
    "id": "JBaj_9uq-5OM"
   },
   "outputs": [],
   "source": [
    "start_date2019 = datetime.datetime(2019,1,1)\n",
    "end_date2019 = datetime.datetime(2019,12,31)\n",
    "\n",
    "rtns_corrmatrix_2019 = spdr_etf_rtns[start_date2019:end_date2019].corr()\n",
    "#price_corrmatrix_2019 = spdr_etf_price[start_date:end_date].corr()\n",
    "\n",
    "start_date2020 = datetime.datetime(2020,1,1)\n",
    "end_date2020 = datetime.datetime(2020,12,31)\n",
    "\n",
    "#price_corrmatrix_2020 = spdr_etf_price.loc[start_date:end_date]\n",
    "rtns_corrmatrix_2020 = spdr_etf_rtns.loc[start_date2020:end_date2020]"
   ]
  },
  {
   "cell_type": "code",
   "execution_count": 68,
   "metadata": {
    "colab": {
     "base_uri": "https://localhost:8080/",
     "height": 394
    },
    "id": "fXyqWTBFGRLt",
    "outputId": "4e49f8f4-aba2-4ec3-f00a-ead51b25ee36"
   },
   "outputs": [
    {
     "data": {
      "text/html": [
       "<div>\n",
       "<style scoped>\n",
       "    .dataframe tbody tr th:only-of-type {\n",
       "        vertical-align: middle;\n",
       "    }\n",
       "\n",
       "    .dataframe tbody tr th {\n",
       "        vertical-align: top;\n",
       "    }\n",
       "\n",
       "    .dataframe thead th {\n",
       "        text-align: right;\n",
       "    }\n",
       "</style>\n",
       "<table border=\"1\" class=\"dataframe\">\n",
       "  <thead>\n",
       "    <tr style=\"text-align: right;\">\n",
       "      <th></th>\n",
       "      <th>XLK</th>\n",
       "      <th>XLF</th>\n",
       "      <th>XLU</th>\n",
       "      <th>XLP</th>\n",
       "      <th>XLV</th>\n",
       "      <th>XLRE</th>\n",
       "      <th>XLE</th>\n",
       "      <th>XLY</th>\n",
       "      <th>XLB</th>\n",
       "      <th>XLC</th>\n",
       "      <th>XLI</th>\n",
       "    </tr>\n",
       "  </thead>\n",
       "  <tbody>\n",
       "    <tr>\n",
       "      <th>XLK</th>\n",
       "      <td>1.000000</td>\n",
       "      <td>0.726745</td>\n",
       "      <td>0.153277</td>\n",
       "      <td>0.518123</td>\n",
       "      <td>0.675244</td>\n",
       "      <td>0.290749</td>\n",
       "      <td>0.590712</td>\n",
       "      <td>0.850911</td>\n",
       "      <td>0.704608</td>\n",
       "      <td>0.777353</td>\n",
       "      <td>0.780712</td>\n",
       "    </tr>\n",
       "    <tr>\n",
       "      <th>XLF</th>\n",
       "      <td>0.726745</td>\n",
       "      <td>1.000000</td>\n",
       "      <td>0.070852</td>\n",
       "      <td>0.482085</td>\n",
       "      <td>0.591860</td>\n",
       "      <td>0.156494</td>\n",
       "      <td>0.665777</td>\n",
       "      <td>0.762330</td>\n",
       "      <td>0.744374</td>\n",
       "      <td>0.626903</td>\n",
       "      <td>0.820738</td>\n",
       "    </tr>\n",
       "    <tr>\n",
       "      <th>XLU</th>\n",
       "      <td>0.153277</td>\n",
       "      <td>0.070852</td>\n",
       "      <td>1.000000</td>\n",
       "      <td>0.569001</td>\n",
       "      <td>0.353777</td>\n",
       "      <td>0.620372</td>\n",
       "      <td>-0.036959</td>\n",
       "      <td>0.155878</td>\n",
       "      <td>0.114079</td>\n",
       "      <td>0.163821</td>\n",
       "      <td>0.091624</td>\n",
       "    </tr>\n",
       "    <tr>\n",
       "      <th>XLP</th>\n",
       "      <td>0.518123</td>\n",
       "      <td>0.482085</td>\n",
       "      <td>0.569001</td>\n",
       "      <td>1.000000</td>\n",
       "      <td>0.547368</td>\n",
       "      <td>0.537786</td>\n",
       "      <td>0.293760</td>\n",
       "      <td>0.585128</td>\n",
       "      <td>0.519962</td>\n",
       "      <td>0.467626</td>\n",
       "      <td>0.502842</td>\n",
       "    </tr>\n",
       "    <tr>\n",
       "      <th>XLV</th>\n",
       "      <td>0.675244</td>\n",
       "      <td>0.591860</td>\n",
       "      <td>0.353777</td>\n",
       "      <td>0.547368</td>\n",
       "      <td>1.000000</td>\n",
       "      <td>0.413623</td>\n",
       "      <td>0.472324</td>\n",
       "      <td>0.638624</td>\n",
       "      <td>0.577440</td>\n",
       "      <td>0.616207</td>\n",
       "      <td>0.602151</td>\n",
       "    </tr>\n",
       "    <tr>\n",
       "      <th>XLRE</th>\n",
       "      <td>0.290749</td>\n",
       "      <td>0.156494</td>\n",
       "      <td>0.620372</td>\n",
       "      <td>0.537786</td>\n",
       "      <td>0.413623</td>\n",
       "      <td>1.000000</td>\n",
       "      <td>0.068020</td>\n",
       "      <td>0.336519</td>\n",
       "      <td>0.240112</td>\n",
       "      <td>0.325103</td>\n",
       "      <td>0.251186</td>\n",
       "    </tr>\n",
       "    <tr>\n",
       "      <th>XLE</th>\n",
       "      <td>0.590712</td>\n",
       "      <td>0.665777</td>\n",
       "      <td>-0.036959</td>\n",
       "      <td>0.293760</td>\n",
       "      <td>0.472324</td>\n",
       "      <td>0.068020</td>\n",
       "      <td>1.000000</td>\n",
       "      <td>0.602648</td>\n",
       "      <td>0.591305</td>\n",
       "      <td>0.556595</td>\n",
       "      <td>0.688924</td>\n",
       "    </tr>\n",
       "    <tr>\n",
       "      <th>XLY</th>\n",
       "      <td>0.850911</td>\n",
       "      <td>0.762330</td>\n",
       "      <td>0.155878</td>\n",
       "      <td>0.585128</td>\n",
       "      <td>0.638624</td>\n",
       "      <td>0.336519</td>\n",
       "      <td>0.602648</td>\n",
       "      <td>1.000000</td>\n",
       "      <td>0.720137</td>\n",
       "      <td>0.784835</td>\n",
       "      <td>0.798017</td>\n",
       "    </tr>\n",
       "    <tr>\n",
       "      <th>XLB</th>\n",
       "      <td>0.704608</td>\n",
       "      <td>0.744374</td>\n",
       "      <td>0.114079</td>\n",
       "      <td>0.519962</td>\n",
       "      <td>0.577440</td>\n",
       "      <td>0.240112</td>\n",
       "      <td>0.591305</td>\n",
       "      <td>0.720137</td>\n",
       "      <td>1.000000</td>\n",
       "      <td>0.541307</td>\n",
       "      <td>0.830332</td>\n",
       "    </tr>\n",
       "    <tr>\n",
       "      <th>XLC</th>\n",
       "      <td>0.777353</td>\n",
       "      <td>0.626903</td>\n",
       "      <td>0.163821</td>\n",
       "      <td>0.467626</td>\n",
       "      <td>0.616207</td>\n",
       "      <td>0.325103</td>\n",
       "      <td>0.556595</td>\n",
       "      <td>0.784835</td>\n",
       "      <td>0.541307</td>\n",
       "      <td>1.000000</td>\n",
       "      <td>0.638041</td>\n",
       "    </tr>\n",
       "    <tr>\n",
       "      <th>XLI</th>\n",
       "      <td>0.780712</td>\n",
       "      <td>0.820738</td>\n",
       "      <td>0.091624</td>\n",
       "      <td>0.502842</td>\n",
       "      <td>0.602151</td>\n",
       "      <td>0.251186</td>\n",
       "      <td>0.688924</td>\n",
       "      <td>0.798017</td>\n",
       "      <td>0.830332</td>\n",
       "      <td>0.638041</td>\n",
       "      <td>1.000000</td>\n",
       "    </tr>\n",
       "  </tbody>\n",
       "</table>\n",
       "</div>"
      ],
      "text/plain": [
       "           XLK       XLF       XLU       XLP       XLV      XLRE       XLE  \\\n",
       "XLK   1.000000  0.726745  0.153277  0.518123  0.675244  0.290749  0.590712   \n",
       "XLF   0.726745  1.000000  0.070852  0.482085  0.591860  0.156494  0.665777   \n",
       "XLU   0.153277  0.070852  1.000000  0.569001  0.353777  0.620372 -0.036959   \n",
       "XLP   0.518123  0.482085  0.569001  1.000000  0.547368  0.537786  0.293760   \n",
       "XLV   0.675244  0.591860  0.353777  0.547368  1.000000  0.413623  0.472324   \n",
       "XLRE  0.290749  0.156494  0.620372  0.537786  0.413623  1.000000  0.068020   \n",
       "XLE   0.590712  0.665777 -0.036959  0.293760  0.472324  0.068020  1.000000   \n",
       "XLY   0.850911  0.762330  0.155878  0.585128  0.638624  0.336519  0.602648   \n",
       "XLB   0.704608  0.744374  0.114079  0.519962  0.577440  0.240112  0.591305   \n",
       "XLC   0.777353  0.626903  0.163821  0.467626  0.616207  0.325103  0.556595   \n",
       "XLI   0.780712  0.820738  0.091624  0.502842  0.602151  0.251186  0.688924   \n",
       "\n",
       "           XLY       XLB       XLC       XLI  \n",
       "XLK   0.850911  0.704608  0.777353  0.780712  \n",
       "XLF   0.762330  0.744374  0.626903  0.820738  \n",
       "XLU   0.155878  0.114079  0.163821  0.091624  \n",
       "XLP   0.585128  0.519962  0.467626  0.502842  \n",
       "XLV   0.638624  0.577440  0.616207  0.602151  \n",
       "XLRE  0.336519  0.240112  0.325103  0.251186  \n",
       "XLE   0.602648  0.591305  0.556595  0.688924  \n",
       "XLY   1.000000  0.720137  0.784835  0.798017  \n",
       "XLB   0.720137  1.000000  0.541307  0.830332  \n",
       "XLC   0.784835  0.541307  1.000000  0.638041  \n",
       "XLI   0.798017  0.830332  0.638041  1.000000  "
      ]
     },
     "execution_count": 68,
     "metadata": {},
     "output_type": "execute_result"
    }
   ],
   "source": [
    "rtns_corrmatrix_2019"
   ]
  },
  {
   "cell_type": "markdown",
   "metadata": {
    "id": "nE0djSN4ZEnD"
   },
   "source": [
    "## 7.2 PCA Analysis of 2019 Data"
   ]
  },
  {
   "cell_type": "code",
   "execution_count": 69,
   "metadata": {},
   "outputs": [
    {
     "data": {
      "text/html": [
       "<div>\n",
       "<style scoped>\n",
       "    .dataframe tbody tr th:only-of-type {\n",
       "        vertical-align: middle;\n",
       "    }\n",
       "\n",
       "    .dataframe tbody tr th {\n",
       "        vertical-align: top;\n",
       "    }\n",
       "\n",
       "    .dataframe thead th {\n",
       "        text-align: right;\n",
       "    }\n",
       "</style>\n",
       "<table border=\"1\" class=\"dataframe\">\n",
       "  <thead>\n",
       "    <tr style=\"text-align: right;\">\n",
       "      <th></th>\n",
       "      <th>XLK</th>\n",
       "      <th>XLF</th>\n",
       "      <th>XLU</th>\n",
       "      <th>XLP</th>\n",
       "      <th>XLV</th>\n",
       "      <th>XLRE</th>\n",
       "      <th>XLE</th>\n",
       "      <th>XLY</th>\n",
       "      <th>XLB</th>\n",
       "      <th>XLC</th>\n",
       "      <th>XLI</th>\n",
       "    </tr>\n",
       "    <tr>\n",
       "      <th>Date</th>\n",
       "      <th></th>\n",
       "      <th></th>\n",
       "      <th></th>\n",
       "      <th></th>\n",
       "      <th></th>\n",
       "      <th></th>\n",
       "      <th></th>\n",
       "      <th></th>\n",
       "      <th></th>\n",
       "      <th></th>\n",
       "      <th></th>\n",
       "    </tr>\n",
       "  </thead>\n",
       "  <tbody>\n",
       "    <tr>\n",
       "      <th>2019-01-02</th>\n",
       "      <td>-0.000974</td>\n",
       "      <td>0.007331</td>\n",
       "      <td>-0.018014</td>\n",
       "      <td>-0.006786</td>\n",
       "      <td>-0.015827</td>\n",
       "      <td>-0.023813</td>\n",
       "      <td>0.019448</td>\n",
       "      <td>0.006597</td>\n",
       "      <td>0.004322</td>\n",
       "      <td>0.012231</td>\n",
       "      <td>0.004142</td>\n",
       "    </tr>\n",
       "    <tr>\n",
       "      <th>2019-01-03</th>\n",
       "      <td>-0.052087</td>\n",
       "      <td>-0.023547</td>\n",
       "      <td>-0.001011</td>\n",
       "      <td>-0.006623</td>\n",
       "      <td>-0.020989</td>\n",
       "      <td>0.003712</td>\n",
       "      <td>-0.010173</td>\n",
       "      <td>-0.022630</td>\n",
       "      <td>-0.029182</td>\n",
       "      <td>-0.017827</td>\n",
       "      <td>-0.031411</td>\n",
       "    </tr>\n",
       "    <tr>\n",
       "      <th>2019-01-04</th>\n",
       "      <td>0.042701</td>\n",
       "      <td>0.032154</td>\n",
       "      <td>0.013989</td>\n",
       "      <td>0.020441</td>\n",
       "      <td>0.029147</td>\n",
       "      <td>0.009277</td>\n",
       "      <td>0.033769</td>\n",
       "      <td>0.032116</td>\n",
       "      <td>0.038495</td>\n",
       "      <td>0.041942</td>\n",
       "      <td>0.036935</td>\n",
       "    </tr>\n",
       "    <tr>\n",
       "      <th>2019-01-07</th>\n",
       "      <td>0.007324</td>\n",
       "      <td>0.000171</td>\n",
       "      <td>-0.007641</td>\n",
       "      <td>-0.002243</td>\n",
       "      <td>0.003155</td>\n",
       "      <td>0.007548</td>\n",
       "      <td>0.014610</td>\n",
       "      <td>0.021634</td>\n",
       "      <td>0.002686</td>\n",
       "      <td>0.010329</td>\n",
       "      <td>0.007154</td>\n",
       "    </tr>\n",
       "    <tr>\n",
       "      <th>2019-01-08</th>\n",
       "      <td>0.006761</td>\n",
       "      <td>-0.000242</td>\n",
       "      <td>0.011584</td>\n",
       "      <td>0.008304</td>\n",
       "      <td>0.007081</td>\n",
       "      <td>0.016509</td>\n",
       "      <td>0.007480</td>\n",
       "      <td>0.010078</td>\n",
       "      <td>0.009669</td>\n",
       "      <td>0.015732</td>\n",
       "      <td>0.012721</td>\n",
       "    </tr>\n",
       "    <tr>\n",
       "      <th>...</th>\n",
       "      <td>...</td>\n",
       "      <td>...</td>\n",
       "      <td>...</td>\n",
       "      <td>...</td>\n",
       "      <td>...</td>\n",
       "      <td>...</td>\n",
       "      <td>...</td>\n",
       "      <td>...</td>\n",
       "      <td>...</td>\n",
       "      <td>...</td>\n",
       "      <td>...</td>\n",
       "    </tr>\n",
       "    <tr>\n",
       "      <th>2019-12-24</th>\n",
       "      <td>-0.001290</td>\n",
       "      <td>0.001221</td>\n",
       "      <td>0.000588</td>\n",
       "      <td>0.000395</td>\n",
       "      <td>-0.001944</td>\n",
       "      <td>0.000406</td>\n",
       "      <td>-0.000739</td>\n",
       "      <td>0.001275</td>\n",
       "      <td>0.000322</td>\n",
       "      <td>-0.001278</td>\n",
       "      <td>-0.005000</td>\n",
       "    </tr>\n",
       "    <tr>\n",
       "      <th>2019-12-26</th>\n",
       "      <td>0.005834</td>\n",
       "      <td>0.004476</td>\n",
       "      <td>0.000898</td>\n",
       "      <td>0.000076</td>\n",
       "      <td>-0.001363</td>\n",
       "      <td>0.005133</td>\n",
       "      <td>-0.000578</td>\n",
       "      <td>0.011227</td>\n",
       "      <td>0.003593</td>\n",
       "      <td>0.006531</td>\n",
       "      <td>0.001342</td>\n",
       "    </tr>\n",
       "    <tr>\n",
       "      <th>2019-12-27</th>\n",
       "      <td>-0.001728</td>\n",
       "      <td>-0.003659</td>\n",
       "      <td>0.002141</td>\n",
       "      <td>0.003569</td>\n",
       "      <td>-0.000392</td>\n",
       "      <td>0.002746</td>\n",
       "      <td>-0.004453</td>\n",
       "      <td>-0.001057</td>\n",
       "      <td>-0.004571</td>\n",
       "      <td>-0.002938</td>\n",
       "      <td>-0.001835</td>\n",
       "    </tr>\n",
       "    <tr>\n",
       "      <th>2019-12-30</th>\n",
       "      <td>-0.007386</td>\n",
       "      <td>-0.003990</td>\n",
       "      <td>-0.000974</td>\n",
       "      <td>-0.006095</td>\n",
       "      <td>-0.013118</td>\n",
       "      <td>-0.001691</td>\n",
       "      <td>-0.032356</td>\n",
       "      <td>-0.007404</td>\n",
       "      <td>-0.003931</td>\n",
       "      <td>-0.011446</td>\n",
       "      <td>-0.005621</td>\n",
       "    </tr>\n",
       "    <tr>\n",
       "      <th>2019-12-31</th>\n",
       "      <td>0.001555</td>\n",
       "      <td>0.002194</td>\n",
       "      <td>0.003065</td>\n",
       "      <td>0.000076</td>\n",
       "      <td>0.001284</td>\n",
       "      <td>0.006121</td>\n",
       "      <td>0.005440</td>\n",
       "      <td>0.000459</td>\n",
       "      <td>0.006556</td>\n",
       "      <td>0.000776</td>\n",
       "      <td>-0.001595</td>\n",
       "    </tr>\n",
       "  </tbody>\n",
       "</table>\n",
       "<p>252 rows × 11 columns</p>\n",
       "</div>"
      ],
      "text/plain": [
       "                 XLK       XLF       XLU       XLP       XLV      XLRE  \\\n",
       "Date                                                                     \n",
       "2019-01-02 -0.000974  0.007331 -0.018014 -0.006786 -0.015827 -0.023813   \n",
       "2019-01-03 -0.052087 -0.023547 -0.001011 -0.006623 -0.020989  0.003712   \n",
       "2019-01-04  0.042701  0.032154  0.013989  0.020441  0.029147  0.009277   \n",
       "2019-01-07  0.007324  0.000171 -0.007641 -0.002243  0.003155  0.007548   \n",
       "2019-01-08  0.006761 -0.000242  0.011584  0.008304  0.007081  0.016509   \n",
       "...              ...       ...       ...       ...       ...       ...   \n",
       "2019-12-24 -0.001290  0.001221  0.000588  0.000395 -0.001944  0.000406   \n",
       "2019-12-26  0.005834  0.004476  0.000898  0.000076 -0.001363  0.005133   \n",
       "2019-12-27 -0.001728 -0.003659  0.002141  0.003569 -0.000392  0.002746   \n",
       "2019-12-30 -0.007386 -0.003990 -0.000974 -0.006095 -0.013118 -0.001691   \n",
       "2019-12-31  0.001555  0.002194  0.003065  0.000076  0.001284  0.006121   \n",
       "\n",
       "                 XLE       XLY       XLB       XLC       XLI  \n",
       "Date                                                          \n",
       "2019-01-02  0.019448  0.006597  0.004322  0.012231  0.004142  \n",
       "2019-01-03 -0.010173 -0.022630 -0.029182 -0.017827 -0.031411  \n",
       "2019-01-04  0.033769  0.032116  0.038495  0.041942  0.036935  \n",
       "2019-01-07  0.014610  0.021634  0.002686  0.010329  0.007154  \n",
       "2019-01-08  0.007480  0.010078  0.009669  0.015732  0.012721  \n",
       "...              ...       ...       ...       ...       ...  \n",
       "2019-12-24 -0.000739  0.001275  0.000322 -0.001278 -0.005000  \n",
       "2019-12-26 -0.000578  0.011227  0.003593  0.006531  0.001342  \n",
       "2019-12-27 -0.004453 -0.001057 -0.004571 -0.002938 -0.001835  \n",
       "2019-12-30 -0.032356 -0.007404 -0.003931 -0.011446 -0.005621  \n",
       "2019-12-31  0.005440  0.000459  0.006556  0.000776 -0.001595  \n",
       "\n",
       "[252 rows x 11 columns]"
      ]
     },
     "execution_count": 69,
     "metadata": {},
     "output_type": "execute_result"
    }
   ],
   "source": [
    "\n",
    "# calculate the difference of mean and return\n",
    "rt_meaned = spdr_etf_rtns[start_date2019:end_date2019] - np.mean(spdr_etf_rtns[start_date2019:end_date2019] , axis = 0)\n",
    "rt_meaned \n"
   ]
  },
  {
   "cell_type": "code",
   "execution_count": 70,
   "metadata": {},
   "outputs": [],
   "source": [
    "# clculate eigen value and eigen vector\n",
    "eig_vals, eig_vecs = np.linalg.eig(rtns_corrmatrix_2019)"
   ]
  },
  {
   "cell_type": "code",
   "execution_count": 62,
   "metadata": {},
   "outputs": [
    {
     "data": {
      "text/plain": [
       "array([[ 3.53915393e-01, -8.29205229e-02, -2.67095364e-01,\n",
       "        -4.86537738e-01, -2.92922316e-01, -5.61789950e-01,\n",
       "         2.63184446e-01, -2.03369055e-01,  2.02925776e-01,\n",
       "        -7.90007171e-02,  1.87812996e-02],\n",
       "       [ 3.37426508e-01, -1.90723156e-01,  2.30991417e-01,\n",
       "        -3.05977090e-01,  2.46599991e-02,  9.32754098e-02,\n",
       "        -8.04682609e-01, -1.93449976e-01,  1.78798868e-02,\n",
       "        -8.42577460e-02, -3.35342457e-02],\n",
       "       [ 1.15486115e-01,  6.24817127e-01,  1.66737797e-01,\n",
       "         6.46092251e-02,  9.21761237e-02, -2.96618133e-03,\n",
       "         1.00885805e-01, -6.14750580e-01, -2.60933974e-01,\n",
       "        -2.25003669e-01, -2.21305270e-01],\n",
       "       [ 2.73896131e-01,  3.59460409e-01,  3.08739243e-01,\n",
       "        -3.20315568e-02, -1.75490755e-01, -9.37271285e-04,\n",
       "         2.74058851e-02,  5.97798673e-01,  2.66508932e-01,\n",
       "        -2.07816738e-01, -4.43053220e-01],\n",
       "       [ 3.10792740e-01,  1.31116433e-01, -1.94556539e-01,\n",
       "         1.17540778e-01,  4.47742498e-02,  4.98223467e-03,\n",
       "        -4.01413317e-02,  2.81541292e-01, -3.20657674e-01,\n",
       "        -5.56582893e-01,  5.82268006e-01],\n",
       "       [ 1.71054781e-01,  5.43531579e-01, -1.45430653e-01,\n",
       "        -1.28732387e-01, -2.15790130e-02, -3.05503314e-02,\n",
       "        -1.79145707e-01,  1.59469604e-01, -5.82760724e-02,\n",
       "         6.93549004e-01,  3.07022061e-01],\n",
       "       [ 2.80670461e-01, -2.80042087e-01,  1.05735873e-01,\n",
       "        -9.30169551e-02,  8.02964752e-02, -1.01383918e-01,\n",
       "         1.68472580e-01,  1.83201608e-01, -7.68283042e-01,\n",
       "         2.30607819e-01, -3.17580590e-01],\n",
       "       [ 3.61019902e-01, -6.48006050e-02, -1.81259126e-01,\n",
       "         3.50712712e-01,  7.24876846e-01, -2.86165289e-01,\n",
       "        -2.57235347e-02,  3.06446593e-05,  2.76453312e-01,\n",
       "         7.68306546e-02, -1.38863732e-01],\n",
       "       [ 3.30389208e-01, -1.20729631e-01,  4.45180664e-01,\n",
       "        -2.60258752e-01,  2.25049183e-01,  4.39169601e-01,\n",
       "         4.55569834e-01, -9.64576954e-02,  1.99754842e-01,\n",
       "         1.01295443e-01,  3.15941591e-01],\n",
       "       [ 3.21877414e-01, -3.67007473e-02, -6.24022879e-01,\n",
       "         4.78917597e-02, -1.75196074e-01,  6.14204271e-01,\n",
       "         4.46684481e-02, -8.57968726e-02,  5.21808978e-02,\n",
       "         1.23394646e-02, -2.88405580e-01],\n",
       "       [ 3.53278746e-01, -1.61174632e-01,  2.48100734e-01,\n",
       "         6.57564457e-01, -5.08517263e-01, -1.11525029e-01,\n",
       "        -1.56642803e-03, -1.76103751e-01,  6.21315924e-02,\n",
       "         1.80428351e-01,  1.29670843e-01]])"
      ]
     },
     "execution_count": 62,
     "metadata": {},
     "output_type": "execute_result"
    }
   ],
   "source": [
    "eig_vecs"
   ]
  },
  {
   "cell_type": "code",
   "execution_count": 63,
   "metadata": {},
   "outputs": [
    {
     "data": {
      "text/plain": [
       "array([6.35788704, 1.84438215, 0.58723433, 0.12940913, 0.13049407,\n",
       "       0.18516467, 0.23172023, 0.27475892, 0.45221053, 0.41962049,\n",
       "       0.38711843])"
      ]
     },
     "execution_count": 63,
     "metadata": {},
     "output_type": "execute_result"
    }
   ],
   "source": [
    "eig_vals"
   ]
  },
  {
   "cell_type": "code",
   "execution_count": 64,
   "metadata": {},
   "outputs": [],
   "source": [
    "#sort the eigenvalues in descending order\n",
    "sorted_index = np.argsort(eig_vals)[::-1]\n",
    " \n",
    "sorted_eigenvalue = eig_vals[sorted_index]\n",
    "#similarly sort the eigenvectors \n",
    "sorted_eigenvectors = eig_vecs[:,sorted_index]\n"
   ]
  },
  {
   "cell_type": "code",
   "execution_count": 66,
   "metadata": {},
   "outputs": [
    {
     "data": {
      "text/plain": [
       "array([[ 3.86629200e-03, -3.75427278e-02, -4.23129315e-04],\n",
       "       [-7.16999320e-02,  1.86187424e-02,  3.16980918e-03],\n",
       "       [ 1.04161347e-01, -8.39827682e-03, -4.47715296e-03],\n",
       "       [ 2.20751889e-02, -9.05381178e-03, -1.14467489e-02],\n",
       "       [ 2.94382851e-02,  1.30669128e-02, -4.53731180e-03],\n",
       "       [ 9.89781988e-03, -1.73680191e-02, -4.44608762e-03],\n",
       "       [ 1.32666795e-02,  1.41480233e-02,  7.33638085e-03],\n",
       "       [-5.75751360e-03,  1.64251727e-03,  9.57060556e-04],\n",
       "       [-1.85118374e-02, -1.80143967e-02,  1.37560079e-03],\n",
       "       [ 2.33314048e-02,  1.52530531e-02, -1.70555815e-02],\n",
       "       [ 2.74792276e-03, -2.14346372e-03,  8.46471973e-03],\n",
       "       [ 2.45340076e-02, -2.29311706e-03,  8.69258484e-03],\n",
       "       [ 4.13810643e-02, -8.55388454e-03,  7.87892699e-03],\n",
       "       [-4.76671951e-02,  1.17667264e-02,  3.22722196e-03],\n",
       "       [-1.89168296e-03,  1.34544042e-02,  3.40087443e-03],\n",
       "       [ 5.19975169e-04, -4.00957556e-03, -7.48674790e-03],\n",
       "       [ 2.68252135e-02, -1.59905108e-02, -4.07637075e-03],\n",
       "       [-2.15874546e-02,  8.79910376e-03,  6.81795840e-03],\n",
       "       [-1.16090049e-03,  4.89099267e-03,  1.83264903e-02],\n",
       "       [ 4.30701976e-02, -3.38635780e-04, -9.66853670e-03],\n",
       "       [ 2.39594199e-02,  2.36786023e-02, -2.64568437e-02],\n",
       "       [-1.58123566e-03, -1.30960584e-02,  7.13847572e-03],\n",
       "       [ 1.61587063e-02,  6.42668810e-05, -5.40821456e-03],\n",
       "       [ 1.28454375e-02,  2.34028988e-04, -5.89790121e-03],\n",
       "       [-1.47994435e-02, -8.02051846e-04,  1.06784978e-02],\n",
       "       [-3.11467623e-02,  2.33499679e-02,  1.78953128e-03],\n",
       "       [-6.36254613e-04,  5.63749628e-03, -4.71143070e-03],\n",
       "       [-2.92596024e-04, -1.19198934e-03,  1.02604339e-02],\n",
       "       [ 3.77776045e-02, -1.24231613e-02,  6.45831950e-03],\n",
       "       [ 9.01448307e-03, -3.54175941e-03,  9.48373419e-04],\n",
       "       [-1.09210687e-02, -6.69422242e-04, -1.24861327e-02],\n",
       "       [ 3.32506871e-02, -3.69899294e-03,  9.78578918e-03],\n",
       "       [ 3.73089344e-03,  3.06862835e-03,  4.99466962e-03],\n",
       "       [ 6.24906937e-03, -7.42157086e-03,  1.38244816e-02],\n",
       "       [-1.62398627e-02,  1.16557231e-02,  4.29108924e-03],\n",
       "       [ 1.37804601e-02,  1.95901697e-03, -9.54026921e-03],\n",
       "       [-2.14337406e-05, -1.38818832e-02,  2.03942080e-03],\n",
       "       [-7.99949746e-03, -4.39472978e-04, -3.84476769e-03],\n",
       "       [-4.29712086e-03, -4.64593634e-03,  6.42042845e-03],\n",
       "       [-1.31303705e-02,  1.17968627e-02, -3.74363541e-03],\n",
       "       [ 1.59840099e-02, -6.49378967e-03, -7.62198240e-03],\n",
       "       [-1.05771806e-02,  1.62123286e-03,  2.50816919e-03],\n",
       "       [-7.20234200e-03,  2.92167906e-03, -8.96648089e-03],\n",
       "       [-2.04204224e-02,  2.28419347e-03,  1.35651910e-03],\n",
       "       [-2.75491783e-02,  5.08853052e-03,  2.56774076e-03],\n",
       "       [-1.13159365e-02,  7.86206122e-03,  1.17566297e-03],\n",
       "       [ 4.15186796e-02,  5.63499024e-03, -5.94076412e-03],\n",
       "       [ 6.50873959e-03,  5.47454221e-03, -4.70132631e-03],\n",
       "       [ 1.71983055e-02, -9.53335507e-04,  2.14225418e-03],\n",
       "       [-7.23093609e-03,  6.89291198e-04, -5.23516498e-04],\n",
       "       [-7.36039040e-03, -5.17182028e-03, -4.45451628e-03],\n",
       "       [ 9.38212835e-03, -1.37786241e-02,  1.08114810e-02],\n",
       "       [-4.56165016e-03, -6.09091161e-03, -9.06612346e-03],\n",
       "       [-1.00184347e-02,  3.54401212e-03, -1.09902214e-02],\n",
       "       [ 3.16014506e-02,  1.27420648e-02, -7.93772420e-03],\n",
       "       [-6.44697950e-02,  2.23916781e-02, -2.87046613e-03],\n",
       "       [-3.49369142e-03,  1.58163015e-03,  9.72075576e-04],\n",
       "       [ 2.07866493e-02,  2.12490755e-03,  5.20317029e-03],\n",
       "       [-1.64917613e-02, -5.46114650e-03,  4.51376643e-03],\n",
       "       [ 1.18246451e-02, -7.09628039e-03,  5.91699467e-03],\n",
       "       [ 1.63299140e-02,  2.39992507e-03,  3.03240785e-03],\n",
       "       [ 3.30830698e-02, -2.34992205e-02,  1.94438122e-03],\n",
       "       [-2.71475976e-03,  2.88792565e-03, -6.52401608e-03],\n",
       "       [ 3.07408900e-03, -4.38043292e-03, -2.10796256e-03],\n",
       "       [ 9.60883730e-03, -9.44405981e-03,  6.16585312e-03],\n",
       "       [ 1.35574025e-02,  5.03020424e-03, -9.64937325e-04],\n",
       "       [-1.35382788e-03, -7.55716424e-03,  4.39737120e-04],\n",
       "       [-2.18801424e-02,  7.37453914e-03, -7.35871783e-03],\n",
       "       [ 6.26776158e-03,  2.70654422e-04, -5.24287758e-03],\n",
       "       [-6.65286491e-04, -1.82797623e-03,  7.41281392e-03],\n",
       "       [ 1.99700414e-02, -4.08128215e-03,  8.35909471e-03],\n",
       "       [-8.16674126e-03,  2.87078375e-03, -3.13375269e-03],\n",
       "       [-8.72113954e-04, -3.06039901e-02,  1.03545615e-02],\n",
       "       [-1.06714431e-02, -1.08995246e-02,  3.29190517e-03],\n",
       "       [ 2.36211903e-03,  4.18286033e-03,  2.91020835e-04],\n",
       "       [-2.20189906e-03, -1.11135186e-02, -3.21957825e-03],\n",
       "       [ 2.19901738e-02,  3.36978681e-03, -1.29499219e-02],\n",
       "       [-1.02539596e-02,  1.42367363e-02, -1.81263288e-03],\n",
       "       [-1.12067925e-02,  5.67664175e-03, -1.94121228e-02],\n",
       "       [ 1.27884762e-02,  7.71947912e-03,  1.31461522e-03],\n",
       "       [-5.97194283e-04, -1.16234139e-02, -1.62095159e-03],\n",
       "       [ 2.78023837e-03,  1.96964759e-02,  2.29181363e-02],\n",
       "       [-3.17630711e-02, -9.85098323e-05, -1.24530844e-02],\n",
       "       [-1.10062879e-02,  5.36350804e-03, -1.57648014e-03],\n",
       "       [ 2.71039477e-02,  9.26969139e-04,  7.53396468e-04],\n",
       "       [-1.87850955e-02, -8.17120063e-04, -7.56232482e-03],\n",
       "       [-5.42489493e-02, -3.66220375e-03,  3.93746916e-03],\n",
       "       [-5.84944839e-03, -8.30163328e-03, -2.12749731e-03],\n",
       "       [-1.25434994e-02,  1.92348316e-03, -5.62124040e-04],\n",
       "       [ 1.64425535e-02,  1.59035180e-02,  1.14440311e-02],\n",
       "       [-7.63768589e-02,  2.40433000e-02,  1.19539832e-02],\n",
       "       [ 2.34367988e-02, -1.03028138e-02, -1.06312679e-03],\n",
       "       [ 1.42997602e-02,  2.30199307e-03, -1.83372461e-02],\n",
       "       [ 2.55378381e-02,  2.21537675e-03,  3.26010485e-03],\n",
       "       [-2.31583620e-02,  8.39993021e-03,  7.70101495e-04],\n",
       "       [-2.55623665e-02, -5.17980014e-03,  1.17371785e-02],\n",
       "       [ 2.73769799e-02, -5.33508131e-03, -1.09235733e-03],\n",
       "       [-1.57643870e-02,  1.76970656e-02, -3.12292157e-03],\n",
       "       [-4.21287606e-02,  2.59654199e-02, -1.73028646e-04],\n",
       "       [ 2.69862938e-03, -5.35161723e-03,  3.04248055e-03],\n",
       "       [-3.09839634e-02, -1.59313207e-02, -1.45139557e-02],\n",
       "       [-2.39029301e-02, -1.47904215e-02,  6.48960140e-03],\n",
       "       [ 3.21173120e-03,  6.33310064e-03, -5.33036669e-03],\n",
       "       [-4.13820179e-02,  1.49064192e-02, -4.23772625e-04],\n",
       "       [ 2.21204348e-03,  5.94125289e-03,  4.91550819e-02],\n",
       "       [ 6.40089357e-02, -2.02226274e-02,  6.05581117e-05],\n",
       "       [ 2.02218646e-02,  2.82491793e-02,  3.90058557e-03],\n",
       "       [ 2.07880030e-02, -4.13311613e-04,  5.06965396e-03],\n",
       "       [ 2.61354887e-02, -5.15028107e-03, -1.21018813e-02],\n",
       "       [ 7.73728929e-03, -1.05120934e-02, -1.21205639e-03],\n",
       "       [-2.87122246e-03, -1.99823968e-03, -5.16301600e-03],\n",
       "       [-8.04540301e-03,  1.64469979e-02,  4.18797908e-03],\n",
       "       [ 1.36786328e-02, -4.70476254e-03, -2.19441097e-03],\n",
       "       [-7.26396338e-03,  1.11701420e-02, -3.18426035e-04],\n",
       "       [-1.77032528e-03,  3.63363716e-03, -1.71317722e-02],\n",
       "       [ 2.59308869e-02, -1.83115912e-02, -1.56482037e-04],\n",
       "       [ 2.18519351e-03,  1.13355558e-02, -5.16666398e-03],\n",
       "       [ 3.00531365e-02, -2.78330855e-03,  6.37652459e-03],\n",
       "       [-2.41685709e-02, -1.15946375e-02, -6.89995756e-03],\n",
       "       [-8.55994276e-03,  2.96512328e-04,  1.13467939e-03],\n",
       "       [-2.92369614e-02, -5.69046992e-03,  1.68514152e-02],\n",
       "       [-8.97646953e-03, -3.66836939e-02, -2.47340354e-03],\n",
       "       [ 8.98919058e-03,  5.24062191e-03, -4.72451781e-03],\n",
       "       [ 1.75371709e-02, -5.48147009e-03,  3.98886479e-03],\n",
       "       [ 1.81258292e-02, -6.23520162e-03, -3.38372993e-03],\n",
       "       [ 4.34605096e-03,  2.63689202e-02, -8.43573595e-03],\n",
       "       [ 2.12550017e-02,  1.16131609e-02,  5.11001265e-04],\n",
       "       [-8.72063014e-03, -6.15033540e-03, -1.80331493e-03],\n",
       "       [-1.73123505e-02,  5.96184379e-03,  1.04265128e-03],\n",
       "       [-2.84552399e-03,  1.45164308e-03, -1.17060892e-02],\n",
       "       [ 9.63577405e-03,  2.97220185e-03, -9.65744952e-03],\n",
       "       [ 4.15913820e-03, -1.02064051e-02,  6.33853603e-03],\n",
       "       [ 1.48471441e-02, -1.54312276e-02,  4.95860235e-03],\n",
       "       [-4.27713508e-03,  7.36143145e-03, -3.52513666e-03],\n",
       "       [-1.07143431e-02, -2.55406040e-03,  5.75079502e-03],\n",
       "       [-2.76770719e-02,  9.11742858e-03, -2.91672644e-03],\n",
       "       [ 5.73337687e-03,  5.27183033e-03,  1.01463706e-02],\n",
       "       [-1.79893112e-02, -2.25760950e-02,  1.25539330e-02],\n",
       "       [ 1.25735685e-03, -7.59970426e-03, -6.87473774e-03],\n",
       "       [ 2.29812455e-02, -4.14180957e-03,  8.70517941e-03],\n",
       "       [ 8.82160312e-03, -7.98771491e-03, -6.66689347e-03],\n",
       "       [-1.81581768e-02,  1.80020121e-03, -9.83185328e-04],\n",
       "       [ 1.56605392e-02,  5.95306743e-03, -1.41321517e-02],\n",
       "       [-9.23831537e-03,  9.68864836e-03,  7.33859708e-04],\n",
       "       [-3.01918512e-03, -2.47201656e-03,  9.72509809e-03],\n",
       "       [-3.65300411e-02, -6.54291713e-03, -4.24300748e-03],\n",
       "       [-3.29421611e-02,  2.19173281e-02, -7.91577511e-03],\n",
       "       [-2.45516441e-02,  1.19988558e-02,  3.09550283e-03],\n",
       "       [-9.28714424e-02, -4.52771772e-03,  7.30265595e-03],\n",
       "       [ 3.38914832e-02,  1.06249725e-02, -7.52751138e-03],\n",
       "       [ 4.00519860e-03,  1.24612259e-02,  1.88156709e-03],\n",
       "       [ 5.74710225e-02,  4.02728920e-05, -1.37713968e-03],\n",
       "       [-2.48720208e-02,  6.09681298e-03,  2.70782665e-03],\n",
       "       [-4.14016781e-02,  7.49672020e-03, -3.36574403e-03],\n",
       "       [ 3.83784791e-02, -6.00785679e-03, -5.96819137e-03],\n",
       "       [-9.80014453e-02,  9.09968150e-03,  3.36937098e-03],\n",
       "       [ 5.02778648e-03,  2.20073749e-02,  4.48002215e-03],\n",
       "       [ 4.29662739e-02, -2.99878766e-03,  4.15077780e-03],\n",
       "       [ 3.54992564e-02, -1.62093319e-04, -4.29892527e-03],\n",
       "       [-2.67860299e-02, -2.79231192e-03, -5.82495731e-03],\n",
       "       [ 2.10313125e-02,  1.04704644e-03, -3.34288271e-03],\n",
       "       [-4.29732898e-03,  4.67663403e-03,  2.76284678e-03],\n",
       "       [-8.36754964e-02,  3.81204678e-03,  3.63144133e-03],\n",
       "       [ 2.79912122e-02,  1.05269474e-02, -6.28827069e-03],\n",
       "       [-1.31124561e-02,  8.87043117e-04, -1.54358877e-03],\n",
       "       [ 2.16828551e-02, -6.03840630e-03,  7.06609878e-03],\n",
       "       [ 3.75610015e-02, -5.51351479e-03, -3.05007881e-03],\n",
       "       [-7.59341165e-04, -2.27996297e-03,  6.34471107e-03],\n",
       "       [-2.00617443e-02,  2.76465918e-02,  4.41324241e-03],\n",
       "       [ 3.27832549e-02, -4.29344813e-03, -4.22437166e-03],\n",
       "       [ 3.26342015e-02, -2.71294393e-02, -1.25564131e-02],\n",
       "       [ 1.72504014e-03, -3.11799965e-03,  3.73836187e-03],\n",
       "       [ 1.46842361e-03, -1.79553668e-02,  5.01886651e-03],\n",
       "       [ 2.02493753e-03, -1.56985467e-02,  1.00861130e-02],\n",
       "       [ 1.65341478e-02,  1.68256276e-03,  3.00683041e-03],\n",
       "       [ 6.68005760e-03,  4.21221022e-03,  1.14016327e-03],\n",
       "       [-1.05240017e-03, -1.83456949e-02,  1.15855671e-02],\n",
       "       [-8.67426247e-03, -3.70911260e-03, -3.16054645e-03],\n",
       "       [ 5.24753519e-03,  1.66854215e-02,  4.99000384e-04],\n",
       "       [-3.77200189e-03,  1.88717282e-03,  2.95371628e-03],\n",
       "       [-3.86700502e-03,  6.80307829e-03, -2.93110396e-03],\n",
       "       [-3.32247301e-02, -2.31253818e-03,  7.33266290e-04],\n",
       "       [-2.52894571e-03,  1.94911752e-03,  1.68685453e-03],\n",
       "       [-2.82621179e-02,  1.65425809e-02,  1.02609878e-02],\n",
       "       [ 1.38482405e-02, -7.69168410e-03, -4.52375622e-03],\n",
       "       [-1.07229736e-02,  1.43332250e-02,  5.99783753e-03],\n",
       "       [-1.69158991e-02, -5.40308719e-03,  1.10354805e-02],\n",
       "       [ 1.02978648e-02,  2.99864404e-03, -4.79157502e-03],\n",
       "       [-4.79390674e-02,  9.88526636e-03, -1.12014152e-02],\n",
       "       [-6.00289592e-02, -2.17367768e-03, -6.71463579e-03],\n",
       "       [ 2.11332470e-02,  3.97974507e-03, -5.56426114e-03],\n",
       "       [ 3.56191029e-02,  8.15278057e-03, -9.19477227e-04],\n",
       "       [-1.72781338e-02, -2.04920150e-03, -5.01357255e-03],\n",
       "       [-5.16302615e-02,  9.39691032e-04, -8.81808150e-04],\n",
       "       [ 2.50833675e-02, -1.31773544e-03,  2.57281616e-03],\n",
       "       [ 1.93131778e-02, -7.86299818e-03,  2.79294813e-03],\n",
       "       [ 3.20867903e-02, -1.78752469e-02,  2.70778152e-03],\n",
       "       [-8.81642860e-03, -4.43706201e-03, -4.21653619e-03],\n",
       "       [ 2.50389625e-02, -9.52779985e-03, -1.15619697e-02],\n",
       "       [-7.76267409e-03,  4.68710367e-03,  1.24929269e-04],\n",
       "       [ 7.17606988e-03,  5.51107113e-03, -1.32301596e-03],\n",
       "       [-1.36791770e-02,  1.08086856e-02,  7.99670950e-03],\n",
       "       [ 1.69170143e-02, -3.05483207e-03, -8.82252703e-04],\n",
       "       [-8.38134616e-03, -1.19189295e-03,  1.26775790e-02],\n",
       "       [ 7.87539956e-03,  1.35886453e-03,  1.27298945e-03],\n",
       "       [-2.68131555e-03,  9.81334738e-05,  7.63035776e-03],\n",
       "       [ 8.57087339e-03, -2.23861731e-02, -1.14481091e-03],\n",
       "       [ 7.02959165e-03, -1.61644130e-02, -1.01926294e-02],\n",
       "       [-1.08349100e-03,  1.77956075e-03,  1.09407152e-02],\n",
       "       [ 3.14979321e-03,  1.54432498e-02, -4.56701708e-03],\n",
       "       [-1.52436569e-02,  5.80625484e-03, -8.52074826e-03],\n",
       "       [ 2.89937907e-02, -1.95117488e-02,  8.92872172e-03],\n",
       "       [ 1.24720511e-02, -3.28295632e-02,  4.24484511e-03],\n",
       "       [-5.29925110e-03, -1.78237763e-02,  5.53629651e-03],\n",
       "       [-4.69826663e-03,  1.04972935e-02,  1.97457974e-03],\n",
       "       [ 6.12001318e-03, -2.33355473e-02,  2.86630055e-04],\n",
       "       [ 1.80273270e-03, -3.62397838e-03, -3.45487744e-03],\n",
       "       [-9.98161442e-03, -2.10126172e-03,  7.10118077e-04],\n",
       "       [ 8.96664548e-04, -4.30464447e-04,  2.00589400e-03],\n",
       "       [-4.39695355e-03,  2.07960602e-02, -1.94596619e-03],\n",
       "       [ 4.71689206e-03,  5.65188096e-03, -2.71563316e-04],\n",
       "       [ 1.64840868e-02,  2.09897698e-03, -8.76208243e-03],\n",
       "       [-2.94658227e-03,  8.37031089e-03, -4.35527049e-03],\n",
       "       [-8.81177967e-03,  4.01524412e-03, -3.33997992e-03],\n",
       "       [-1.26633208e-02,  5.79217418e-03,  4.80170380e-04],\n",
       "       [-5.68176751e-03, -1.50170689e-02,  9.34383297e-04],\n",
       "       [ 2.78947874e-03, -5.54869783e-03,  2.20281310e-03],\n",
       "       [ 1.71372810e-02, -5.69137289e-03, -3.43960607e-03],\n",
       "       [ 5.32894975e-03,  1.28695651e-02, -2.81065581e-04],\n",
       "       [ 1.03435012e-02,  6.07326004e-04, -4.87109234e-03],\n",
       "       [-1.56870392e-02,  1.20176732e-03,  1.12558430e-03],\n",
       "       [-3.00198527e-02, -7.32774885e-03,  4.67224320e-03],\n",
       "       [-2.47216089e-02,  1.54702079e-02, -5.51843860e-03],\n",
       "       [ 1.80789804e-02,  2.78354416e-03,  1.38941896e-03],\n",
       "       [ 1.66797902e-03,  5.64907814e-04, -3.07216503e-04],\n",
       "       [ 2.60260058e-02, -1.28650458e-02,  4.20242340e-03],\n",
       "       [-1.09064106e-02, -6.18579437e-04,  2.14783937e-03],\n",
       "       [-7.61932333e-03, -4.93354783e-03, -6.11375010e-04],\n",
       "       [ 4.92129646e-03, -4.34842746e-03,  1.17910579e-03],\n",
       "       [ 2.39037223e-02, -2.24567899e-02,  8.98388201e-03],\n",
       "       [-6.08986712e-03,  9.62019930e-03, -3.60861684e-03],\n",
       "       [ 1.82038142e-02,  7.74459068e-03, -5.11288084e-03],\n",
       "       [-3.15459181e-03, -6.19875500e-03,  3.89422105e-03],\n",
       "       [ 7.17381314e-05,  9.45552913e-03, -8.45042810e-03],\n",
       "       [ 9.86545775e-03,  5.32250362e-03, -6.27263127e-03],\n",
       "       [-4.08438454e-03, -1.96768529e-03, -2.43711603e-03],\n",
       "       [ 2.12417948e-04, -1.48231785e-02,  2.61501429e-03],\n",
       "       [-2.22194090e-03,  1.28730321e-03,  5.57450205e-04],\n",
       "       [ 1.18079669e-02,  4.06862687e-04, -5.07155080e-03],\n",
       "       [-5.00911043e-03,  7.17404041e-03, -1.84025585e-04],\n",
       "       [-2.88317409e-02,  7.27671954e-03,  3.72332838e-03],\n",
       "       [ 6.65620334e-03,  2.77430785e-03,  2.01713943e-03]])"
      ]
     },
     "execution_count": 66,
     "metadata": {},
     "output_type": "execute_result"
    }
   ],
   "source": [
    "# select first 3 principal components\n",
    "pca_tranfered = np.dot(sorted_eigenvectors[:,:3].transpose(),rt_meaned.transpose()).transpose()\n",
    "pca_tranfered"
   ]
  },
  {
   "cell_type": "code",
   "execution_count": 67,
   "metadata": {
    "id": "ZhI9IC90BgOU"
   },
   "outputs": [],
   "source": [
    "# Create a regular PCA model \n",
    "from sklearn.decomposition import PCA\n",
    "\n",
    "pca = PCA(n_components=11)\n",
    "\n",
    "transformed_data_2019 =  pca.fit_transform( spdr_etf_rtns[start_date2019:end_date2019] )\n",
    "transformed_data_2019 = pd.DataFrame(transformed_data_2019)"
   ]
  },
  {
   "cell_type": "code",
   "execution_count": 68,
   "metadata": {},
   "outputs": [
    {
     "data": {
      "text/html": [
       "<div>\n",
       "<style scoped>\n",
       "    .dataframe tbody tr th:only-of-type {\n",
       "        vertical-align: middle;\n",
       "    }\n",
       "\n",
       "    .dataframe tbody tr th {\n",
       "        vertical-align: top;\n",
       "    }\n",
       "\n",
       "    .dataframe thead th {\n",
       "        text-align: right;\n",
       "    }\n",
       "</style>\n",
       "<table border=\"1\" class=\"dataframe\">\n",
       "  <thead>\n",
       "    <tr style=\"text-align: right;\">\n",
       "      <th></th>\n",
       "      <th>0</th>\n",
       "      <th>1</th>\n",
       "      <th>2</th>\n",
       "      <th>3</th>\n",
       "      <th>4</th>\n",
       "      <th>5</th>\n",
       "      <th>6</th>\n",
       "      <th>7</th>\n",
       "      <th>8</th>\n",
       "      <th>9</th>\n",
       "      <th>10</th>\n",
       "    </tr>\n",
       "  </thead>\n",
       "  <tbody>\n",
       "    <tr>\n",
       "      <th>0</th>\n",
       "      <td>0.009744</td>\n",
       "      <td>0.037536</td>\n",
       "      <td>-0.008949</td>\n",
       "      <td>0.003327</td>\n",
       "      <td>0.009484</td>\n",
       "      <td>0.008958</td>\n",
       "      <td>0.000891</td>\n",
       "      <td>0.008915</td>\n",
       "      <td>-0.000621</td>\n",
       "      <td>0.000172</td>\n",
       "      <td>0.002011</td>\n",
       "    </tr>\n",
       "    <tr>\n",
       "      <th>1</th>\n",
       "      <td>-0.073996</td>\n",
       "      <td>-0.001757</td>\n",
       "      <td>0.014602</td>\n",
       "      <td>0.021008</td>\n",
       "      <td>0.008601</td>\n",
       "      <td>0.008189</td>\n",
       "      <td>-0.013071</td>\n",
       "      <td>0.006625</td>\n",
       "      <td>-0.006539</td>\n",
       "      <td>-0.000623</td>\n",
       "      <td>0.002518</td>\n",
       "    </tr>\n",
       "    <tr>\n",
       "      <th>2</th>\n",
       "      <td>0.104881</td>\n",
       "      <td>-0.007591</td>\n",
       "      <td>-0.002249</td>\n",
       "      <td>-0.001012</td>\n",
       "      <td>-0.002786</td>\n",
       "      <td>0.001752</td>\n",
       "      <td>0.002038</td>\n",
       "      <td>0.008990</td>\n",
       "      <td>0.004594</td>\n",
       "      <td>0.001646</td>\n",
       "      <td>-0.000142</td>\n",
       "    </tr>\n",
       "    <tr>\n",
       "      <th>3</th>\n",
       "      <td>0.023417</td>\n",
       "      <td>0.004767</td>\n",
       "      <td>-0.006010</td>\n",
       "      <td>0.008299</td>\n",
       "      <td>0.009015</td>\n",
       "      <td>-0.006841</td>\n",
       "      <td>-0.003101</td>\n",
       "      <td>-0.002913</td>\n",
       "      <td>-0.009191</td>\n",
       "      <td>0.003015</td>\n",
       "      <td>0.010714</td>\n",
       "    </tr>\n",
       "    <tr>\n",
       "      <th>4</th>\n",
       "      <td>0.027681</td>\n",
       "      <td>-0.016713</td>\n",
       "      <td>0.003086</td>\n",
       "      <td>0.005843</td>\n",
       "      <td>0.007709</td>\n",
       "      <td>-0.003821</td>\n",
       "      <td>-0.002146</td>\n",
       "      <td>0.005276</td>\n",
       "      <td>0.002042</td>\n",
       "      <td>0.005537</td>\n",
       "      <td>0.001193</td>\n",
       "    </tr>\n",
       "    <tr>\n",
       "      <th>...</th>\n",
       "      <td>...</td>\n",
       "      <td>...</td>\n",
       "      <td>...</td>\n",
       "      <td>...</td>\n",
       "      <td>...</td>\n",
       "      <td>...</td>\n",
       "      <td>...</td>\n",
       "      <td>...</td>\n",
       "      <td>...</td>\n",
       "      <td>...</td>\n",
       "      <td>...</td>\n",
       "    </tr>\n",
       "    <tr>\n",
       "      <th>247</th>\n",
       "      <td>-0.002455</td>\n",
       "      <td>-0.000751</td>\n",
       "      <td>0.000394</td>\n",
       "      <td>-0.000025</td>\n",
       "      <td>0.000806</td>\n",
       "      <td>0.002065</td>\n",
       "      <td>0.000305</td>\n",
       "      <td>0.000220</td>\n",
       "      <td>-0.001375</td>\n",
       "      <td>-0.004254</td>\n",
       "      <td>0.002173</td>\n",
       "    </tr>\n",
       "    <tr>\n",
       "      <th>248</th>\n",
       "      <td>0.011583</td>\n",
       "      <td>-0.003966</td>\n",
       "      <td>-0.005517</td>\n",
       "      <td>-0.001617</td>\n",
       "      <td>0.006090</td>\n",
       "      <td>0.001173</td>\n",
       "      <td>-0.001121</td>\n",
       "      <td>-0.001535</td>\n",
       "      <td>-0.001111</td>\n",
       "      <td>-0.002536</td>\n",
       "      <td>0.005843</td>\n",
       "    </tr>\n",
       "    <tr>\n",
       "      <th>249</th>\n",
       "      <td>-0.006232</td>\n",
       "      <td>-0.006287</td>\n",
       "      <td>0.000604</td>\n",
       "      <td>0.000536</td>\n",
       "      <td>0.000222</td>\n",
       "      <td>0.000687</td>\n",
       "      <td>0.001651</td>\n",
       "      <td>-0.001461</td>\n",
       "      <td>-0.002559</td>\n",
       "      <td>0.001742</td>\n",
       "      <td>-0.001116</td>\n",
       "    </tr>\n",
       "    <tr>\n",
       "      <th>250</th>\n",
       "      <td>-0.030777</td>\n",
       "      <td>-0.008127</td>\n",
       "      <td>-0.007494</td>\n",
       "      <td>-0.020618</td>\n",
       "      <td>0.004816</td>\n",
       "      <td>0.002385</td>\n",
       "      <td>-0.001925</td>\n",
       "      <td>-0.003307</td>\n",
       "      <td>0.004995</td>\n",
       "      <td>-0.000572</td>\n",
       "      <td>0.000065</td>\n",
       "    </tr>\n",
       "    <tr>\n",
       "      <th>251</th>\n",
       "      <td>0.006665</td>\n",
       "      <td>-0.002456</td>\n",
       "      <td>0.005320</td>\n",
       "      <td>0.002007</td>\n",
       "      <td>0.001637</td>\n",
       "      <td>-0.002689</td>\n",
       "      <td>-0.000899</td>\n",
       "      <td>0.001132</td>\n",
       "      <td>0.001518</td>\n",
       "      <td>-0.005778</td>\n",
       "      <td>0.001098</td>\n",
       "    </tr>\n",
       "  </tbody>\n",
       "</table>\n",
       "<p>252 rows × 11 columns</p>\n",
       "</div>"
      ],
      "text/plain": [
       "           0         1         2         3         4         5         6   \\\n",
       "0    0.009744  0.037536 -0.008949  0.003327  0.009484  0.008958  0.000891   \n",
       "1   -0.073996 -0.001757  0.014602  0.021008  0.008601  0.008189 -0.013071   \n",
       "2    0.104881 -0.007591 -0.002249 -0.001012 -0.002786  0.001752  0.002038   \n",
       "3    0.023417  0.004767 -0.006010  0.008299  0.009015 -0.006841 -0.003101   \n",
       "4    0.027681 -0.016713  0.003086  0.005843  0.007709 -0.003821 -0.002146   \n",
       "..        ...       ...       ...       ...       ...       ...       ...   \n",
       "247 -0.002455 -0.000751  0.000394 -0.000025  0.000806  0.002065  0.000305   \n",
       "248  0.011583 -0.003966 -0.005517 -0.001617  0.006090  0.001173 -0.001121   \n",
       "249 -0.006232 -0.006287  0.000604  0.000536  0.000222  0.000687  0.001651   \n",
       "250 -0.030777 -0.008127 -0.007494 -0.020618  0.004816  0.002385 -0.001925   \n",
       "251  0.006665 -0.002456  0.005320  0.002007  0.001637 -0.002689 -0.000899   \n",
       "\n",
       "           7         8         9         10  \n",
       "0    0.008915 -0.000621  0.000172  0.002011  \n",
       "1    0.006625 -0.006539 -0.000623  0.002518  \n",
       "2    0.008990  0.004594  0.001646 -0.000142  \n",
       "3   -0.002913 -0.009191  0.003015  0.010714  \n",
       "4    0.005276  0.002042  0.005537  0.001193  \n",
       "..        ...       ...       ...       ...  \n",
       "247  0.000220 -0.001375 -0.004254  0.002173  \n",
       "248 -0.001535 -0.001111 -0.002536  0.005843  \n",
       "249 -0.001461 -0.002559  0.001742 -0.001116  \n",
       "250 -0.003307  0.004995 -0.000572  0.000065  \n",
       "251  0.001132  0.001518 -0.005778  0.001098  \n",
       "\n",
       "[252 rows x 11 columns]"
      ]
     },
     "execution_count": 68,
     "metadata": {},
     "output_type": "execute_result"
    }
   ],
   "source": [
    "transformed_data_2019"
   ]
  },
  {
   "cell_type": "code",
   "execution_count": 69,
   "metadata": {
    "colab": {
     "base_uri": "https://localhost:8080/",
     "height": 206
    },
    "id": "-PWDU37dXKeZ",
    "outputId": "b4a9efdf-b890-4e7b-9714-dc3085abfdab"
   },
   "outputs": [
    {
     "data": {
      "text/html": [
       "<div>\n",
       "<style scoped>\n",
       "    .dataframe tbody tr th:only-of-type {\n",
       "        vertical-align: middle;\n",
       "    }\n",
       "\n",
       "    .dataframe tbody tr th {\n",
       "        vertical-align: top;\n",
       "    }\n",
       "\n",
       "    .dataframe thead th {\n",
       "        text-align: right;\n",
       "    }\n",
       "</style>\n",
       "<table border=\"1\" class=\"dataframe\">\n",
       "  <thead>\n",
       "    <tr style=\"text-align: right;\">\n",
       "      <th></th>\n",
       "      <th>0</th>\n",
       "      <th>1</th>\n",
       "      <th>2</th>\n",
       "    </tr>\n",
       "  </thead>\n",
       "  <tbody>\n",
       "    <tr>\n",
       "      <th>0</th>\n",
       "      <td>0.009744</td>\n",
       "      <td>0.037536</td>\n",
       "      <td>-0.008949</td>\n",
       "    </tr>\n",
       "    <tr>\n",
       "      <th>1</th>\n",
       "      <td>-0.073996</td>\n",
       "      <td>-0.001757</td>\n",
       "      <td>0.014602</td>\n",
       "    </tr>\n",
       "    <tr>\n",
       "      <th>2</th>\n",
       "      <td>0.104881</td>\n",
       "      <td>-0.007591</td>\n",
       "      <td>-0.002249</td>\n",
       "    </tr>\n",
       "    <tr>\n",
       "      <th>3</th>\n",
       "      <td>0.023417</td>\n",
       "      <td>0.004767</td>\n",
       "      <td>-0.006010</td>\n",
       "    </tr>\n",
       "    <tr>\n",
       "      <th>4</th>\n",
       "      <td>0.027681</td>\n",
       "      <td>-0.016713</td>\n",
       "      <td>0.003086</td>\n",
       "    </tr>\n",
       "  </tbody>\n",
       "</table>\n",
       "</div>"
      ],
      "text/plain": [
       "          0         1         2\n",
       "0  0.009744  0.037536 -0.008949\n",
       "1 -0.073996 -0.001757  0.014602\n",
       "2  0.104881 -0.007591 -0.002249\n",
       "3  0.023417  0.004767 -0.006010\n",
       "4  0.027681 -0.016713  0.003086"
      ]
     },
     "execution_count": 69,
     "metadata": {},
     "output_type": "execute_result"
    }
   ],
   "source": [
    "return_ptf = transformed_data_2019.iloc[:,:3]\n",
    "\n",
    "return_ptf.head()"
   ]
  },
  {
   "cell_type": "code",
   "execution_count": 70,
   "metadata": {
    "id": "Ceeg5TBNSE8l"
   },
   "outputs": [],
   "source": [
    "def annual_return(df):\n",
    "  ''' \n",
    "  purpose of this function is to calculate the annual return from the daily returns\n",
    "  Note that we assume df contains one year data\n",
    "  '''\n",
    "    df = df + 1\n",
    "\n",
    "    prod_df = df.iloc[0,:]\n",
    "\n",
    "    for i in range(1,len(df)):\n",
    "        prod_df = prod_df * df.iloc[i,:]\n",
    "\n",
    "return (prod_df - 1)"
   ]
  },
  {
   "cell_type": "code",
   "execution_count": 71,
   "metadata": {
    "id": "XloEezxaAKQ6"
   },
   "outputs": [],
   "source": [
    "# Finding the Optimal Portfolio\n",
    "mu0 = annual_return(return_ptf)\n",
    "S0 = return_ptf.cov()*250\n",
    "selected_risk = 0.40\n",
    "\n",
    "ef = EfficientFrontier(mu0, S0, weight_bounds=(-1, 1))\n",
    "raw_weights = ef.efficient_risk(target_volatility=selected_risk)  "
   ]
  },
  {
   "cell_type": "code",
   "execution_count": 72,
   "metadata": {
    "id": "XloEezxaAKQ6"
   },
   "outputs": [],
   "source": [
    "  # # Finding the Optimal Portfolio\n",
    "  # mu0 = annual_return(pd.DataFrame(pca_tranfered))\n",
    "  # S0 = pd.DataFrame(pca_tranfered).cov()*250\n",
    "  # selected_risk = 0.40\n",
    "\n",
    "  # ef = EfficientFrontier(mu0, S0, weight_bounds=(-1, 1))\n",
    "  # raw_weights = ef.efficient_risk(target_volatility=selected_risk)  "
   ]
  },
  {
   "cell_type": "markdown",
   "metadata": {
    "id": "j_CncCFUZR4n"
   },
   "source": [
    "## 7.3 PCA Portfolio Returns and EF"
   ]
  },
  {
   "cell_type": "code",
   "execution_count": 73,
   "metadata": {
    "colab": {
     "base_uri": "https://localhost:8080/"
    },
    "id": "8-U_MVioQ_zU",
    "outputId": "a5860246-10ee-4cba-bbdf-d4fdad35a1ec"
   },
   "outputs": [
    {
     "name": "stdout",
     "output_type": "stream",
     "text": [
      "Expected annual return: 4.6%\n",
      "Annual volatility: 40.0%\n",
      "Sharpe Ratio: 0.07\n"
     ]
    }
   ],
   "source": [
    "ptf_performance = ef.portfolio_performance(verbose=True)"
   ]
  },
  {
   "cell_type": "markdown",
   "metadata": {
    "id": "RjxtE8pEZbqn"
   },
   "source": [
    "## 7.4 & 7.5 PCA Analysis of 2020 Data"
   ]
  },
  {
   "cell_type": "code",
   "execution_count": 74,
   "metadata": {
    "id": "rtFoAOwsBvO4"
   },
   "outputs": [],
   "source": [
    "pca_2 = PCA(n_components=11)\n",
    "\n",
    "transformed_data_2020 =  pca_2.fit_transform( spdr_etf_rtns[start_date2020:end_date2020] )\n",
    "transformed_data_2020 = pd.DataFrame(transformed_data_2020)"
   ]
  },
  {
   "cell_type": "code",
   "execution_count": 76,
   "metadata": {
    "colab": {
     "base_uri": "https://localhost:8080/",
     "height": 206
    },
    "id": "rGl0_ghgDWJ8",
    "outputId": "f1eed7f7-96f6-49e2-9bcd-3ffdddacdaf7"
   },
   "outputs": [
    {
     "data": {
      "text/html": [
       "<div>\n",
       "<style scoped>\n",
       "    .dataframe tbody tr th:only-of-type {\n",
       "        vertical-align: middle;\n",
       "    }\n",
       "\n",
       "    .dataframe tbody tr th {\n",
       "        vertical-align: top;\n",
       "    }\n",
       "\n",
       "    .dataframe thead th {\n",
       "        text-align: right;\n",
       "    }\n",
       "</style>\n",
       "<table border=\"1\" class=\"dataframe\">\n",
       "  <thead>\n",
       "    <tr style=\"text-align: right;\">\n",
       "      <th></th>\n",
       "      <th>0</th>\n",
       "      <th>1</th>\n",
       "      <th>2</th>\n",
       "    </tr>\n",
       "  </thead>\n",
       "  <tbody>\n",
       "    <tr>\n",
       "      <th>0</th>\n",
       "      <td>-0.011978</td>\n",
       "      <td>0.007908</td>\n",
       "      <td>0.027181</td>\n",
       "    </tr>\n",
       "    <tr>\n",
       "      <th>1</th>\n",
       "      <td>0.018787</td>\n",
       "      <td>0.004239</td>\n",
       "      <td>-0.014011</td>\n",
       "    </tr>\n",
       "    <tr>\n",
       "      <th>2</th>\n",
       "      <td>-0.007352</td>\n",
       "      <td>0.001392</td>\n",
       "      <td>0.006694</td>\n",
       "    </tr>\n",
       "    <tr>\n",
       "      <th>3</th>\n",
       "      <td>0.011968</td>\n",
       "      <td>0.003441</td>\n",
       "      <td>0.004754</td>\n",
       "    </tr>\n",
       "    <tr>\n",
       "      <th>4</th>\n",
       "      <td>-0.005140</td>\n",
       "      <td>-0.017858</td>\n",
       "      <td>0.003666</td>\n",
       "    </tr>\n",
       "  </tbody>\n",
       "</table>\n",
       "</div>"
      ],
      "text/plain": [
       "          0         1         2\n",
       "0 -0.011978  0.007908  0.027181\n",
       "1  0.018787  0.004239 -0.014011\n",
       "2 -0.007352  0.001392  0.006694\n",
       "3  0.011968  0.003441  0.004754\n",
       "4 -0.005140 -0.017858  0.003666"
      ]
     },
     "execution_count": 76,
     "metadata": {},
     "output_type": "execute_result"
    }
   ],
   "source": [
    "return_ptf = transformed_data_2020.iloc[:,:3]\n",
    "\n",
    "return_ptf.head()"
   ]
  },
  {
   "cell_type": "code",
   "execution_count": 77,
   "metadata": {
    "id": "Rw1pnB8QHHyN"
   },
   "outputs": [],
   "source": [
    "# Finding the Optimal Portfolio\n",
    "mu0 = annual_return(return_ptf)\n",
    "S0 = return_ptf.cov()*250\n",
    "selected_risk = 0.40\n",
    "\n",
    "ef_2 = EfficientFrontier(mu0, S0, weight_bounds=(-1, 1))\n",
    "raw_weights = ef_2.efficient_risk(target_volatility=selected_risk)  "
   ]
  },
  {
   "cell_type": "code",
   "execution_count": 78,
   "metadata": {
    "colab": {
     "base_uri": "https://localhost:8080/"
    },
    "id": "jKcXGXKIHS96",
    "outputId": "285ffb5a-e9e7-4920-ee93-e5008ccfa601",
    "scrolled": true
   },
   "outputs": [
    {
     "name": "stdout",
     "output_type": "stream",
     "text": [
      "Expected annual return: 7.3%\n",
      "Annual volatility: 40.0%\n",
      "Sharpe Ratio: 0.13\n"
     ]
    }
   ],
   "source": [
    "ptf_performance = ef_2.portfolio_performance(verbose=True)"
   ]
  }
 ],
 "metadata": {
  "colab": {
   "name": "Copy of Copy of 640_GWP2_v00.ipynb",
   "provenance": []
  },
  "interpreter": {
   "hash": "cbbebafa7f37b17be21c64353fa3baff2563cc2b5ea21c31a0a650d4dbf4c8c6"
  },
  "kernelspec": {
   "display_name": "Python 3",
   "language": "python",
   "name": "python3"
  },
  "language_info": {
   "codemirror_mode": {
    "name": "ipython",
    "version": 3
   },
   "file_extension": ".py",
   "mimetype": "text/x-python",
   "name": "python",
   "nbconvert_exporter": "python",
   "pygments_lexer": "ipython3",
   "version": "3.9.9"
  }
 },
 "nbformat": 4,
 "nbformat_minor": 2
}
